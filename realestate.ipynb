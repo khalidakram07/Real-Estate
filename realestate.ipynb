{
  "nbformat": 4,
  "nbformat_minor": 0,
  "metadata": {
    "colab": {
      "name": "realestate.ipynb",
      "provenance": [],
      "collapsed_sections": [],
      "toc_visible": true
    },
    "kernelspec": {
      "display_name": "Python 3",
      "name": "python3"
    },
    "language_info": {
      "name": "python"
    },
    "accelerator": "GPU"
  },
  "cells": [
    {
      "cell_type": "code",
      "metadata": {
        "id": "LzlRZpNVxUtD"
      },
      "source": [
        "#1\n",
        "import numpy as np\n",
        "from sklearn.model_selection import train_test_split"
      ],
      "execution_count": 97,
      "outputs": []
    },
    {
      "cell_type": "code",
      "metadata": {
        "id": "mmXJcB9LyFoq"
      },
      "source": [
        "#2\n",
        "!pip install -U -q PyDrive\n",
        "import pandas as pd\n",
        "\n",
        "from pydrive.auth import GoogleAuth\n",
        "from pydrive.drive import GoogleDrive\n",
        "from google.colab import auth\n",
        "from oauth2client.client import GoogleCredentials\n",
        "auth.authenticate_user()\n",
        "gauth = GoogleAuth()\n",
        "gauth.credentials = GoogleCredentials.get_application_default()\n",
        "drive = GoogleDrive(gauth)\n",
        "downloaded = drive.CreateFile({'id': \"1jnd9kqvJaIuAIP0S1biVHrGMq_mK3GzO\"}) \n",
        "downloaded.GetContentFile('apartments_for_rent_classified_10K.xlsx')  \n",
        "#df = pd.read_csv('apartments_for_rent_classified_10K.xlsx')"
      ],
      "execution_count": 98,
      "outputs": []
    },
    {
      "cell_type": "markdown",
      "metadata": {
        "id": "PcdXA4P1cfqI"
      },
      "source": [
        "# EDA"
      ]
    },
    {
      "cell_type": "code",
      "metadata": {
        "id": "_XUCsF7zSPsT",
        "colab": {
          "base_uri": "https://localhost:8080/",
          "height": 602
        },
        "outputId": "77bb56f7-003b-40a6-930d-8104be0fea2f"
      },
      "source": [
        "#3\n",
        "from pandas import read_excel\n",
        "my_sheet = 'apartments_for_rent_classif (2)' # change it to your sheet name, you can find your sheet name at the bottom left of your excel file\n",
        "file_name = 'apartments_for_rent_classified_10K.xlsx' # change it to the name of your excel file\n",
        "df = read_excel(file_name, sheet_name = my_sheet)\n",
        "df.head() # shows headers with top 5 rows"
      ],
      "execution_count": 99,
      "outputs": [
        {
          "output_type": "execute_result",
          "data": {
            "text/html": [
              "<div>\n",
              "<style scoped>\n",
              "    .dataframe tbody tr th:only-of-type {\n",
              "        vertical-align: middle;\n",
              "    }\n",
              "\n",
              "    .dataframe tbody tr th {\n",
              "        vertical-align: top;\n",
              "    }\n",
              "\n",
              "    .dataframe thead th {\n",
              "        text-align: right;\n",
              "    }\n",
              "</style>\n",
              "<table border=\"1\" class=\"dataframe\">\n",
              "  <thead>\n",
              "    <tr style=\"text-align: right;\">\n",
              "      <th></th>\n",
              "      <th>id</th>\n",
              "      <th>category</th>\n",
              "      <th>title</th>\n",
              "      <th>body</th>\n",
              "      <th>amenities</th>\n",
              "      <th>bathrooms</th>\n",
              "      <th>bedrooms</th>\n",
              "      <th>currency</th>\n",
              "      <th>fee</th>\n",
              "      <th>has_photo</th>\n",
              "      <th>pets_allowed</th>\n",
              "      <th>price</th>\n",
              "      <th>price_display</th>\n",
              "      <th>price_type</th>\n",
              "      <th>square_feet</th>\n",
              "      <th>address</th>\n",
              "      <th>cityname</th>\n",
              "      <th>state</th>\n",
              "      <th>latitude</th>\n",
              "      <th>longitude</th>\n",
              "      <th>source</th>\n",
              "      <th>time</th>\n",
              "    </tr>\n",
              "  </thead>\n",
              "  <tbody>\n",
              "    <tr>\n",
              "      <th>0</th>\n",
              "      <td>5668626895</td>\n",
              "      <td>housing/rent/apartment</td>\n",
              "      <td>Studio apartment 2nd St NE, Uhland Terrace NE,...</td>\n",
              "      <td>This unit is located at second St NE, Uhland T...</td>\n",
              "      <td>NaN</td>\n",
              "      <td>NaN</td>\n",
              "      <td>0.0</td>\n",
              "      <td>USD</td>\n",
              "      <td>No</td>\n",
              "      <td>Thumbnail</td>\n",
              "      <td>None</td>\n",
              "      <td>790</td>\n",
              "      <td>$790</td>\n",
              "      <td>Monthly</td>\n",
              "      <td>101</td>\n",
              "      <td>NaN</td>\n",
              "      <td>Washington</td>\n",
              "      <td>DC</td>\n",
              "      <td>38.9057</td>\n",
              "      <td>-76.9861</td>\n",
              "      <td>RentLingo</td>\n",
              "      <td>1577359415</td>\n",
              "    </tr>\n",
              "    <tr>\n",
              "      <th>1</th>\n",
              "      <td>5664597177</td>\n",
              "      <td>housing/rent/apartment</td>\n",
              "      <td>Studio apartment 814 Schutte Road</td>\n",
              "      <td>This unit is located at 814 Schutte Road, Evan...</td>\n",
              "      <td>NaN</td>\n",
              "      <td>NaN</td>\n",
              "      <td>1.0</td>\n",
              "      <td>USD</td>\n",
              "      <td>No</td>\n",
              "      <td>Thumbnail</td>\n",
              "      <td>None</td>\n",
              "      <td>425</td>\n",
              "      <td>$425</td>\n",
              "      <td>Monthly</td>\n",
              "      <td>106</td>\n",
              "      <td>814 Schutte Rd</td>\n",
              "      <td>Evansville</td>\n",
              "      <td>IN</td>\n",
              "      <td>37.9680</td>\n",
              "      <td>-87.6621</td>\n",
              "      <td>RentLingo</td>\n",
              "      <td>1577017063</td>\n",
              "    </tr>\n",
              "    <tr>\n",
              "      <th>2</th>\n",
              "      <td>5668626833</td>\n",
              "      <td>housing/rent/apartment</td>\n",
              "      <td>Studio apartment N Scott St, 14th St N, Arling...</td>\n",
              "      <td>This unit is located at N Scott St, 14th St N,...</td>\n",
              "      <td>NaN</td>\n",
              "      <td>1.0</td>\n",
              "      <td>0.0</td>\n",
              "      <td>USD</td>\n",
              "      <td>No</td>\n",
              "      <td>Thumbnail</td>\n",
              "      <td>None</td>\n",
              "      <td>1390</td>\n",
              "      <td>$1,390</td>\n",
              "      <td>Monthly</td>\n",
              "      <td>107</td>\n",
              "      <td>NaN</td>\n",
              "      <td>Arlington</td>\n",
              "      <td>VA</td>\n",
              "      <td>38.8910</td>\n",
              "      <td>-77.0816</td>\n",
              "      <td>RentLingo</td>\n",
              "      <td>1577359410</td>\n",
              "    </tr>\n",
              "    <tr>\n",
              "      <th>3</th>\n",
              "      <td>5659918074</td>\n",
              "      <td>housing/rent/apartment</td>\n",
              "      <td>Studio apartment 1717 12th Ave</td>\n",
              "      <td>This unit is located at 1717 12th Ave, Seattle...</td>\n",
              "      <td>NaN</td>\n",
              "      <td>1.0</td>\n",
              "      <td>0.0</td>\n",
              "      <td>USD</td>\n",
              "      <td>No</td>\n",
              "      <td>Thumbnail</td>\n",
              "      <td>None</td>\n",
              "      <td>925</td>\n",
              "      <td>$925</td>\n",
              "      <td>Monthly</td>\n",
              "      <td>116</td>\n",
              "      <td>1717 12th Avenue</td>\n",
              "      <td>Seattle</td>\n",
              "      <td>WA</td>\n",
              "      <td>47.6160</td>\n",
              "      <td>-122.3275</td>\n",
              "      <td>RentLingo</td>\n",
              "      <td>1576667743</td>\n",
              "    </tr>\n",
              "    <tr>\n",
              "      <th>4</th>\n",
              "      <td>5668626759</td>\n",
              "      <td>housing/rent/apartment</td>\n",
              "      <td>Studio apartment Washington Blvd, N Cleveland ...</td>\n",
              "      <td>This unit is located at Washington Blvd, N Cle...</td>\n",
              "      <td>NaN</td>\n",
              "      <td>NaN</td>\n",
              "      <td>0.0</td>\n",
              "      <td>USD</td>\n",
              "      <td>No</td>\n",
              "      <td>Thumbnail</td>\n",
              "      <td>None</td>\n",
              "      <td>880</td>\n",
              "      <td>$880</td>\n",
              "      <td>Monthly</td>\n",
              "      <td>125</td>\n",
              "      <td>NaN</td>\n",
              "      <td>Arlington</td>\n",
              "      <td>VA</td>\n",
              "      <td>38.8738</td>\n",
              "      <td>-77.1055</td>\n",
              "      <td>RentLingo</td>\n",
              "      <td>1577359401</td>\n",
              "    </tr>\n",
              "  </tbody>\n",
              "</table>\n",
              "</div>"
            ],
            "text/plain": [
              "           id                category  ...     source        time\n",
              "0  5668626895  housing/rent/apartment  ...  RentLingo  1577359415\n",
              "1  5664597177  housing/rent/apartment  ...  RentLingo  1577017063\n",
              "2  5668626833  housing/rent/apartment  ...  RentLingo  1577359410\n",
              "3  5659918074  housing/rent/apartment  ...  RentLingo  1576667743\n",
              "4  5668626759  housing/rent/apartment  ...  RentLingo  1577359401\n",
              "\n",
              "[5 rows x 22 columns]"
            ]
          },
          "metadata": {
            "tags": []
          },
          "execution_count": 99
        }
      ]
    },
    {
      "cell_type": "markdown",
      "metadata": {
        "id": "RcSdVhDf5p0M"
      },
      "source": [
        "# **STEP 2: Finding missing data**\n"
      ]
    },
    {
      "cell_type": "code",
      "metadata": {
        "id": "uzptIbwF6NZM",
        "colab": {
          "base_uri": "https://localhost:8080/"
        },
        "outputId": "f78a6756-8a73-4260-c3f2-a23860f021df"
      },
      "source": [
        "#4\n",
        "df.isnull().sum()"
      ],
      "execution_count": 100,
      "outputs": [
        {
          "output_type": "execute_result",
          "data": {
            "text/plain": [
              "id                  0\n",
              "category            0\n",
              "title               0\n",
              "body                0\n",
              "amenities        3549\n",
              "bathrooms          34\n",
              "bedrooms            7\n",
              "currency            0\n",
              "fee                 0\n",
              "has_photo           0\n",
              "pets_allowed     1748\n",
              "price               0\n",
              "price_display       0\n",
              "price_type          0\n",
              "square_feet         0\n",
              "address          3327\n",
              "cityname           77\n",
              "state              77\n",
              "latitude           10\n",
              "longitude          10\n",
              "source              0\n",
              "time                0\n",
              "dtype: int64"
            ]
          },
          "metadata": {
            "tags": []
          },
          "execution_count": 100
        }
      ]
    },
    {
      "cell_type": "markdown",
      "metadata": {
        "id": "--Zkta446Ulu"
      },
      "source": [
        "Using isnull().sum on dataframe object df we find all missing values. We have Amenities=3549,Bathrooms=33,Bedrooms, Pet_allowed=1745, address=3325, cityname=77, state=77, latitute=10,longitude=10.\n"
      ]
    },
    {
      "cell_type": "code",
      "metadata": {
        "id": "LxGiQ9fG7A4i",
        "colab": {
          "base_uri": "https://localhost:8080/"
        },
        "outputId": "b9267b93-7cf8-4e1f-9868-7b79ed58de86"
      },
      "source": [
        "#5\n",
        "#Total no of rows missing\n",
        "sum(df.isnull().any(axis=1))"
      ],
      "execution_count": 101,
      "outputs": [
        {
          "output_type": "execute_result",
          "data": {
            "text/plain": [
              "6457"
            ]
          },
          "metadata": {
            "tags": []
          },
          "execution_count": 101
        }
      ]
    },
    {
      "cell_type": "code",
      "metadata": {
        "id": "kPGF5z3T7hsY",
        "colab": {
          "base_uri": "https://localhost:8080/",
          "height": 1000
        },
        "outputId": "f2067586-593f-43cc-c9ea-5e397cb6e95a"
      },
      "source": [
        "#6\n",
        "#checking missing values in column amenities\n",
        "# creating bool series True for NaN values \n",
        "bool_series = pd.isnull(df[\"amenities\"]) \n",
        "\t\n",
        "# filtering data \n",
        "# displaying data only with amenities = NaN \n",
        "df[bool_series] \n"
      ],
      "execution_count": 102,
      "outputs": [
        {
          "output_type": "execute_result",
          "data": {
            "text/html": [
              "<div>\n",
              "<style scoped>\n",
              "    .dataframe tbody tr th:only-of-type {\n",
              "        vertical-align: middle;\n",
              "    }\n",
              "\n",
              "    .dataframe tbody tr th {\n",
              "        vertical-align: top;\n",
              "    }\n",
              "\n",
              "    .dataframe thead th {\n",
              "        text-align: right;\n",
              "    }\n",
              "</style>\n",
              "<table border=\"1\" class=\"dataframe\">\n",
              "  <thead>\n",
              "    <tr style=\"text-align: right;\">\n",
              "      <th></th>\n",
              "      <th>id</th>\n",
              "      <th>category</th>\n",
              "      <th>title</th>\n",
              "      <th>body</th>\n",
              "      <th>amenities</th>\n",
              "      <th>bathrooms</th>\n",
              "      <th>bedrooms</th>\n",
              "      <th>currency</th>\n",
              "      <th>fee</th>\n",
              "      <th>has_photo</th>\n",
              "      <th>pets_allowed</th>\n",
              "      <th>price</th>\n",
              "      <th>price_display</th>\n",
              "      <th>price_type</th>\n",
              "      <th>square_feet</th>\n",
              "      <th>address</th>\n",
              "      <th>cityname</th>\n",
              "      <th>state</th>\n",
              "      <th>latitude</th>\n",
              "      <th>longitude</th>\n",
              "      <th>source</th>\n",
              "      <th>time</th>\n",
              "    </tr>\n",
              "  </thead>\n",
              "  <tbody>\n",
              "    <tr>\n",
              "      <th>0</th>\n",
              "      <td>5668626895</td>\n",
              "      <td>housing/rent/apartment</td>\n",
              "      <td>Studio apartment 2nd St NE, Uhland Terrace NE,...</td>\n",
              "      <td>This unit is located at second St NE, Uhland T...</td>\n",
              "      <td>NaN</td>\n",
              "      <td>NaN</td>\n",
              "      <td>0.0</td>\n",
              "      <td>USD</td>\n",
              "      <td>No</td>\n",
              "      <td>Thumbnail</td>\n",
              "      <td>None</td>\n",
              "      <td>790</td>\n",
              "      <td>$790</td>\n",
              "      <td>Monthly</td>\n",
              "      <td>101</td>\n",
              "      <td>NaN</td>\n",
              "      <td>Washington</td>\n",
              "      <td>DC</td>\n",
              "      <td>38.9057</td>\n",
              "      <td>-76.9861</td>\n",
              "      <td>RentLingo</td>\n",
              "      <td>1577359415</td>\n",
              "    </tr>\n",
              "    <tr>\n",
              "      <th>1</th>\n",
              "      <td>5664597177</td>\n",
              "      <td>housing/rent/apartment</td>\n",
              "      <td>Studio apartment 814 Schutte Road</td>\n",
              "      <td>This unit is located at 814 Schutte Road, Evan...</td>\n",
              "      <td>NaN</td>\n",
              "      <td>NaN</td>\n",
              "      <td>1.0</td>\n",
              "      <td>USD</td>\n",
              "      <td>No</td>\n",
              "      <td>Thumbnail</td>\n",
              "      <td>None</td>\n",
              "      <td>425</td>\n",
              "      <td>$425</td>\n",
              "      <td>Monthly</td>\n",
              "      <td>106</td>\n",
              "      <td>814 Schutte Rd</td>\n",
              "      <td>Evansville</td>\n",
              "      <td>IN</td>\n",
              "      <td>37.9680</td>\n",
              "      <td>-87.6621</td>\n",
              "      <td>RentLingo</td>\n",
              "      <td>1577017063</td>\n",
              "    </tr>\n",
              "    <tr>\n",
              "      <th>2</th>\n",
              "      <td>5668626833</td>\n",
              "      <td>housing/rent/apartment</td>\n",
              "      <td>Studio apartment N Scott St, 14th St N, Arling...</td>\n",
              "      <td>This unit is located at N Scott St, 14th St N,...</td>\n",
              "      <td>NaN</td>\n",
              "      <td>1.0</td>\n",
              "      <td>0.0</td>\n",
              "      <td>USD</td>\n",
              "      <td>No</td>\n",
              "      <td>Thumbnail</td>\n",
              "      <td>None</td>\n",
              "      <td>1390</td>\n",
              "      <td>$1,390</td>\n",
              "      <td>Monthly</td>\n",
              "      <td>107</td>\n",
              "      <td>NaN</td>\n",
              "      <td>Arlington</td>\n",
              "      <td>VA</td>\n",
              "      <td>38.8910</td>\n",
              "      <td>-77.0816</td>\n",
              "      <td>RentLingo</td>\n",
              "      <td>1577359410</td>\n",
              "    </tr>\n",
              "    <tr>\n",
              "      <th>3</th>\n",
              "      <td>5659918074</td>\n",
              "      <td>housing/rent/apartment</td>\n",
              "      <td>Studio apartment 1717 12th Ave</td>\n",
              "      <td>This unit is located at 1717 12th Ave, Seattle...</td>\n",
              "      <td>NaN</td>\n",
              "      <td>1.0</td>\n",
              "      <td>0.0</td>\n",
              "      <td>USD</td>\n",
              "      <td>No</td>\n",
              "      <td>Thumbnail</td>\n",
              "      <td>None</td>\n",
              "      <td>925</td>\n",
              "      <td>$925</td>\n",
              "      <td>Monthly</td>\n",
              "      <td>116</td>\n",
              "      <td>1717 12th Avenue</td>\n",
              "      <td>Seattle</td>\n",
              "      <td>WA</td>\n",
              "      <td>47.6160</td>\n",
              "      <td>-122.3275</td>\n",
              "      <td>RentLingo</td>\n",
              "      <td>1576667743</td>\n",
              "    </tr>\n",
              "    <tr>\n",
              "      <th>4</th>\n",
              "      <td>5668626759</td>\n",
              "      <td>housing/rent/apartment</td>\n",
              "      <td>Studio apartment Washington Blvd, N Cleveland ...</td>\n",
              "      <td>This unit is located at Washington Blvd, N Cle...</td>\n",
              "      <td>NaN</td>\n",
              "      <td>NaN</td>\n",
              "      <td>0.0</td>\n",
              "      <td>USD</td>\n",
              "      <td>No</td>\n",
              "      <td>Thumbnail</td>\n",
              "      <td>None</td>\n",
              "      <td>880</td>\n",
              "      <td>$880</td>\n",
              "      <td>Monthly</td>\n",
              "      <td>125</td>\n",
              "      <td>NaN</td>\n",
              "      <td>Arlington</td>\n",
              "      <td>VA</td>\n",
              "      <td>38.8738</td>\n",
              "      <td>-77.1055</td>\n",
              "      <td>RentLingo</td>\n",
              "      <td>1577359401</td>\n",
              "    </tr>\n",
              "    <tr>\n",
              "      <th>...</th>\n",
              "      <td>...</td>\n",
              "      <td>...</td>\n",
              "      <td>...</td>\n",
              "      <td>...</td>\n",
              "      <td>...</td>\n",
              "      <td>...</td>\n",
              "      <td>...</td>\n",
              "      <td>...</td>\n",
              "      <td>...</td>\n",
              "      <td>...</td>\n",
              "      <td>...</td>\n",
              "      <td>...</td>\n",
              "      <td>...</td>\n",
              "      <td>...</td>\n",
              "      <td>...</td>\n",
              "      <td>...</td>\n",
              "      <td>...</td>\n",
              "      <td>...</td>\n",
              "      <td>...</td>\n",
              "      <td>...</td>\n",
              "      <td>...</td>\n",
              "      <td>...</td>\n",
              "    </tr>\n",
              "    <tr>\n",
              "      <th>9992</th>\n",
              "      <td>5659917503</td>\n",
              "      <td>housing/rent/apartment</td>\n",
              "      <td>Four BR 17595 Burl Oak Court</td>\n",
              "      <td>This unit is located at 17595 Burl Oak Court, ...</td>\n",
              "      <td>NaN</td>\n",
              "      <td>5.0</td>\n",
              "      <td>4.0</td>\n",
              "      <td>USD</td>\n",
              "      <td>No</td>\n",
              "      <td>Thumbnail</td>\n",
              "      <td>None</td>\n",
              "      <td>4500</td>\n",
              "      <td>$4,500</td>\n",
              "      <td>Monthly</td>\n",
              "      <td>5407</td>\n",
              "      <td>17595 Burl Oak CT</td>\n",
              "      <td>Eden Prairie</td>\n",
              "      <td>MN</td>\n",
              "      <td>44.8653</td>\n",
              "      <td>-93.4749</td>\n",
              "      <td>RentLingo</td>\n",
              "      <td>1576667692</td>\n",
              "    </tr>\n",
              "    <tr>\n",
              "      <th>9994</th>\n",
              "      <td>5664597657</td>\n",
              "      <td>housing/rent/apartment</td>\n",
              "      <td>Six BR 2536 W Canyon Ridge Rd.</td>\n",
              "      <td>This unit is located at 2536 W Canyon Ridge Rd...</td>\n",
              "      <td>NaN</td>\n",
              "      <td>4.0</td>\n",
              "      <td>6.0</td>\n",
              "      <td>USD</td>\n",
              "      <td>No</td>\n",
              "      <td>Thumbnail</td>\n",
              "      <td>None</td>\n",
              "      <td>3000</td>\n",
              "      <td>$3,000</td>\n",
              "      <td>Monthly</td>\n",
              "      <td>5921</td>\n",
              "      <td>2536 W Canyon Ridge Road</td>\n",
              "      <td>Saint George</td>\n",
              "      <td>UT</td>\n",
              "      <td>37.0835</td>\n",
              "      <td>-113.5823</td>\n",
              "      <td>RentLingo</td>\n",
              "      <td>1577017103</td>\n",
              "    </tr>\n",
              "    <tr>\n",
              "      <th>9995</th>\n",
              "      <td>5630240092</td>\n",
              "      <td>housing/rent/apartment</td>\n",
              "      <td>Five BR 5407 Abbott Place - Abbott</td>\n",
              "      <td>This unit is located at 5407 Abbott Place - Ab...</td>\n",
              "      <td>NaN</td>\n",
              "      <td>4.0</td>\n",
              "      <td>5.0</td>\n",
              "      <td>USD</td>\n",
              "      <td>No</td>\n",
              "      <td>Thumbnail</td>\n",
              "      <td>None</td>\n",
              "      <td>6000</td>\n",
              "      <td>$6,000</td>\n",
              "      <td>Monthly</td>\n",
              "      <td>6300</td>\n",
              "      <td>5407 Abbott Place  Abbott</td>\n",
              "      <td>Edina</td>\n",
              "      <td>MN</td>\n",
              "      <td>44.9000</td>\n",
              "      <td>-93.3233</td>\n",
              "      <td>RentLingo</td>\n",
              "      <td>1575112975</td>\n",
              "    </tr>\n",
              "    <tr>\n",
              "      <th>9996</th>\n",
              "      <td>5668640983</td>\n",
              "      <td>housing/rent/apartment</td>\n",
              "      <td>Six BR 256 Las Entradas</td>\n",
              "      <td>This unit is located at 256 Las Entradas, Mont...</td>\n",
              "      <td>NaN</td>\n",
              "      <td>8.0</td>\n",
              "      <td>6.0</td>\n",
              "      <td>USD</td>\n",
              "      <td>No</td>\n",
              "      <td>Thumbnail</td>\n",
              "      <td>None</td>\n",
              "      <td>25000</td>\n",
              "      <td>$25,000</td>\n",
              "      <td>Monthly</td>\n",
              "      <td>8716</td>\n",
              "      <td>256 Las Entradas</td>\n",
              "      <td>Montecito</td>\n",
              "      <td>CA</td>\n",
              "      <td>34.4331</td>\n",
              "      <td>-119.6331</td>\n",
              "      <td>RentLingo</td>\n",
              "      <td>1577360419</td>\n",
              "    </tr>\n",
              "    <tr>\n",
              "      <th>9997</th>\n",
              "      <td>5668643292</td>\n",
              "      <td>housing/rent/apartment</td>\n",
              "      <td>Six BR 9908 Bentcross Drive</td>\n",
              "      <td>This unit is located at 9908 Bentcross Drive, ...</td>\n",
              "      <td>NaN</td>\n",
              "      <td>8.0</td>\n",
              "      <td>6.0</td>\n",
              "      <td>USD</td>\n",
              "      <td>No</td>\n",
              "      <td>Thumbnail</td>\n",
              "      <td>None</td>\n",
              "      <td>11000</td>\n",
              "      <td>$11,000</td>\n",
              "      <td>Monthly</td>\n",
              "      <td>11318</td>\n",
              "      <td>9908 Bentcross Dr</td>\n",
              "      <td>Potomac</td>\n",
              "      <td>MD</td>\n",
              "      <td>39.0287</td>\n",
              "      <td>-77.2409</td>\n",
              "      <td>RentLingo</td>\n",
              "      <td>1577360560</td>\n",
              "    </tr>\n",
              "  </tbody>\n",
              "</table>\n",
              "<p>3549 rows × 22 columns</p>\n",
              "</div>"
            ],
            "text/plain": [
              "              id                category  ...     source        time\n",
              "0     5668626895  housing/rent/apartment  ...  RentLingo  1577359415\n",
              "1     5664597177  housing/rent/apartment  ...  RentLingo  1577017063\n",
              "2     5668626833  housing/rent/apartment  ...  RentLingo  1577359410\n",
              "3     5659918074  housing/rent/apartment  ...  RentLingo  1576667743\n",
              "4     5668626759  housing/rent/apartment  ...  RentLingo  1577359401\n",
              "...          ...                     ...  ...        ...         ...\n",
              "9992  5659917503  housing/rent/apartment  ...  RentLingo  1576667692\n",
              "9994  5664597657  housing/rent/apartment  ...  RentLingo  1577017103\n",
              "9995  5630240092  housing/rent/apartment  ...  RentLingo  1575112975\n",
              "9996  5668640983  housing/rent/apartment  ...  RentLingo  1577360419\n",
              "9997  5668643292  housing/rent/apartment  ...  RentLingo  1577360560\n",
              "\n",
              "[3549 rows x 22 columns]"
            ]
          },
          "metadata": {
            "tags": []
          },
          "execution_count": 102
        }
      ]
    },
    {
      "cell_type": "code",
      "metadata": {
        "id": "43OEqriU8XlC",
        "colab": {
          "base_uri": "https://localhost:8080/",
          "height": 1000
        },
        "outputId": "cc0510ad-9364-4e03-afcf-3fdd952c78ac"
      },
      "source": [
        "#7\n",
        "#checking missing values in column cityname           \n",
        "# creating bool series True for NaN values \n",
        "nan_city_name = pd.isnull(df[\"cityname\"]) \n",
        "\t\n",
        "# filtering data \n",
        "# displaying data only with Gender = NaN \n",
        "df[nan_city_name] \n"
      ],
      "execution_count": 103,
      "outputs": [
        {
          "output_type": "execute_result",
          "data": {
            "text/html": [
              "<div>\n",
              "<style scoped>\n",
              "    .dataframe tbody tr th:only-of-type {\n",
              "        vertical-align: middle;\n",
              "    }\n",
              "\n",
              "    .dataframe tbody tr th {\n",
              "        vertical-align: top;\n",
              "    }\n",
              "\n",
              "    .dataframe thead th {\n",
              "        text-align: right;\n",
              "    }\n",
              "</style>\n",
              "<table border=\"1\" class=\"dataframe\">\n",
              "  <thead>\n",
              "    <tr style=\"text-align: right;\">\n",
              "      <th></th>\n",
              "      <th>id</th>\n",
              "      <th>category</th>\n",
              "      <th>title</th>\n",
              "      <th>body</th>\n",
              "      <th>amenities</th>\n",
              "      <th>bathrooms</th>\n",
              "      <th>bedrooms</th>\n",
              "      <th>currency</th>\n",
              "      <th>fee</th>\n",
              "      <th>has_photo</th>\n",
              "      <th>pets_allowed</th>\n",
              "      <th>price</th>\n",
              "      <th>price_display</th>\n",
              "      <th>price_type</th>\n",
              "      <th>square_feet</th>\n",
              "      <th>address</th>\n",
              "      <th>cityname</th>\n",
              "      <th>state</th>\n",
              "      <th>latitude</th>\n",
              "      <th>longitude</th>\n",
              "      <th>source</th>\n",
              "      <th>time</th>\n",
              "    </tr>\n",
              "  </thead>\n",
              "  <tbody>\n",
              "    <tr>\n",
              "      <th>22</th>\n",
              "      <td>5664567303</td>\n",
              "      <td>housing/rent/apartment</td>\n",
              "      <td>One BR Leeward Ct</td>\n",
              "      <td>This unit is located at Leeward Ct, Fleming Is...</td>\n",
              "      <td>NaN</td>\n",
              "      <td>1.0</td>\n",
              "      <td>1.0</td>\n",
              "      <td>USD</td>\n",
              "      <td>No</td>\n",
              "      <td>Thumbnail</td>\n",
              "      <td>None</td>\n",
              "      <td>525</td>\n",
              "      <td>$525</td>\n",
              "      <td>Monthly</td>\n",
              "      <td>200</td>\n",
              "      <td>NaN</td>\n",
              "      <td>NaN</td>\n",
              "      <td>NaN</td>\n",
              "      <td>NaN</td>\n",
              "      <td>NaN</td>\n",
              "      <td>RentLingo</td>\n",
              "      <td>1577014825</td>\n",
              "    </tr>\n",
              "    <tr>\n",
              "      <th>31</th>\n",
              "      <td>5668619369</td>\n",
              "      <td>housing/rent/apartment</td>\n",
              "      <td>One BR Mullica Way</td>\n",
              "      <td>This unit is located at Mullica Way, Devonshir...</td>\n",
              "      <td>Pool</td>\n",
              "      <td>1.0</td>\n",
              "      <td>1.0</td>\n",
              "      <td>USD</td>\n",
              "      <td>No</td>\n",
              "      <td>Thumbnail</td>\n",
              "      <td>None</td>\n",
              "      <td>750</td>\n",
              "      <td>$750</td>\n",
              "      <td>Monthly</td>\n",
              "      <td>219</td>\n",
              "      <td>NaN</td>\n",
              "      <td>NaN</td>\n",
              "      <td>NaN</td>\n",
              "      <td>NaN</td>\n",
              "      <td>NaN</td>\n",
              "      <td>RentLingo</td>\n",
              "      <td>1577358921</td>\n",
              "    </tr>\n",
              "    <tr>\n",
              "      <th>37</th>\n",
              "      <td>5664573404</td>\n",
              "      <td>housing/rent/apartment</td>\n",
              "      <td>One BR New Providence Dr Apartment 90</td>\n",
              "      <td>This unit is located at New Providence Dr Apar...</td>\n",
              "      <td>NaN</td>\n",
              "      <td>1.0</td>\n",
              "      <td>1.0</td>\n",
              "      <td>USD</td>\n",
              "      <td>No</td>\n",
              "      <td>Thumbnail</td>\n",
              "      <td>None</td>\n",
              "      <td>750</td>\n",
              "      <td>$750</td>\n",
              "      <td>Monthly</td>\n",
              "      <td>220</td>\n",
              "      <td>NaN</td>\n",
              "      <td>NaN</td>\n",
              "      <td>NaN</td>\n",
              "      <td>NaN</td>\n",
              "      <td>NaN</td>\n",
              "      <td>RentLingo</td>\n",
              "      <td>1577015212</td>\n",
              "    </tr>\n",
              "    <tr>\n",
              "      <th>76</th>\n",
              "      <td>5664574093</td>\n",
              "      <td>housing/rent/apartment</td>\n",
              "      <td>One BR 8th Avenue North</td>\n",
              "      <td>This unit is located at eighth Avenue North, O...</td>\n",
              "      <td>NaN</td>\n",
              "      <td>1.0</td>\n",
              "      <td>1.0</td>\n",
              "      <td>USD</td>\n",
              "      <td>No</td>\n",
              "      <td>Thumbnail</td>\n",
              "      <td>None</td>\n",
              "      <td>1025</td>\n",
              "      <td>$1,025</td>\n",
              "      <td>Monthly</td>\n",
              "      <td>250</td>\n",
              "      <td>8th Ave North</td>\n",
              "      <td>NaN</td>\n",
              "      <td>NaN</td>\n",
              "      <td>39.8163</td>\n",
              "      <td>-98.5576</td>\n",
              "      <td>RentLingo</td>\n",
              "      <td>1577015259</td>\n",
              "    </tr>\n",
              "    <tr>\n",
              "      <th>161</th>\n",
              "      <td>5668622658</td>\n",
              "      <td>housing/rent/apartment</td>\n",
              "      <td>One BR Hinson Ave</td>\n",
              "      <td>This unit is located at Hinson Ave, Haines, 33...</td>\n",
              "      <td>Pool</td>\n",
              "      <td>1.0</td>\n",
              "      <td>1.0</td>\n",
              "      <td>USD</td>\n",
              "      <td>No</td>\n",
              "      <td>Thumbnail</td>\n",
              "      <td>None</td>\n",
              "      <td>625</td>\n",
              "      <td>$625</td>\n",
              "      <td>Monthly</td>\n",
              "      <td>250</td>\n",
              "      <td>NaN</td>\n",
              "      <td>NaN</td>\n",
              "      <td>NaN</td>\n",
              "      <td>NaN</td>\n",
              "      <td>NaN</td>\n",
              "      <td>RentLingo</td>\n",
              "      <td>1577359130</td>\n",
              "    </tr>\n",
              "    <tr>\n",
              "      <th>...</th>\n",
              "      <td>...</td>\n",
              "      <td>...</td>\n",
              "      <td>...</td>\n",
              "      <td>...</td>\n",
              "      <td>...</td>\n",
              "      <td>...</td>\n",
              "      <td>...</td>\n",
              "      <td>...</td>\n",
              "      <td>...</td>\n",
              "      <td>...</td>\n",
              "      <td>...</td>\n",
              "      <td>...</td>\n",
              "      <td>...</td>\n",
              "      <td>...</td>\n",
              "      <td>...</td>\n",
              "      <td>...</td>\n",
              "      <td>...</td>\n",
              "      <td>...</td>\n",
              "      <td>...</td>\n",
              "      <td>...</td>\n",
              "      <td>...</td>\n",
              "      <td>...</td>\n",
              "    </tr>\n",
              "    <tr>\n",
              "      <th>9238</th>\n",
              "      <td>5664596769</td>\n",
              "      <td>housing/rent/apartment</td>\n",
              "      <td>Two BR 1833 Lombard St, Unit B</td>\n",
              "      <td>This unit is located at 1833 Lombard St, Unit ...</td>\n",
              "      <td>NaN</td>\n",
              "      <td>1.0</td>\n",
              "      <td>2.0</td>\n",
              "      <td>USD</td>\n",
              "      <td>No</td>\n",
              "      <td>Thumbnail</td>\n",
              "      <td>None</td>\n",
              "      <td>2095</td>\n",
              "      <td>$2,095</td>\n",
              "      <td>Monthly</td>\n",
              "      <td>1650</td>\n",
              "      <td>1833 Lombard St Unit B</td>\n",
              "      <td>NaN</td>\n",
              "      <td>NaN</td>\n",
              "      <td>39.8163</td>\n",
              "      <td>-98.5576</td>\n",
              "      <td>RentLingo</td>\n",
              "      <td>1577017017</td>\n",
              "    </tr>\n",
              "    <tr>\n",
              "      <th>9259</th>\n",
              "      <td>5664597711</td>\n",
              "      <td>housing/rent/apartment</td>\n",
              "      <td>Two BR Lakeside Blvd</td>\n",
              "      <td>This unit is located at Lakeside Blvd, Shelby ...</td>\n",
              "      <td>NaN</td>\n",
              "      <td>2.0</td>\n",
              "      <td>2.0</td>\n",
              "      <td>USD</td>\n",
              "      <td>No</td>\n",
              "      <td>Thumbnail</td>\n",
              "      <td>Cats,Dogs</td>\n",
              "      <td>1650</td>\n",
              "      <td>$1,650</td>\n",
              "      <td>Monthly</td>\n",
              "      <td>1665</td>\n",
              "      <td>NaN</td>\n",
              "      <td>NaN</td>\n",
              "      <td>NaN</td>\n",
              "      <td>NaN</td>\n",
              "      <td>NaN</td>\n",
              "      <td>RentLingo</td>\n",
              "      <td>1577017108</td>\n",
              "    </tr>\n",
              "    <tr>\n",
              "      <th>9542</th>\n",
              "      <td>5668624794</td>\n",
              "      <td>housing/rent/apartment</td>\n",
              "      <td>Five BR 22 Austin Street</td>\n",
              "      <td>This unit is located at 22 Austin Street, Char...</td>\n",
              "      <td>Dishwasher,Parking,Patio/Deck,Refrigerator</td>\n",
              "      <td>2.0</td>\n",
              "      <td>5.0</td>\n",
              "      <td>USD</td>\n",
              "      <td>No</td>\n",
              "      <td>Thumbnail</td>\n",
              "      <td>None</td>\n",
              "      <td>4500</td>\n",
              "      <td>$4,500</td>\n",
              "      <td>Monthly</td>\n",
              "      <td>1950</td>\n",
              "      <td>22 Austin St</td>\n",
              "      <td>NaN</td>\n",
              "      <td>NaN</td>\n",
              "      <td>39.8163</td>\n",
              "      <td>-98.5576</td>\n",
              "      <td>RentLingo</td>\n",
              "      <td>1577359268</td>\n",
              "    </tr>\n",
              "    <tr>\n",
              "      <th>9561</th>\n",
              "      <td>5668633890</td>\n",
              "      <td>housing/rent/apartment</td>\n",
              "      <td>Three BR 229 Delmont St #259</td>\n",
              "      <td>This unit is located at 229 Delmont St #259, C...</td>\n",
              "      <td>NaN</td>\n",
              "      <td>2.0</td>\n",
              "      <td>3.0</td>\n",
              "      <td>USD</td>\n",
              "      <td>No</td>\n",
              "      <td>Thumbnail</td>\n",
              "      <td>Cats,Dogs</td>\n",
              "      <td>1985</td>\n",
              "      <td>$1,985</td>\n",
              "      <td>Monthly</td>\n",
              "      <td>1975</td>\n",
              "      <td>229 Delmont St #259</td>\n",
              "      <td>NaN</td>\n",
              "      <td>NaN</td>\n",
              "      <td>39.8163</td>\n",
              "      <td>-98.5576</td>\n",
              "      <td>RentLingo</td>\n",
              "      <td>1577359942</td>\n",
              "    </tr>\n",
              "    <tr>\n",
              "      <th>9778</th>\n",
              "      <td>5668626924</td>\n",
              "      <td>housing/rent/apartment</td>\n",
              "      <td>Three BR 331 LIKELY CT ALAMO</td>\n",
              "      <td>This unit is located at 331 LIKELY CT ALAMO, C...</td>\n",
              "      <td>NaN</td>\n",
              "      <td>2.0</td>\n",
              "      <td>3.0</td>\n",
              "      <td>USD</td>\n",
              "      <td>No</td>\n",
              "      <td>Thumbnail</td>\n",
              "      <td>Cats,Dogs</td>\n",
              "      <td>4999</td>\n",
              "      <td>$4,999</td>\n",
              "      <td>Monthly</td>\n",
              "      <td>2414</td>\n",
              "      <td>331 Likely Court Alamo</td>\n",
              "      <td>NaN</td>\n",
              "      <td>NaN</td>\n",
              "      <td>39.8163</td>\n",
              "      <td>-98.5576</td>\n",
              "      <td>RentLingo</td>\n",
              "      <td>1577359417</td>\n",
              "    </tr>\n",
              "  </tbody>\n",
              "</table>\n",
              "<p>77 rows × 22 columns</p>\n",
              "</div>"
            ],
            "text/plain": [
              "              id                category  ...     source        time\n",
              "22    5664567303  housing/rent/apartment  ...  RentLingo  1577014825\n",
              "31    5668619369  housing/rent/apartment  ...  RentLingo  1577358921\n",
              "37    5664573404  housing/rent/apartment  ...  RentLingo  1577015212\n",
              "76    5664574093  housing/rent/apartment  ...  RentLingo  1577015259\n",
              "161   5668622658  housing/rent/apartment  ...  RentLingo  1577359130\n",
              "...          ...                     ...  ...        ...         ...\n",
              "9238  5664596769  housing/rent/apartment  ...  RentLingo  1577017017\n",
              "9259  5664597711  housing/rent/apartment  ...  RentLingo  1577017108\n",
              "9542  5668624794  housing/rent/apartment  ...  RentLingo  1577359268\n",
              "9561  5668633890  housing/rent/apartment  ...  RentLingo  1577359942\n",
              "9778  5668626924  housing/rent/apartment  ...  RentLingo  1577359417\n",
              "\n",
              "[77 rows x 22 columns]"
            ]
          },
          "metadata": {
            "tags": []
          },
          "execution_count": 103
        }
      ]
    },
    {
      "cell_type": "code",
      "metadata": {
        "colab": {
          "base_uri": "https://localhost:8080/",
          "height": 602
        },
        "id": "fD97uS0nc1st",
        "outputId": "4ba19d9a-d2dc-47bf-9437-f3265859b017"
      },
      "source": [
        "#(8)\n",
        "df['time'] = pd.to_datetime(df['time'], unit='s')\n",
        "df.head()"
      ],
      "execution_count": 104,
      "outputs": [
        {
          "output_type": "execute_result",
          "data": {
            "text/html": [
              "<div>\n",
              "<style scoped>\n",
              "    .dataframe tbody tr th:only-of-type {\n",
              "        vertical-align: middle;\n",
              "    }\n",
              "\n",
              "    .dataframe tbody tr th {\n",
              "        vertical-align: top;\n",
              "    }\n",
              "\n",
              "    .dataframe thead th {\n",
              "        text-align: right;\n",
              "    }\n",
              "</style>\n",
              "<table border=\"1\" class=\"dataframe\">\n",
              "  <thead>\n",
              "    <tr style=\"text-align: right;\">\n",
              "      <th></th>\n",
              "      <th>id</th>\n",
              "      <th>category</th>\n",
              "      <th>title</th>\n",
              "      <th>body</th>\n",
              "      <th>amenities</th>\n",
              "      <th>bathrooms</th>\n",
              "      <th>bedrooms</th>\n",
              "      <th>currency</th>\n",
              "      <th>fee</th>\n",
              "      <th>has_photo</th>\n",
              "      <th>pets_allowed</th>\n",
              "      <th>price</th>\n",
              "      <th>price_display</th>\n",
              "      <th>price_type</th>\n",
              "      <th>square_feet</th>\n",
              "      <th>address</th>\n",
              "      <th>cityname</th>\n",
              "      <th>state</th>\n",
              "      <th>latitude</th>\n",
              "      <th>longitude</th>\n",
              "      <th>source</th>\n",
              "      <th>time</th>\n",
              "    </tr>\n",
              "  </thead>\n",
              "  <tbody>\n",
              "    <tr>\n",
              "      <th>0</th>\n",
              "      <td>5668626895</td>\n",
              "      <td>housing/rent/apartment</td>\n",
              "      <td>Studio apartment 2nd St NE, Uhland Terrace NE,...</td>\n",
              "      <td>This unit is located at second St NE, Uhland T...</td>\n",
              "      <td>NaN</td>\n",
              "      <td>NaN</td>\n",
              "      <td>0.0</td>\n",
              "      <td>USD</td>\n",
              "      <td>No</td>\n",
              "      <td>Thumbnail</td>\n",
              "      <td>None</td>\n",
              "      <td>790</td>\n",
              "      <td>$790</td>\n",
              "      <td>Monthly</td>\n",
              "      <td>101</td>\n",
              "      <td>NaN</td>\n",
              "      <td>Washington</td>\n",
              "      <td>DC</td>\n",
              "      <td>38.9057</td>\n",
              "      <td>-76.9861</td>\n",
              "      <td>RentLingo</td>\n",
              "      <td>2019-12-26 11:23:35</td>\n",
              "    </tr>\n",
              "    <tr>\n",
              "      <th>1</th>\n",
              "      <td>5664597177</td>\n",
              "      <td>housing/rent/apartment</td>\n",
              "      <td>Studio apartment 814 Schutte Road</td>\n",
              "      <td>This unit is located at 814 Schutte Road, Evan...</td>\n",
              "      <td>NaN</td>\n",
              "      <td>NaN</td>\n",
              "      <td>1.0</td>\n",
              "      <td>USD</td>\n",
              "      <td>No</td>\n",
              "      <td>Thumbnail</td>\n",
              "      <td>None</td>\n",
              "      <td>425</td>\n",
              "      <td>$425</td>\n",
              "      <td>Monthly</td>\n",
              "      <td>106</td>\n",
              "      <td>814 Schutte Rd</td>\n",
              "      <td>Evansville</td>\n",
              "      <td>IN</td>\n",
              "      <td>37.9680</td>\n",
              "      <td>-87.6621</td>\n",
              "      <td>RentLingo</td>\n",
              "      <td>2019-12-22 12:17:43</td>\n",
              "    </tr>\n",
              "    <tr>\n",
              "      <th>2</th>\n",
              "      <td>5668626833</td>\n",
              "      <td>housing/rent/apartment</td>\n",
              "      <td>Studio apartment N Scott St, 14th St N, Arling...</td>\n",
              "      <td>This unit is located at N Scott St, 14th St N,...</td>\n",
              "      <td>NaN</td>\n",
              "      <td>1.0</td>\n",
              "      <td>0.0</td>\n",
              "      <td>USD</td>\n",
              "      <td>No</td>\n",
              "      <td>Thumbnail</td>\n",
              "      <td>None</td>\n",
              "      <td>1390</td>\n",
              "      <td>$1,390</td>\n",
              "      <td>Monthly</td>\n",
              "      <td>107</td>\n",
              "      <td>NaN</td>\n",
              "      <td>Arlington</td>\n",
              "      <td>VA</td>\n",
              "      <td>38.8910</td>\n",
              "      <td>-77.0816</td>\n",
              "      <td>RentLingo</td>\n",
              "      <td>2019-12-26 11:23:30</td>\n",
              "    </tr>\n",
              "    <tr>\n",
              "      <th>3</th>\n",
              "      <td>5659918074</td>\n",
              "      <td>housing/rent/apartment</td>\n",
              "      <td>Studio apartment 1717 12th Ave</td>\n",
              "      <td>This unit is located at 1717 12th Ave, Seattle...</td>\n",
              "      <td>NaN</td>\n",
              "      <td>1.0</td>\n",
              "      <td>0.0</td>\n",
              "      <td>USD</td>\n",
              "      <td>No</td>\n",
              "      <td>Thumbnail</td>\n",
              "      <td>None</td>\n",
              "      <td>925</td>\n",
              "      <td>$925</td>\n",
              "      <td>Monthly</td>\n",
              "      <td>116</td>\n",
              "      <td>1717 12th Avenue</td>\n",
              "      <td>Seattle</td>\n",
              "      <td>WA</td>\n",
              "      <td>47.6160</td>\n",
              "      <td>-122.3275</td>\n",
              "      <td>RentLingo</td>\n",
              "      <td>2019-12-18 11:15:43</td>\n",
              "    </tr>\n",
              "    <tr>\n",
              "      <th>4</th>\n",
              "      <td>5668626759</td>\n",
              "      <td>housing/rent/apartment</td>\n",
              "      <td>Studio apartment Washington Blvd, N Cleveland ...</td>\n",
              "      <td>This unit is located at Washington Blvd, N Cle...</td>\n",
              "      <td>NaN</td>\n",
              "      <td>NaN</td>\n",
              "      <td>0.0</td>\n",
              "      <td>USD</td>\n",
              "      <td>No</td>\n",
              "      <td>Thumbnail</td>\n",
              "      <td>None</td>\n",
              "      <td>880</td>\n",
              "      <td>$880</td>\n",
              "      <td>Monthly</td>\n",
              "      <td>125</td>\n",
              "      <td>NaN</td>\n",
              "      <td>Arlington</td>\n",
              "      <td>VA</td>\n",
              "      <td>38.8738</td>\n",
              "      <td>-77.1055</td>\n",
              "      <td>RentLingo</td>\n",
              "      <td>2019-12-26 11:23:21</td>\n",
              "    </tr>\n",
              "  </tbody>\n",
              "</table>\n",
              "</div>"
            ],
            "text/plain": [
              "           id                category  ...     source                time\n",
              "0  5668626895  housing/rent/apartment  ...  RentLingo 2019-12-26 11:23:35\n",
              "1  5664597177  housing/rent/apartment  ...  RentLingo 2019-12-22 12:17:43\n",
              "2  5668626833  housing/rent/apartment  ...  RentLingo 2019-12-26 11:23:30\n",
              "3  5659918074  housing/rent/apartment  ...  RentLingo 2019-12-18 11:15:43\n",
              "4  5668626759  housing/rent/apartment  ...  RentLingo 2019-12-26 11:23:21\n",
              "\n",
              "[5 rows x 22 columns]"
            ]
          },
          "metadata": {
            "tags": []
          },
          "execution_count": 104
        }
      ]
    },
    {
      "cell_type": "code",
      "metadata": {
        "id": "4BzFgTaKVSE_",
        "colab": {
          "base_uri": "https://localhost:8080/"
        },
        "outputId": "32525087-abc4-4342-dc4e-c3b2d2a39aa6"
      },
      "source": [
        "#9\n",
        "# Checking out the total unique categories in the dataset\n",
        "np.unique(df['category'])\n",
        "\n",
        "# Found that there are 3 unique categories ['housing/rent/apartment', 'housing/rent/home', 'housing/rent/short_term']"
      ],
      "execution_count": 105,
      "outputs": [
        {
          "output_type": "execute_result",
          "data": {
            "text/plain": [
              "array(['housing/rent/apartment', 'housing/rent/home',\n",
              "       'housing/rent/short_term'], dtype=object)"
            ]
          },
          "metadata": {
            "tags": []
          },
          "execution_count": 105
        }
      ]
    },
    {
      "cell_type": "code",
      "metadata": {
        "id": "91x8qXVHXnZx",
        "colab": {
          "base_uri": "https://localhost:8080/"
        },
        "outputId": "76175b14-ba28-4136-97b0-0ee1bc4a3fa9"
      },
      "source": [
        "#10\n",
        "# checking that what are the occurences of each unique categories in the dataset\n",
        "df['category'].value_counts()\n",
        "df.drop(index=df[df['category'] == 'housing/rent/short_term'].index, inplace=True)\n",
        "df.drop(index=df[df['category'] == 'housing/rent/home'].index, inplace=True)\n",
        "df['category'].value_counts()\n",
        "del df['category']\n",
        "print(df.head())"
      ],
      "execution_count": 106,
      "outputs": [
        {
          "output_type": "stream",
          "text": [
            "           id  ...                time\n",
            "0  5668626895  ... 2019-12-26 11:23:35\n",
            "1  5664597177  ... 2019-12-22 12:17:43\n",
            "2  5668626833  ... 2019-12-26 11:23:30\n",
            "3  5659918074  ... 2019-12-18 11:15:43\n",
            "4  5668626759  ... 2019-12-26 11:23:21\n",
            "\n",
            "[5 rows x 21 columns]\n"
          ],
          "name": "stdout"
        }
      ]
    },
    {
      "cell_type": "code",
      "metadata": {
        "colab": {
          "base_uri": "https://localhost:8080/",
          "height": 284
        },
        "id": "vZEmHt7zZhqW",
        "outputId": "ea512cb1-3569-4ee0-d080-d6cd3d43943c"
      },
      "source": [
        "#11\n",
        "df.describe()"
      ],
      "execution_count": 107,
      "outputs": [
        {
          "output_type": "execute_result",
          "data": {
            "text/html": [
              "<div>\n",
              "<style scoped>\n",
              "    .dataframe tbody tr th:only-of-type {\n",
              "        vertical-align: middle;\n",
              "    }\n",
              "\n",
              "    .dataframe tbody tr th {\n",
              "        vertical-align: top;\n",
              "    }\n",
              "\n",
              "    .dataframe thead th {\n",
              "        text-align: right;\n",
              "    }\n",
              "</style>\n",
              "<table border=\"1\" class=\"dataframe\">\n",
              "  <thead>\n",
              "    <tr style=\"text-align: right;\">\n",
              "      <th></th>\n",
              "      <th>id</th>\n",
              "      <th>bathrooms</th>\n",
              "      <th>bedrooms</th>\n",
              "      <th>price</th>\n",
              "      <th>square_feet</th>\n",
              "      <th>latitude</th>\n",
              "      <th>longitude</th>\n",
              "    </tr>\n",
              "  </thead>\n",
              "  <tbody>\n",
              "    <tr>\n",
              "      <th>count</th>\n",
              "      <td>9.996000e+03</td>\n",
              "      <td>9963.000000</td>\n",
              "      <td>9989.000000</td>\n",
              "      <td>9996.000000</td>\n",
              "      <td>9996.000000</td>\n",
              "      <td>9986.000000</td>\n",
              "      <td>9986.000000</td>\n",
              "    </tr>\n",
              "    <tr>\n",
              "      <th>mean</th>\n",
              "      <td>5.623385e+09</td>\n",
              "      <td>1.381612</td>\n",
              "      <td>1.744018</td>\n",
              "      <td>1486.634654</td>\n",
              "      <td>945.864646</td>\n",
              "      <td>37.696554</td>\n",
              "      <td>-94.653289</td>\n",
              "    </tr>\n",
              "    <tr>\n",
              "      <th>std</th>\n",
              "      <td>7.022179e+07</td>\n",
              "      <td>0.611336</td>\n",
              "      <td>0.942503</td>\n",
              "      <td>1076.572608</td>\n",
              "      <td>655.878961</td>\n",
              "      <td>5.496069</td>\n",
              "      <td>15.761776</td>\n",
              "    </tr>\n",
              "    <tr>\n",
              "      <th>min</th>\n",
              "      <td>5.508654e+09</td>\n",
              "      <td>1.000000</td>\n",
              "      <td>0.000000</td>\n",
              "      <td>200.000000</td>\n",
              "      <td>101.000000</td>\n",
              "      <td>21.315500</td>\n",
              "      <td>-158.022100</td>\n",
              "    </tr>\n",
              "    <tr>\n",
              "      <th>25%</th>\n",
              "      <td>5.509248e+09</td>\n",
              "      <td>1.000000</td>\n",
              "      <td>1.000000</td>\n",
              "      <td>949.000000</td>\n",
              "      <td>649.000000</td>\n",
              "      <td>33.688675</td>\n",
              "      <td>-101.301700</td>\n",
              "    </tr>\n",
              "    <tr>\n",
              "      <th>50%</th>\n",
              "      <td>5.668610e+09</td>\n",
              "      <td>1.000000</td>\n",
              "      <td>2.000000</td>\n",
              "      <td>1270.500000</td>\n",
              "      <td>802.000000</td>\n",
              "      <td>38.809800</td>\n",
              "      <td>-93.651600</td>\n",
              "    </tr>\n",
              "    <tr>\n",
              "      <th>75%</th>\n",
              "      <td>5.668626e+09</td>\n",
              "      <td>2.000000</td>\n",
              "      <td>2.000000</td>\n",
              "      <td>1695.000000</td>\n",
              "      <td>1100.000000</td>\n",
              "      <td>41.349800</td>\n",
              "      <td>-82.194625</td>\n",
              "    </tr>\n",
              "    <tr>\n",
              "      <th>max</th>\n",
              "      <td>5.668663e+09</td>\n",
              "      <td>8.000000</td>\n",
              "      <td>9.000000</td>\n",
              "      <td>52500.000000</td>\n",
              "      <td>40000.000000</td>\n",
              "      <td>61.594000</td>\n",
              "      <td>-70.191600</td>\n",
              "    </tr>\n",
              "  </tbody>\n",
              "</table>\n",
              "</div>"
            ],
            "text/plain": [
              "                 id    bathrooms  ...     latitude    longitude\n",
              "count  9.996000e+03  9963.000000  ...  9986.000000  9986.000000\n",
              "mean   5.623385e+09     1.381612  ...    37.696554   -94.653289\n",
              "std    7.022179e+07     0.611336  ...     5.496069    15.761776\n",
              "min    5.508654e+09     1.000000  ...    21.315500  -158.022100\n",
              "25%    5.509248e+09     1.000000  ...    33.688675  -101.301700\n",
              "50%    5.668610e+09     1.000000  ...    38.809800   -93.651600\n",
              "75%    5.668626e+09     2.000000  ...    41.349800   -82.194625\n",
              "max    5.668663e+09     8.000000  ...    61.594000   -70.191600\n",
              "\n",
              "[8 rows x 7 columns]"
            ]
          },
          "metadata": {
            "tags": []
          },
          "execution_count": 107
        }
      ]
    },
    {
      "cell_type": "code",
      "metadata": {
        "id": "d1UxwLFS4yPT",
        "colab": {
          "base_uri": "https://localhost:8080/"
        },
        "outputId": "13dbde0c-e59d-4212-c25c-d0f00da5c7fd"
      },
      "source": [
        "#12\n",
        "df.shape"
      ],
      "execution_count": 108,
      "outputs": [
        {
          "output_type": "execute_result",
          "data": {
            "text/plain": [
              "(9996, 21)"
            ]
          },
          "metadata": {
            "tags": []
          },
          "execution_count": 108
        }
      ]
    },
    {
      "cell_type": "code",
      "metadata": {
        "id": "mjkcPkRA42Hc",
        "colab": {
          "base_uri": "https://localhost:8080/",
          "height": 434
        },
        "outputId": "14f35046-ba6c-44f8-e157-c2d4dd255fa7"
      },
      "source": [
        "#13\n",
        "df.tail(5)"
      ],
      "execution_count": 109,
      "outputs": [
        {
          "output_type": "execute_result",
          "data": {
            "text/html": [
              "<div>\n",
              "<style scoped>\n",
              "    .dataframe tbody tr th:only-of-type {\n",
              "        vertical-align: middle;\n",
              "    }\n",
              "\n",
              "    .dataframe tbody tr th {\n",
              "        vertical-align: top;\n",
              "    }\n",
              "\n",
              "    .dataframe thead th {\n",
              "        text-align: right;\n",
              "    }\n",
              "</style>\n",
              "<table border=\"1\" class=\"dataframe\">\n",
              "  <thead>\n",
              "    <tr style=\"text-align: right;\">\n",
              "      <th></th>\n",
              "      <th>id</th>\n",
              "      <th>title</th>\n",
              "      <th>body</th>\n",
              "      <th>amenities</th>\n",
              "      <th>bathrooms</th>\n",
              "      <th>bedrooms</th>\n",
              "      <th>currency</th>\n",
              "      <th>fee</th>\n",
              "      <th>has_photo</th>\n",
              "      <th>pets_allowed</th>\n",
              "      <th>price</th>\n",
              "      <th>price_display</th>\n",
              "      <th>price_type</th>\n",
              "      <th>square_feet</th>\n",
              "      <th>address</th>\n",
              "      <th>cityname</th>\n",
              "      <th>state</th>\n",
              "      <th>latitude</th>\n",
              "      <th>longitude</th>\n",
              "      <th>source</th>\n",
              "      <th>time</th>\n",
              "    </tr>\n",
              "  </thead>\n",
              "  <tbody>\n",
              "    <tr>\n",
              "      <th>9995</th>\n",
              "      <td>5630240092</td>\n",
              "      <td>Five BR 5407 Abbott Place - Abbott</td>\n",
              "      <td>This unit is located at 5407 Abbott Place - Ab...</td>\n",
              "      <td>NaN</td>\n",
              "      <td>4.0</td>\n",
              "      <td>5.0</td>\n",
              "      <td>USD</td>\n",
              "      <td>No</td>\n",
              "      <td>Thumbnail</td>\n",
              "      <td>None</td>\n",
              "      <td>6000</td>\n",
              "      <td>$6,000</td>\n",
              "      <td>Monthly</td>\n",
              "      <td>6300</td>\n",
              "      <td>5407 Abbott Place  Abbott</td>\n",
              "      <td>Edina</td>\n",
              "      <td>MN</td>\n",
              "      <td>44.9000</td>\n",
              "      <td>-93.3233</td>\n",
              "      <td>RentLingo</td>\n",
              "      <td>2019-11-30 11:22:55</td>\n",
              "    </tr>\n",
              "    <tr>\n",
              "      <th>9996</th>\n",
              "      <td>5668640983</td>\n",
              "      <td>Six BR 256 Las Entradas</td>\n",
              "      <td>This unit is located at 256 Las Entradas, Mont...</td>\n",
              "      <td>NaN</td>\n",
              "      <td>8.0</td>\n",
              "      <td>6.0</td>\n",
              "      <td>USD</td>\n",
              "      <td>No</td>\n",
              "      <td>Thumbnail</td>\n",
              "      <td>None</td>\n",
              "      <td>25000</td>\n",
              "      <td>$25,000</td>\n",
              "      <td>Monthly</td>\n",
              "      <td>8716</td>\n",
              "      <td>256 Las Entradas</td>\n",
              "      <td>Montecito</td>\n",
              "      <td>CA</td>\n",
              "      <td>34.4331</td>\n",
              "      <td>-119.6331</td>\n",
              "      <td>RentLingo</td>\n",
              "      <td>2019-12-26 11:40:19</td>\n",
              "    </tr>\n",
              "    <tr>\n",
              "      <th>9997</th>\n",
              "      <td>5668643292</td>\n",
              "      <td>Six BR 9908 Bentcross Drive</td>\n",
              "      <td>This unit is located at 9908 Bentcross Drive, ...</td>\n",
              "      <td>NaN</td>\n",
              "      <td>8.0</td>\n",
              "      <td>6.0</td>\n",
              "      <td>USD</td>\n",
              "      <td>No</td>\n",
              "      <td>Thumbnail</td>\n",
              "      <td>None</td>\n",
              "      <td>11000</td>\n",
              "      <td>$11,000</td>\n",
              "      <td>Monthly</td>\n",
              "      <td>11318</td>\n",
              "      <td>9908 Bentcross Dr</td>\n",
              "      <td>Potomac</td>\n",
              "      <td>MD</td>\n",
              "      <td>39.0287</td>\n",
              "      <td>-77.2409</td>\n",
              "      <td>RentLingo</td>\n",
              "      <td>2019-12-26 11:42:40</td>\n",
              "    </tr>\n",
              "    <tr>\n",
              "      <th>9998</th>\n",
              "      <td>5668662559</td>\n",
              "      <td>One BR in New York NY 10069</td>\n",
              "      <td>Monthly Rent$4,605 -to $4,790AmenitiesThe Aldy...</td>\n",
              "      <td>Basketball,Cable or Satellite,Doorman,Hot Tub,...</td>\n",
              "      <td>NaN</td>\n",
              "      <td>1.0</td>\n",
              "      <td>USD</td>\n",
              "      <td>No</td>\n",
              "      <td>Thumbnail</td>\n",
              "      <td>NaN</td>\n",
              "      <td>4790</td>\n",
              "      <td>$4,790</td>\n",
              "      <td>Monthly</td>\n",
              "      <td>40000</td>\n",
              "      <td>NaN</td>\n",
              "      <td>New York</td>\n",
              "      <td>NY</td>\n",
              "      <td>40.7716</td>\n",
              "      <td>-73.9876</td>\n",
              "      <td>Listanza</td>\n",
              "      <td>2019-12-26 12:09:46</td>\n",
              "    </tr>\n",
              "    <tr>\n",
              "      <th>9999</th>\n",
              "      <td>5509132540</td>\n",
              "      <td>Beautiful Lawrenceville Apartment for rent</td>\n",
              "      <td>Square footage: 880 sq. feet, unit number: 150...</td>\n",
              "      <td>Gym,Patio/Deck</td>\n",
              "      <td>1.0</td>\n",
              "      <td>1.0</td>\n",
              "      <td>USD</td>\n",
              "      <td>No</td>\n",
              "      <td>No</td>\n",
              "      <td>NaN</td>\n",
              "      <td>1009</td>\n",
              "      <td>$1,009</td>\n",
              "      <td>Monthly</td>\n",
              "      <td>880</td>\n",
              "      <td>NaN</td>\n",
              "      <td>Lawrenceville</td>\n",
              "      <td>GA</td>\n",
              "      <td>34.0072</td>\n",
              "      <td>-84.0034</td>\n",
              "      <td>RentDigs.com</td>\n",
              "      <td>2019-12-26 12:09:01</td>\n",
              "    </tr>\n",
              "  </tbody>\n",
              "</table>\n",
              "</div>"
            ],
            "text/plain": [
              "              id  ...                time\n",
              "9995  5630240092  ... 2019-11-30 11:22:55\n",
              "9996  5668640983  ... 2019-12-26 11:40:19\n",
              "9997  5668643292  ... 2019-12-26 11:42:40\n",
              "9998  5668662559  ... 2019-12-26 12:09:46\n",
              "9999  5509132540  ... 2019-12-26 12:09:01\n",
              "\n",
              "[5 rows x 21 columns]"
            ]
          },
          "metadata": {
            "tags": []
          },
          "execution_count": 109
        }
      ]
    },
    {
      "cell_type": "code",
      "metadata": {
        "id": "YsivN0zOCAPT",
        "colab": {
          "base_uri": "https://localhost:8080/"
        },
        "outputId": "a4d0cdd1-83ea-4028-83a2-a0af14ca874e"
      },
      "source": [
        "#14\n",
        "np.unique(df['currency'])"
      ],
      "execution_count": 110,
      "outputs": [
        {
          "output_type": "execute_result",
          "data": {
            "text/plain": [
              "array(['USD'], dtype=object)"
            ]
          },
          "metadata": {
            "tags": []
          },
          "execution_count": 110
        }
      ]
    },
    {
      "cell_type": "markdown",
      "metadata": {
        "id": "S4OvEMKh-9rF"
      },
      "source": [
        "**#Step3 : Visualize dataset for distribution by Constructing histograms, box plots, and scatter plots**\n"
      ]
    },
    {
      "cell_type": "code",
      "metadata": {
        "id": "qCvs6wKo_F1E"
      },
      "source": [
        "#15\n",
        "import numpy as np\n",
        "import pandas as pd\n",
        "from pandas import Series, DataFrame\n",
        "\n",
        "\n",
        "from pandas.plotting import scatter_matrix\n",
        "import matplotlib.pyplot as plt\n",
        "from pylab import rcParams\n",
        "import seaborn as sb"
      ],
      "execution_count": 111,
      "outputs": []
    },
    {
      "cell_type": "code",
      "metadata": {
        "id": "JadRmmYG_L1K"
      },
      "source": [
        "#16\n",
        "%matplotlib inline\n",
        "rcParams['figure.figsize'] = 5, 4\n",
        "sb.set_style('whitegrid')"
      ],
      "execution_count": 112,
      "outputs": []
    },
    {
      "cell_type": "markdown",
      "metadata": {
        "id": "7e9StmgnC9f-"
      },
      "source": [
        "**after knowing out dataset including complete visualization we can start by dropping unncesary columns like time...**"
      ]
    },
    {
      "cell_type": "code",
      "metadata": {
        "id": "mag15JArDFQK",
        "colab": {
          "base_uri": "https://localhost:8080/",
          "height": 35
        },
        "outputId": "e650a990-9ad7-4d89-80ff-f7afe895f3d2"
      },
      "source": [
        "'''\n",
        "#20\n",
        "del df['time']\n",
        "df.head(5)\n",
        "'''"
      ],
      "execution_count": 113,
      "outputs": [
        {
          "output_type": "execute_result",
          "data": {
            "application/vnd.google.colaboratory.intrinsic+json": {
              "type": "string"
            },
            "text/plain": [
              "\"\\n#20\\ndel df['time']\\ndf.head(5)\\n\""
            ]
          },
          "metadata": {
            "tags": []
          },
          "execution_count": 113
        }
      ]
    },
    {
      "cell_type": "markdown",
      "metadata": {
        "id": "XlBGDC1GDlEE"
      },
      "source": [
        "Dropping address column as the same is avaiblbe in title "
      ]
    },
    {
      "cell_type": "code",
      "metadata": {
        "id": "KHtFwGj0DyYP",
        "colab": {
          "base_uri": "https://localhost:8080/",
          "height": 602
        },
        "outputId": "0cb2763f-87d2-4a9b-afe0-87b00008c538"
      },
      "source": [
        "#21\n",
        "del df['address']\n",
        "del df['amenities']\n",
        "df.head(5)"
      ],
      "execution_count": 114,
      "outputs": [
        {
          "output_type": "execute_result",
          "data": {
            "text/html": [
              "<div>\n",
              "<style scoped>\n",
              "    .dataframe tbody tr th:only-of-type {\n",
              "        vertical-align: middle;\n",
              "    }\n",
              "\n",
              "    .dataframe tbody tr th {\n",
              "        vertical-align: top;\n",
              "    }\n",
              "\n",
              "    .dataframe thead th {\n",
              "        text-align: right;\n",
              "    }\n",
              "</style>\n",
              "<table border=\"1\" class=\"dataframe\">\n",
              "  <thead>\n",
              "    <tr style=\"text-align: right;\">\n",
              "      <th></th>\n",
              "      <th>id</th>\n",
              "      <th>title</th>\n",
              "      <th>body</th>\n",
              "      <th>bathrooms</th>\n",
              "      <th>bedrooms</th>\n",
              "      <th>currency</th>\n",
              "      <th>fee</th>\n",
              "      <th>has_photo</th>\n",
              "      <th>pets_allowed</th>\n",
              "      <th>price</th>\n",
              "      <th>price_display</th>\n",
              "      <th>price_type</th>\n",
              "      <th>square_feet</th>\n",
              "      <th>cityname</th>\n",
              "      <th>state</th>\n",
              "      <th>latitude</th>\n",
              "      <th>longitude</th>\n",
              "      <th>source</th>\n",
              "      <th>time</th>\n",
              "    </tr>\n",
              "  </thead>\n",
              "  <tbody>\n",
              "    <tr>\n",
              "      <th>0</th>\n",
              "      <td>5668626895</td>\n",
              "      <td>Studio apartment 2nd St NE, Uhland Terrace NE,...</td>\n",
              "      <td>This unit is located at second St NE, Uhland T...</td>\n",
              "      <td>NaN</td>\n",
              "      <td>0.0</td>\n",
              "      <td>USD</td>\n",
              "      <td>No</td>\n",
              "      <td>Thumbnail</td>\n",
              "      <td>None</td>\n",
              "      <td>790</td>\n",
              "      <td>$790</td>\n",
              "      <td>Monthly</td>\n",
              "      <td>101</td>\n",
              "      <td>Washington</td>\n",
              "      <td>DC</td>\n",
              "      <td>38.9057</td>\n",
              "      <td>-76.9861</td>\n",
              "      <td>RentLingo</td>\n",
              "      <td>2019-12-26 11:23:35</td>\n",
              "    </tr>\n",
              "    <tr>\n",
              "      <th>1</th>\n",
              "      <td>5664597177</td>\n",
              "      <td>Studio apartment 814 Schutte Road</td>\n",
              "      <td>This unit is located at 814 Schutte Road, Evan...</td>\n",
              "      <td>NaN</td>\n",
              "      <td>1.0</td>\n",
              "      <td>USD</td>\n",
              "      <td>No</td>\n",
              "      <td>Thumbnail</td>\n",
              "      <td>None</td>\n",
              "      <td>425</td>\n",
              "      <td>$425</td>\n",
              "      <td>Monthly</td>\n",
              "      <td>106</td>\n",
              "      <td>Evansville</td>\n",
              "      <td>IN</td>\n",
              "      <td>37.9680</td>\n",
              "      <td>-87.6621</td>\n",
              "      <td>RentLingo</td>\n",
              "      <td>2019-12-22 12:17:43</td>\n",
              "    </tr>\n",
              "    <tr>\n",
              "      <th>2</th>\n",
              "      <td>5668626833</td>\n",
              "      <td>Studio apartment N Scott St, 14th St N, Arling...</td>\n",
              "      <td>This unit is located at N Scott St, 14th St N,...</td>\n",
              "      <td>1.0</td>\n",
              "      <td>0.0</td>\n",
              "      <td>USD</td>\n",
              "      <td>No</td>\n",
              "      <td>Thumbnail</td>\n",
              "      <td>None</td>\n",
              "      <td>1390</td>\n",
              "      <td>$1,390</td>\n",
              "      <td>Monthly</td>\n",
              "      <td>107</td>\n",
              "      <td>Arlington</td>\n",
              "      <td>VA</td>\n",
              "      <td>38.8910</td>\n",
              "      <td>-77.0816</td>\n",
              "      <td>RentLingo</td>\n",
              "      <td>2019-12-26 11:23:30</td>\n",
              "    </tr>\n",
              "    <tr>\n",
              "      <th>3</th>\n",
              "      <td>5659918074</td>\n",
              "      <td>Studio apartment 1717 12th Ave</td>\n",
              "      <td>This unit is located at 1717 12th Ave, Seattle...</td>\n",
              "      <td>1.0</td>\n",
              "      <td>0.0</td>\n",
              "      <td>USD</td>\n",
              "      <td>No</td>\n",
              "      <td>Thumbnail</td>\n",
              "      <td>None</td>\n",
              "      <td>925</td>\n",
              "      <td>$925</td>\n",
              "      <td>Monthly</td>\n",
              "      <td>116</td>\n",
              "      <td>Seattle</td>\n",
              "      <td>WA</td>\n",
              "      <td>47.6160</td>\n",
              "      <td>-122.3275</td>\n",
              "      <td>RentLingo</td>\n",
              "      <td>2019-12-18 11:15:43</td>\n",
              "    </tr>\n",
              "    <tr>\n",
              "      <th>4</th>\n",
              "      <td>5668626759</td>\n",
              "      <td>Studio apartment Washington Blvd, N Cleveland ...</td>\n",
              "      <td>This unit is located at Washington Blvd, N Cle...</td>\n",
              "      <td>NaN</td>\n",
              "      <td>0.0</td>\n",
              "      <td>USD</td>\n",
              "      <td>No</td>\n",
              "      <td>Thumbnail</td>\n",
              "      <td>None</td>\n",
              "      <td>880</td>\n",
              "      <td>$880</td>\n",
              "      <td>Monthly</td>\n",
              "      <td>125</td>\n",
              "      <td>Arlington</td>\n",
              "      <td>VA</td>\n",
              "      <td>38.8738</td>\n",
              "      <td>-77.1055</td>\n",
              "      <td>RentLingo</td>\n",
              "      <td>2019-12-26 11:23:21</td>\n",
              "    </tr>\n",
              "  </tbody>\n",
              "</table>\n",
              "</div>"
            ],
            "text/plain": [
              "           id  ...                time\n",
              "0  5668626895  ... 2019-12-26 11:23:35\n",
              "1  5664597177  ... 2019-12-22 12:17:43\n",
              "2  5668626833  ... 2019-12-26 11:23:30\n",
              "3  5659918074  ... 2019-12-18 11:15:43\n",
              "4  5668626759  ... 2019-12-26 11:23:21\n",
              "\n",
              "[5 rows x 19 columns]"
            ]
          },
          "metadata": {
            "tags": []
          },
          "execution_count": 114
        }
      ]
    },
    {
      "cell_type": "markdown",
      "metadata": {
        "id": "cUSookAeELcK"
      },
      "source": [
        "Merging Title+cityname+state+latititute+longitude = Full_address"
      ]
    },
    {
      "cell_type": "code",
      "metadata": {
        "id": "KvxFdJOYEbsJ"
      },
      "source": [
        "#22\n",
        "df[\"Full_address\"] = df[\"title\"] + df[\"cityname\"]"
      ],
      "execution_count": 115,
      "outputs": []
    },
    {
      "cell_type": "code",
      "metadata": {
        "id": "YMGoOZ81F1Z8",
        "colab": {
          "base_uri": "https://localhost:8080/",
          "height": 602
        },
        "outputId": "b0074d45-5086-4c0d-90c1-10fd5050eb5e"
      },
      "source": [
        "#23\n",
        "df.head()"
      ],
      "execution_count": 116,
      "outputs": [
        {
          "output_type": "execute_result",
          "data": {
            "text/html": [
              "<div>\n",
              "<style scoped>\n",
              "    .dataframe tbody tr th:only-of-type {\n",
              "        vertical-align: middle;\n",
              "    }\n",
              "\n",
              "    .dataframe tbody tr th {\n",
              "        vertical-align: top;\n",
              "    }\n",
              "\n",
              "    .dataframe thead th {\n",
              "        text-align: right;\n",
              "    }\n",
              "</style>\n",
              "<table border=\"1\" class=\"dataframe\">\n",
              "  <thead>\n",
              "    <tr style=\"text-align: right;\">\n",
              "      <th></th>\n",
              "      <th>id</th>\n",
              "      <th>title</th>\n",
              "      <th>body</th>\n",
              "      <th>bathrooms</th>\n",
              "      <th>bedrooms</th>\n",
              "      <th>currency</th>\n",
              "      <th>fee</th>\n",
              "      <th>has_photo</th>\n",
              "      <th>pets_allowed</th>\n",
              "      <th>price</th>\n",
              "      <th>price_display</th>\n",
              "      <th>price_type</th>\n",
              "      <th>square_feet</th>\n",
              "      <th>cityname</th>\n",
              "      <th>state</th>\n",
              "      <th>latitude</th>\n",
              "      <th>longitude</th>\n",
              "      <th>source</th>\n",
              "      <th>time</th>\n",
              "      <th>Full_address</th>\n",
              "    </tr>\n",
              "  </thead>\n",
              "  <tbody>\n",
              "    <tr>\n",
              "      <th>0</th>\n",
              "      <td>5668626895</td>\n",
              "      <td>Studio apartment 2nd St NE, Uhland Terrace NE,...</td>\n",
              "      <td>This unit is located at second St NE, Uhland T...</td>\n",
              "      <td>NaN</td>\n",
              "      <td>0.0</td>\n",
              "      <td>USD</td>\n",
              "      <td>No</td>\n",
              "      <td>Thumbnail</td>\n",
              "      <td>None</td>\n",
              "      <td>790</td>\n",
              "      <td>$790</td>\n",
              "      <td>Monthly</td>\n",
              "      <td>101</td>\n",
              "      <td>Washington</td>\n",
              "      <td>DC</td>\n",
              "      <td>38.9057</td>\n",
              "      <td>-76.9861</td>\n",
              "      <td>RentLingo</td>\n",
              "      <td>2019-12-26 11:23:35</td>\n",
              "      <td>Studio apartment 2nd St NE, Uhland Terrace NE,...</td>\n",
              "    </tr>\n",
              "    <tr>\n",
              "      <th>1</th>\n",
              "      <td>5664597177</td>\n",
              "      <td>Studio apartment 814 Schutte Road</td>\n",
              "      <td>This unit is located at 814 Schutte Road, Evan...</td>\n",
              "      <td>NaN</td>\n",
              "      <td>1.0</td>\n",
              "      <td>USD</td>\n",
              "      <td>No</td>\n",
              "      <td>Thumbnail</td>\n",
              "      <td>None</td>\n",
              "      <td>425</td>\n",
              "      <td>$425</td>\n",
              "      <td>Monthly</td>\n",
              "      <td>106</td>\n",
              "      <td>Evansville</td>\n",
              "      <td>IN</td>\n",
              "      <td>37.9680</td>\n",
              "      <td>-87.6621</td>\n",
              "      <td>RentLingo</td>\n",
              "      <td>2019-12-22 12:17:43</td>\n",
              "      <td>Studio apartment 814 Schutte RoadEvansville</td>\n",
              "    </tr>\n",
              "    <tr>\n",
              "      <th>2</th>\n",
              "      <td>5668626833</td>\n",
              "      <td>Studio apartment N Scott St, 14th St N, Arling...</td>\n",
              "      <td>This unit is located at N Scott St, 14th St N,...</td>\n",
              "      <td>1.0</td>\n",
              "      <td>0.0</td>\n",
              "      <td>USD</td>\n",
              "      <td>No</td>\n",
              "      <td>Thumbnail</td>\n",
              "      <td>None</td>\n",
              "      <td>1390</td>\n",
              "      <td>$1,390</td>\n",
              "      <td>Monthly</td>\n",
              "      <td>107</td>\n",
              "      <td>Arlington</td>\n",
              "      <td>VA</td>\n",
              "      <td>38.8910</td>\n",
              "      <td>-77.0816</td>\n",
              "      <td>RentLingo</td>\n",
              "      <td>2019-12-26 11:23:30</td>\n",
              "      <td>Studio apartment N Scott St, 14th St N, Arling...</td>\n",
              "    </tr>\n",
              "    <tr>\n",
              "      <th>3</th>\n",
              "      <td>5659918074</td>\n",
              "      <td>Studio apartment 1717 12th Ave</td>\n",
              "      <td>This unit is located at 1717 12th Ave, Seattle...</td>\n",
              "      <td>1.0</td>\n",
              "      <td>0.0</td>\n",
              "      <td>USD</td>\n",
              "      <td>No</td>\n",
              "      <td>Thumbnail</td>\n",
              "      <td>None</td>\n",
              "      <td>925</td>\n",
              "      <td>$925</td>\n",
              "      <td>Monthly</td>\n",
              "      <td>116</td>\n",
              "      <td>Seattle</td>\n",
              "      <td>WA</td>\n",
              "      <td>47.6160</td>\n",
              "      <td>-122.3275</td>\n",
              "      <td>RentLingo</td>\n",
              "      <td>2019-12-18 11:15:43</td>\n",
              "      <td>Studio apartment 1717 12th AveSeattle</td>\n",
              "    </tr>\n",
              "    <tr>\n",
              "      <th>4</th>\n",
              "      <td>5668626759</td>\n",
              "      <td>Studio apartment Washington Blvd, N Cleveland ...</td>\n",
              "      <td>This unit is located at Washington Blvd, N Cle...</td>\n",
              "      <td>NaN</td>\n",
              "      <td>0.0</td>\n",
              "      <td>USD</td>\n",
              "      <td>No</td>\n",
              "      <td>Thumbnail</td>\n",
              "      <td>None</td>\n",
              "      <td>880</td>\n",
              "      <td>$880</td>\n",
              "      <td>Monthly</td>\n",
              "      <td>125</td>\n",
              "      <td>Arlington</td>\n",
              "      <td>VA</td>\n",
              "      <td>38.8738</td>\n",
              "      <td>-77.1055</td>\n",
              "      <td>RentLingo</td>\n",
              "      <td>2019-12-26 11:23:21</td>\n",
              "      <td>Studio apartment Washington Blvd, N Cleveland ...</td>\n",
              "    </tr>\n",
              "  </tbody>\n",
              "</table>\n",
              "</div>"
            ],
            "text/plain": [
              "           id  ...                                       Full_address\n",
              "0  5668626895  ...  Studio apartment 2nd St NE, Uhland Terrace NE,...\n",
              "1  5664597177  ...        Studio apartment 814 Schutte RoadEvansville\n",
              "2  5668626833  ...  Studio apartment N Scott St, 14th St N, Arling...\n",
              "3  5659918074  ...              Studio apartment 1717 12th AveSeattle\n",
              "4  5668626759  ...  Studio apartment Washington Blvd, N Cleveland ...\n",
              "\n",
              "[5 rows x 20 columns]"
            ]
          },
          "metadata": {
            "tags": []
          },
          "execution_count": 116
        }
      ]
    },
    {
      "cell_type": "code",
      "metadata": {
        "id": "-yQ0eo1pGlaP"
      },
      "source": [
        "#24\n",
        "del df[\"title\"] \n",
        "\n",
        "\n",
        "del df[\"body\"]\n"
      ],
      "execution_count": 117,
      "outputs": []
    },
    {
      "cell_type": "markdown",
      "metadata": {
        "id": "0P-ymmLs072z"
      },
      "source": [
        "deleting price display as it seem to be redundant"
      ]
    },
    {
      "cell_type": "code",
      "metadata": {
        "id": "n3tWEMYw04Bg"
      },
      "source": [
        "\n",
        "del df[\"price_display\"]"
      ],
      "execution_count": 118,
      "outputs": []
    },
    {
      "cell_type": "code",
      "metadata": {
        "id": "8oLfw7y4GqVx",
        "colab": {
          "base_uri": "https://localhost:8080/",
          "height": 484
        },
        "outputId": "071ac0fb-6833-4720-d542-7e6f192dae64"
      },
      "source": [
        "#25\n",
        "df.head()"
      ],
      "execution_count": 119,
      "outputs": [
        {
          "output_type": "execute_result",
          "data": {
            "text/html": [
              "<div>\n",
              "<style scoped>\n",
              "    .dataframe tbody tr th:only-of-type {\n",
              "        vertical-align: middle;\n",
              "    }\n",
              "\n",
              "    .dataframe tbody tr th {\n",
              "        vertical-align: top;\n",
              "    }\n",
              "\n",
              "    .dataframe thead th {\n",
              "        text-align: right;\n",
              "    }\n",
              "</style>\n",
              "<table border=\"1\" class=\"dataframe\">\n",
              "  <thead>\n",
              "    <tr style=\"text-align: right;\">\n",
              "      <th></th>\n",
              "      <th>id</th>\n",
              "      <th>bathrooms</th>\n",
              "      <th>bedrooms</th>\n",
              "      <th>currency</th>\n",
              "      <th>fee</th>\n",
              "      <th>has_photo</th>\n",
              "      <th>pets_allowed</th>\n",
              "      <th>price</th>\n",
              "      <th>price_type</th>\n",
              "      <th>square_feet</th>\n",
              "      <th>cityname</th>\n",
              "      <th>state</th>\n",
              "      <th>latitude</th>\n",
              "      <th>longitude</th>\n",
              "      <th>source</th>\n",
              "      <th>time</th>\n",
              "      <th>Full_address</th>\n",
              "    </tr>\n",
              "  </thead>\n",
              "  <tbody>\n",
              "    <tr>\n",
              "      <th>0</th>\n",
              "      <td>5668626895</td>\n",
              "      <td>NaN</td>\n",
              "      <td>0.0</td>\n",
              "      <td>USD</td>\n",
              "      <td>No</td>\n",
              "      <td>Thumbnail</td>\n",
              "      <td>None</td>\n",
              "      <td>790</td>\n",
              "      <td>Monthly</td>\n",
              "      <td>101</td>\n",
              "      <td>Washington</td>\n",
              "      <td>DC</td>\n",
              "      <td>38.9057</td>\n",
              "      <td>-76.9861</td>\n",
              "      <td>RentLingo</td>\n",
              "      <td>2019-12-26 11:23:35</td>\n",
              "      <td>Studio apartment 2nd St NE, Uhland Terrace NE,...</td>\n",
              "    </tr>\n",
              "    <tr>\n",
              "      <th>1</th>\n",
              "      <td>5664597177</td>\n",
              "      <td>NaN</td>\n",
              "      <td>1.0</td>\n",
              "      <td>USD</td>\n",
              "      <td>No</td>\n",
              "      <td>Thumbnail</td>\n",
              "      <td>None</td>\n",
              "      <td>425</td>\n",
              "      <td>Monthly</td>\n",
              "      <td>106</td>\n",
              "      <td>Evansville</td>\n",
              "      <td>IN</td>\n",
              "      <td>37.9680</td>\n",
              "      <td>-87.6621</td>\n",
              "      <td>RentLingo</td>\n",
              "      <td>2019-12-22 12:17:43</td>\n",
              "      <td>Studio apartment 814 Schutte RoadEvansville</td>\n",
              "    </tr>\n",
              "    <tr>\n",
              "      <th>2</th>\n",
              "      <td>5668626833</td>\n",
              "      <td>1.0</td>\n",
              "      <td>0.0</td>\n",
              "      <td>USD</td>\n",
              "      <td>No</td>\n",
              "      <td>Thumbnail</td>\n",
              "      <td>None</td>\n",
              "      <td>1390</td>\n",
              "      <td>Monthly</td>\n",
              "      <td>107</td>\n",
              "      <td>Arlington</td>\n",
              "      <td>VA</td>\n",
              "      <td>38.8910</td>\n",
              "      <td>-77.0816</td>\n",
              "      <td>RentLingo</td>\n",
              "      <td>2019-12-26 11:23:30</td>\n",
              "      <td>Studio apartment N Scott St, 14th St N, Arling...</td>\n",
              "    </tr>\n",
              "    <tr>\n",
              "      <th>3</th>\n",
              "      <td>5659918074</td>\n",
              "      <td>1.0</td>\n",
              "      <td>0.0</td>\n",
              "      <td>USD</td>\n",
              "      <td>No</td>\n",
              "      <td>Thumbnail</td>\n",
              "      <td>None</td>\n",
              "      <td>925</td>\n",
              "      <td>Monthly</td>\n",
              "      <td>116</td>\n",
              "      <td>Seattle</td>\n",
              "      <td>WA</td>\n",
              "      <td>47.6160</td>\n",
              "      <td>-122.3275</td>\n",
              "      <td>RentLingo</td>\n",
              "      <td>2019-12-18 11:15:43</td>\n",
              "      <td>Studio apartment 1717 12th AveSeattle</td>\n",
              "    </tr>\n",
              "    <tr>\n",
              "      <th>4</th>\n",
              "      <td>5668626759</td>\n",
              "      <td>NaN</td>\n",
              "      <td>0.0</td>\n",
              "      <td>USD</td>\n",
              "      <td>No</td>\n",
              "      <td>Thumbnail</td>\n",
              "      <td>None</td>\n",
              "      <td>880</td>\n",
              "      <td>Monthly</td>\n",
              "      <td>125</td>\n",
              "      <td>Arlington</td>\n",
              "      <td>VA</td>\n",
              "      <td>38.8738</td>\n",
              "      <td>-77.1055</td>\n",
              "      <td>RentLingo</td>\n",
              "      <td>2019-12-26 11:23:21</td>\n",
              "      <td>Studio apartment Washington Blvd, N Cleveland ...</td>\n",
              "    </tr>\n",
              "  </tbody>\n",
              "</table>\n",
              "</div>"
            ],
            "text/plain": [
              "           id  ...                                       Full_address\n",
              "0  5668626895  ...  Studio apartment 2nd St NE, Uhland Terrace NE,...\n",
              "1  5664597177  ...        Studio apartment 814 Schutte RoadEvansville\n",
              "2  5668626833  ...  Studio apartment N Scott St, 14th St N, Arling...\n",
              "3  5659918074  ...              Studio apartment 1717 12th AveSeattle\n",
              "4  5668626759  ...  Studio apartment Washington Blvd, N Cleveland ...\n",
              "\n",
              "[5 rows x 17 columns]"
            ]
          },
          "metadata": {
            "tags": []
          },
          "execution_count": 119
        }
      ]
    },
    {
      "cell_type": "markdown",
      "metadata": {
        "id": "9Duy7c76jsFL"
      },
      "source": [
        "Converting latitute + longitute with column name GPS(KHALID)\n"
      ]
    },
    {
      "cell_type": "code",
      "metadata": {
        "colab": {
          "base_uri": "https://localhost:8080/"
        },
        "id": "k7-g1SmprVfW",
        "outputId": "49e62aa5-0d11-4586-9686-1d7ca8fa852e"
      },
      "source": [
        "#26-khalid\n",
        "df\n",
        "df.isnull().sum()"
      ],
      "execution_count": 120,
      "outputs": [
        {
          "output_type": "execute_result",
          "data": {
            "text/plain": [
              "id                 0\n",
              "bathrooms         33\n",
              "bedrooms           7\n",
              "currency           0\n",
              "fee                0\n",
              "has_photo          0\n",
              "pets_allowed    1745\n",
              "price              0\n",
              "price_type         0\n",
              "square_feet        0\n",
              "cityname          77\n",
              "state             77\n",
              "latitude          10\n",
              "longitude         10\n",
              "source             0\n",
              "time               0\n",
              "Full_address      77\n",
              "dtype: int64"
            ]
          },
          "metadata": {
            "tags": []
          },
          "execution_count": 120
        }
      ]
    },
    {
      "cell_type": "markdown",
      "metadata": {
        "id": "l_hvx1Xk6bwt"
      },
      "source": [
        "removing latitude and longitude"
      ]
    },
    {
      "cell_type": "code",
      "metadata": {
        "colab": {
          "base_uri": "https://localhost:8080/"
        },
        "id": "dEW-OJlX6QXD",
        "outputId": "79ef59b0-632a-4ab1-919d-06302fd36b1e"
      },
      "source": [
        "#26-khalid\n",
        "df=df.dropna(subset=['latitude'])\n",
        "df.isnull().sum()"
      ],
      "execution_count": 121,
      "outputs": [
        {
          "output_type": "execute_result",
          "data": {
            "text/plain": [
              "id                 0\n",
              "bathrooms         33\n",
              "bedrooms           7\n",
              "currency           0\n",
              "fee                0\n",
              "has_photo          0\n",
              "pets_allowed    1745\n",
              "price              0\n",
              "price_type         0\n",
              "square_feet        0\n",
              "cityname          67\n",
              "state             67\n",
              "latitude           0\n",
              "longitude          0\n",
              "source             0\n",
              "time               0\n",
              "Full_address      67\n",
              "dtype: int64"
            ]
          },
          "metadata": {
            "tags": []
          },
          "execution_count": 121
        }
      ]
    },
    {
      "cell_type": "code",
      "metadata": {
        "colab": {
          "base_uri": "https://localhost:8080/"
        },
        "id": "NChYjmUbHzbm",
        "outputId": "3ff99a50-df00-4376-82ce-6e127fda5983"
      },
      "source": [
        "#26-khalid\n",
        "df=df.dropna(subset=['state'])\n",
        "df.isnull().sum()"
      ],
      "execution_count": 122,
      "outputs": [
        {
          "output_type": "execute_result",
          "data": {
            "text/plain": [
              "id                 0\n",
              "bathrooms         33\n",
              "bedrooms           7\n",
              "currency           0\n",
              "fee                0\n",
              "has_photo          0\n",
              "pets_allowed    1744\n",
              "price              0\n",
              "price_type         0\n",
              "square_feet        0\n",
              "cityname           0\n",
              "state              0\n",
              "latitude           0\n",
              "longitude          0\n",
              "source             0\n",
              "time               0\n",
              "Full_address       0\n",
              "dtype: int64"
            ]
          },
          "metadata": {
            "tags": []
          },
          "execution_count": 122
        }
      ]
    },
    {
      "cell_type": "code",
      "metadata": {
        "colab": {
          "base_uri": "https://localhost:8080/"
        },
        "id": "LAAgRAXIq5vT",
        "outputId": "a09f105c-ee74-436e-82dd-0c9e7c6f2336"
      },
      "source": [
        "pip install geopandas"
      ],
      "execution_count": 123,
      "outputs": [
        {
          "output_type": "stream",
          "text": [
            "Requirement already satisfied: geopandas in /usr/local/lib/python3.7/dist-packages (0.9.0)\n",
            "Requirement already satisfied: shapely>=1.6 in /usr/local/lib/python3.7/dist-packages (from geopandas) (1.7.1)\n",
            "Requirement already satisfied: pyproj>=2.2.0 in /usr/local/lib/python3.7/dist-packages (from geopandas) (3.0.1)\n",
            "Requirement already satisfied: fiona>=1.8 in /usr/local/lib/python3.7/dist-packages (from geopandas) (1.8.18)\n",
            "Requirement already satisfied: pandas>=0.24.0 in /usr/local/lib/python3.7/dist-packages (from geopandas) (1.1.5)\n",
            "Requirement already satisfied: certifi in /usr/local/lib/python3.7/dist-packages (from pyproj>=2.2.0->geopandas) (2020.12.5)\n",
            "Requirement already satisfied: cligj>=0.5 in /usr/local/lib/python3.7/dist-packages (from fiona>=1.8->geopandas) (0.7.1)\n",
            "Requirement already satisfied: munch in /usr/local/lib/python3.7/dist-packages (from fiona>=1.8->geopandas) (2.5.0)\n",
            "Requirement already satisfied: attrs>=17 in /usr/local/lib/python3.7/dist-packages (from fiona>=1.8->geopandas) (20.3.0)\n",
            "Requirement already satisfied: six>=1.7 in /usr/local/lib/python3.7/dist-packages (from fiona>=1.8->geopandas) (1.15.0)\n",
            "Requirement already satisfied: click-plugins>=1.0 in /usr/local/lib/python3.7/dist-packages (from fiona>=1.8->geopandas) (1.1.1)\n",
            "Requirement already satisfied: click<8,>=4.0 in /usr/local/lib/python3.7/dist-packages (from fiona>=1.8->geopandas) (7.1.2)\n",
            "Requirement already satisfied: pytz>=2017.2 in /usr/local/lib/python3.7/dist-packages (from pandas>=0.24.0->geopandas) (2018.9)\n",
            "Requirement already satisfied: python-dateutil>=2.7.3 in /usr/local/lib/python3.7/dist-packages (from pandas>=0.24.0->geopandas) (2.8.1)\n",
            "Requirement already satisfied: numpy>=1.15.4 in /usr/local/lib/python3.7/dist-packages (from pandas>=0.24.0->geopandas) (1.19.5)\n"
          ],
          "name": "stdout"
        }
      ]
    },
    {
      "cell_type": "code",
      "metadata": {
        "id": "6KQVmG1gqdvq"
      },
      "source": [
        "import pandas as pd\n",
        "import matplotlib.pyplot as plt\n",
        "import descartes\n",
        "import geopandas as gpd\n",
        "from shapely.geometry import Point, Polygon\n",
        "\n",
        "%matplotlib inline"
      ],
      "execution_count": 124,
      "outputs": []
    },
    {
      "cell_type": "code",
      "metadata": {
        "colab": {
          "base_uri": "https://localhost:8080/",
          "height": 438
        },
        "id": "PSgoNSp48QMN",
        "outputId": "47a80126-f337-4033-e6fc-12cccacd620b"
      },
      "source": [
        "\n",
        "street_map=gpd.read_file(\"/content/States_shapefile.shp\")\n",
        "fig,ax=plt.subplots(figsize=(10,10))\n",
        "street_map.plot(ax=ax)\n"
      ],
      "execution_count": 125,
      "outputs": [
        {
          "output_type": "execute_result",
          "data": {
            "text/plain": [
              "<matplotlib.axes._subplots.AxesSubplot at 0x7fc515c56d50>"
            ]
          },
          "metadata": {
            "tags": []
          },
          "execution_count": 125
        },
        {
          "output_type": "display_data",
          "data": {
            "image/png": "[encoded data removed]",
            "text/plain": [
              "<Figure size 720x720 with 1 Axes>"
            ]
          },
          "metadata": {
            "tags": [],
            "needs_background": "light"
          }
        }
      ]
    },
    {
      "cell_type": "code",
      "metadata": {
        "id": "xazHK9l-plhp"
      },
      "source": [
        "#26-1(KHALID)\n",
        "geometry= [Point(xy) for xy in zip(df[\"longitude\"],df[\"latitude\"])]\n",
        "geometry[:3]\n",
        "crs={\"init\":\"epsg:4326\"}\n"
      ],
      "execution_count": 126,
      "outputs": []
    },
    {
      "cell_type": "code",
      "metadata": {
        "colab": {
          "base_uri": "https://localhost:8080/",
          "height": 518
        },
        "id": "LNJUtKq5FFN_",
        "outputId": "2df805d6-16af-4172-ee28-efb7f6571e7b"
      },
      "source": [
        "\n",
        "geo_df=gpd.GeoDataFrame(df,crs=crs,geometry=geometry)\n",
        "geo_df.head()\n"
      ],
      "execution_count": 127,
      "outputs": [
        {
          "output_type": "stream",
          "text": [
            "/usr/local/lib/python3.7/dist-packages/pyproj/crs/crs.py:53: FutureWarning: '+init=<authority>:<code>' syntax is deprecated. '<authority>:<code>' is the preferred initialization method. When making the change, be mindful of axis order changes: https://pyproj4.github.io/pyproj/stable/gotchas.html#axis-order-changes-in-proj-6\n",
            "  return _prepare_from_string(\" \".join(pjargs))\n"
          ],
          "name": "stderr"
        },
        {
          "output_type": "execute_result",
          "data": {
            "text/html": [
              "<div>\n",
              "<style scoped>\n",
              "    .dataframe tbody tr th:only-of-type {\n",
              "        vertical-align: middle;\n",
              "    }\n",
              "\n",
              "    .dataframe tbody tr th {\n",
              "        vertical-align: top;\n",
              "    }\n",
              "\n",
              "    .dataframe thead th {\n",
              "        text-align: right;\n",
              "    }\n",
              "</style>\n",
              "<table border=\"1\" class=\"dataframe\">\n",
              "  <thead>\n",
              "    <tr style=\"text-align: right;\">\n",
              "      <th></th>\n",
              "      <th>id</th>\n",
              "      <th>bathrooms</th>\n",
              "      <th>bedrooms</th>\n",
              "      <th>currency</th>\n",
              "      <th>fee</th>\n",
              "      <th>has_photo</th>\n",
              "      <th>pets_allowed</th>\n",
              "      <th>price</th>\n",
              "      <th>price_type</th>\n",
              "      <th>square_feet</th>\n",
              "      <th>cityname</th>\n",
              "      <th>state</th>\n",
              "      <th>latitude</th>\n",
              "      <th>longitude</th>\n",
              "      <th>source</th>\n",
              "      <th>time</th>\n",
              "      <th>Full_address</th>\n",
              "      <th>geometry</th>\n",
              "    </tr>\n",
              "  </thead>\n",
              "  <tbody>\n",
              "    <tr>\n",
              "      <th>0</th>\n",
              "      <td>5668626895</td>\n",
              "      <td>NaN</td>\n",
              "      <td>0.0</td>\n",
              "      <td>USD</td>\n",
              "      <td>No</td>\n",
              "      <td>Thumbnail</td>\n",
              "      <td>None</td>\n",
              "      <td>790</td>\n",
              "      <td>Monthly</td>\n",
              "      <td>101</td>\n",
              "      <td>Washington</td>\n",
              "      <td>DC</td>\n",
              "      <td>38.9057</td>\n",
              "      <td>-76.9861</td>\n",
              "      <td>RentLingo</td>\n",
              "      <td>2019-12-26 11:23:35</td>\n",
              "      <td>Studio apartment 2nd St NE, Uhland Terrace NE,...</td>\n",
              "      <td>POINT (-76.98610 38.90570)</td>\n",
              "    </tr>\n",
              "    <tr>\n",
              "      <th>1</th>\n",
              "      <td>5664597177</td>\n",
              "      <td>NaN</td>\n",
              "      <td>1.0</td>\n",
              "      <td>USD</td>\n",
              "      <td>No</td>\n",
              "      <td>Thumbnail</td>\n",
              "      <td>None</td>\n",
              "      <td>425</td>\n",
              "      <td>Monthly</td>\n",
              "      <td>106</td>\n",
              "      <td>Evansville</td>\n",
              "      <td>IN</td>\n",
              "      <td>37.9680</td>\n",
              "      <td>-87.6621</td>\n",
              "      <td>RentLingo</td>\n",
              "      <td>2019-12-22 12:17:43</td>\n",
              "      <td>Studio apartment 814 Schutte RoadEvansville</td>\n",
              "      <td>POINT (-87.66210 37.96800)</td>\n",
              "    </tr>\n",
              "    <tr>\n",
              "      <th>2</th>\n",
              "      <td>5668626833</td>\n",
              "      <td>1.0</td>\n",
              "      <td>0.0</td>\n",
              "      <td>USD</td>\n",
              "      <td>No</td>\n",
              "      <td>Thumbnail</td>\n",
              "      <td>None</td>\n",
              "      <td>1390</td>\n",
              "      <td>Monthly</td>\n",
              "      <td>107</td>\n",
              "      <td>Arlington</td>\n",
              "      <td>VA</td>\n",
              "      <td>38.8910</td>\n",
              "      <td>-77.0816</td>\n",
              "      <td>RentLingo</td>\n",
              "      <td>2019-12-26 11:23:30</td>\n",
              "      <td>Studio apartment N Scott St, 14th St N, Arling...</td>\n",
              "      <td>POINT (-77.08160 38.89100)</td>\n",
              "    </tr>\n",
              "    <tr>\n",
              "      <th>3</th>\n",
              "      <td>5659918074</td>\n",
              "      <td>1.0</td>\n",
              "      <td>0.0</td>\n",
              "      <td>USD</td>\n",
              "      <td>No</td>\n",
              "      <td>Thumbnail</td>\n",
              "      <td>None</td>\n",
              "      <td>925</td>\n",
              "      <td>Monthly</td>\n",
              "      <td>116</td>\n",
              "      <td>Seattle</td>\n",
              "      <td>WA</td>\n",
              "      <td>47.6160</td>\n",
              "      <td>-122.3275</td>\n",
              "      <td>RentLingo</td>\n",
              "      <td>2019-12-18 11:15:43</td>\n",
              "      <td>Studio apartment 1717 12th AveSeattle</td>\n",
              "      <td>POINT (-122.32750 47.61600)</td>\n",
              "    </tr>\n",
              "    <tr>\n",
              "      <th>4</th>\n",
              "      <td>5668626759</td>\n",
              "      <td>NaN</td>\n",
              "      <td>0.0</td>\n",
              "      <td>USD</td>\n",
              "      <td>No</td>\n",
              "      <td>Thumbnail</td>\n",
              "      <td>None</td>\n",
              "      <td>880</td>\n",
              "      <td>Monthly</td>\n",
              "      <td>125</td>\n",
              "      <td>Arlington</td>\n",
              "      <td>VA</td>\n",
              "      <td>38.8738</td>\n",
              "      <td>-77.1055</td>\n",
              "      <td>RentLingo</td>\n",
              "      <td>2019-12-26 11:23:21</td>\n",
              "      <td>Studio apartment Washington Blvd, N Cleveland ...</td>\n",
              "      <td>POINT (-77.10550 38.87380)</td>\n",
              "    </tr>\n",
              "  </tbody>\n",
              "</table>\n",
              "</div>"
            ],
            "text/plain": [
              "           id  ...                     geometry\n",
              "0  5668626895  ...   POINT (-76.98610 38.90570)\n",
              "1  5664597177  ...   POINT (-87.66210 37.96800)\n",
              "2  5668626833  ...   POINT (-77.08160 38.89100)\n",
              "3  5659918074  ...  POINT (-122.32750 47.61600)\n",
              "4  5668626759  ...   POINT (-77.10550 38.87380)\n",
              "\n",
              "[5 rows x 18 columns]"
            ]
          },
          "metadata": {
            "tags": []
          },
          "execution_count": 127
        }
      ]
    },
    {
      "cell_type": "code",
      "metadata": {
        "colab": {
          "base_uri": "https://localhost:8080/",
          "height": 438
        },
        "id": "B8KyTVtFF-OB",
        "outputId": "5305b749-3fed-44fe-eb42-f6cfb7cadfdd"
      },
      "source": [
        "\n",
        "#31\n",
        "ax = geo_df['geometry'].plot(markersize=8, figsize=(10,10))\n",
        "street_map.plot(ax=ax,alpha=0.4,color=\"grey\")\n",
        "# geo_df[geo_df[\"price\"]==0].plot(ax=ax,markersize=20,color=\"blue\",marker=\"o\",label=\"Neg\")\n",
        "# geo_df[geo_df[\"price\"]==1].plot(ax=ax,markersize=20,color=\"red\",marker=\"^\",label=\"Pos\")\n",
        "# plt.legend(prop={\"size\":15})\n"
      ],
      "execution_count": 128,
      "outputs": [
        {
          "output_type": "execute_result",
          "data": {
            "text/plain": [
              "<matplotlib.axes._subplots.AxesSubplot at 0x7fc52bf41590>"
            ]
          },
          "metadata": {
            "tags": []
          },
          "execution_count": 128
        },
        {
          "output_type": "display_data",
          "data": {
            "image/png": "[encoded data removed]",
            "text/plain": [
              "<Figure size 720x720 with 1 Axes>"
            ]
          },
          "metadata": {
            "tags": [],
            "needs_background": "light"
          }
        }
      ]
    },
    {
      "cell_type": "code",
      "metadata": {
        "colab": {
          "base_uri": "https://localhost:8080/"
        },
        "id": "mo7hqVrqmRko",
        "outputId": "125cb6f7-b912-481c-b3c0-428542b74ddb"
      },
      "source": [
        "print(df[df['state'].isnull()])"
      ],
      "execution_count": 129,
      "outputs": [
        {
          "output_type": "stream",
          "text": [
            "Empty DataFrame\n",
            "Columns: [id, bathrooms, bedrooms, currency, fee, has_photo, pets_allowed, price, price_type, square_feet, cityname, state, latitude, longitude, source, time, Full_address, geometry]\n",
            "Index: []\n"
          ],
          "name": "stdout"
        }
      ]
    },
    {
      "cell_type": "markdown",
      "metadata": {
        "id": "odfPGVROku-0"
      },
      "source": [
        "Converting pets to zero if no pets are allowed and 1 if pets are allowed"
      ]
    },
    {
      "cell_type": "code",
      "metadata": {
        "id": "W5SwL1rMH8Xe"
      },
      "source": [
        "#26\n"
      ],
      "execution_count": 130,
      "outputs": []
    },
    {
      "cell_type": "code",
      "metadata": {
        "colab": {
          "base_uri": "https://localhost:8080/"
        },
        "id": "D4zU-e4SZVCW",
        "outputId": "2836bae9-5695-480b-85aa-7f1ab2072ed9"
      },
      "source": [
        "df.pets_allowed.unique()"
      ],
      "execution_count": 131,
      "outputs": [
        {
          "output_type": "execute_result",
          "data": {
            "text/plain": [
              "array(['None', nan, 'Cats,Dogs', 'Cats', 'Dogs'], dtype=object)"
            ]
          },
          "metadata": {
            "tags": []
          },
          "execution_count": 131
        }
      ]
    },
    {
      "cell_type": "markdown",
      "metadata": {
        "id": "RQmDd90MNyTX"
      },
      "source": [
        "Pets_allowed contains 4 categories\n",
        "1.none\n",
        "2.nan\n",
        "3.cats\n",
        "4.dogs\n",
        "\n",
        "lets first delete nan"
      ]
    },
    {
      "cell_type": "code",
      "metadata": {
        "id": "mygjL9VhYKCC"
      },
      "source": [
        "#deleting rows containing nan as we have large dataset.\n",
        "df=df.dropna(subset=['pets_allowed'])"
      ],
      "execution_count": 132,
      "outputs": []
    },
    {
      "cell_type": "code",
      "metadata": {
        "colab": {
          "base_uri": "https://localhost:8080/"
        },
        "id": "npEVg1rDOACs",
        "outputId": "4d849bfc-c95e-48c3-e63c-4814e7d0cdd5"
      },
      "source": [
        "df.pets_allowed.unique()"
      ],
      "execution_count": 133,
      "outputs": [
        {
          "output_type": "execute_result",
          "data": {
            "text/plain": [
              "array(['None', 'Cats,Dogs', 'Cats', 'Dogs'], dtype=object)"
            ]
          },
          "metadata": {
            "tags": []
          },
          "execution_count": 133
        }
      ]
    },
    {
      "cell_type": "code",
      "metadata": {
        "colab": {
          "base_uri": "https://localhost:8080/"
        },
        "id": "K5bJMnv-SUPr",
        "outputId": "3123394c-6c0a-4a9f-964d-ae207559f047"
      },
      "source": [
        "df[\"bathrooms\"].mean()"
      ],
      "execution_count": 134,
      "outputs": [
        {
          "output_type": "execute_result",
          "data": {
            "text/plain": [
              "1.370747881616112"
            ]
          },
          "metadata": {
            "tags": []
          },
          "execution_count": 134
        }
      ]
    },
    {
      "cell_type": "markdown",
      "metadata": {
        "id": "1U9wgUn7Tjrd"
      },
      "source": [
        "dropping nan values of bathroom as it has only 33 rows"
      ]
    },
    {
      "cell_type": "code",
      "metadata": {
        "id": "Be5cyLBTTodV"
      },
      "source": [
        "df=df.dropna(subset=['bathrooms'])\n"
      ],
      "execution_count": 135,
      "outputs": []
    },
    {
      "cell_type": "markdown",
      "metadata": {
        "id": "bh_5nGuJVop7"
      },
      "source": [
        "dropping nan values of bedrooms as it has only 4 rows"
      ]
    },
    {
      "cell_type": "code",
      "metadata": {
        "id": "bqfTKmBzVpAR"
      },
      "source": [
        "df=df.dropna(subset=['bedrooms'])"
      ],
      "execution_count": 136,
      "outputs": []
    },
    {
      "cell_type": "markdown",
      "metadata": {
        "id": "KI3mCCsiWDd0"
      },
      "source": [
        "checking shape of the dataframe to see how to deal with missing values in address."
      ]
    },
    {
      "cell_type": "code",
      "metadata": {
        "colab": {
          "base_uri": "https://localhost:8080/"
        },
        "id": "Q-nji32GWN0I",
        "outputId": "7e3f01dc-2d62-493d-c1b6-212e03be6d55"
      },
      "source": [
        "df.shape"
      ],
      "execution_count": 137,
      "outputs": [
        {
          "output_type": "execute_result",
          "data": {
            "text/plain": [
              "(8139, 18)"
            ]
          },
          "metadata": {
            "tags": []
          },
          "execution_count": 137
        }
      ]
    },
    {
      "cell_type": "markdown",
      "metadata": {
        "id": "lreMfqRPWTX8"
      },
      "source": [
        "since we have 8139 rows in dataframe and 1674 missing non numerical rows of address we can delete these rows aswell"
      ]
    },
    {
      "cell_type": "code",
      "metadata": {
        "id": "FVg4NaweWue9"
      },
      "source": [
        "#df=df.dropna(subset=['address'])"
      ],
      "execution_count": 138,
      "outputs": []
    },
    {
      "cell_type": "code",
      "metadata": {
        "colab": {
          "base_uri": "https://localhost:8080/",
          "height": 467
        },
        "id": "8ui_bwQIXE6o",
        "outputId": "518491b5-4425-4dc6-b984-56a4d7e7723f"
      },
      "source": [
        "df.isnull().sum()\n",
        "df.head()"
      ],
      "execution_count": 139,
      "outputs": [
        {
          "output_type": "execute_result",
          "data": {
            "text/html": [
              "<div>\n",
              "<style scoped>\n",
              "    .dataframe tbody tr th:only-of-type {\n",
              "        vertical-align: middle;\n",
              "    }\n",
              "\n",
              "    .dataframe tbody tr th {\n",
              "        vertical-align: top;\n",
              "    }\n",
              "\n",
              "    .dataframe thead th {\n",
              "        text-align: right;\n",
              "    }\n",
              "</style>\n",
              "<table border=\"1\" class=\"dataframe\">\n",
              "  <thead>\n",
              "    <tr style=\"text-align: right;\">\n",
              "      <th></th>\n",
              "      <th>id</th>\n",
              "      <th>bathrooms</th>\n",
              "      <th>bedrooms</th>\n",
              "      <th>currency</th>\n",
              "      <th>fee</th>\n",
              "      <th>has_photo</th>\n",
              "      <th>pets_allowed</th>\n",
              "      <th>price</th>\n",
              "      <th>price_type</th>\n",
              "      <th>square_feet</th>\n",
              "      <th>cityname</th>\n",
              "      <th>state</th>\n",
              "      <th>latitude</th>\n",
              "      <th>longitude</th>\n",
              "      <th>source</th>\n",
              "      <th>time</th>\n",
              "      <th>Full_address</th>\n",
              "      <th>geometry</th>\n",
              "    </tr>\n",
              "  </thead>\n",
              "  <tbody>\n",
              "    <tr>\n",
              "      <th>2</th>\n",
              "      <td>5668626833</td>\n",
              "      <td>1.0</td>\n",
              "      <td>0.0</td>\n",
              "      <td>USD</td>\n",
              "      <td>No</td>\n",
              "      <td>Thumbnail</td>\n",
              "      <td>None</td>\n",
              "      <td>1390</td>\n",
              "      <td>Monthly</td>\n",
              "      <td>107</td>\n",
              "      <td>Arlington</td>\n",
              "      <td>VA</td>\n",
              "      <td>38.8910</td>\n",
              "      <td>-77.0816</td>\n",
              "      <td>RentLingo</td>\n",
              "      <td>2019-12-26 11:23:30</td>\n",
              "      <td>Studio apartment N Scott St, 14th St N, Arling...</td>\n",
              "      <td>POINT (-77.08160 38.89100)</td>\n",
              "    </tr>\n",
              "    <tr>\n",
              "      <th>3</th>\n",
              "      <td>5659918074</td>\n",
              "      <td>1.0</td>\n",
              "      <td>0.0</td>\n",
              "      <td>USD</td>\n",
              "      <td>No</td>\n",
              "      <td>Thumbnail</td>\n",
              "      <td>None</td>\n",
              "      <td>925</td>\n",
              "      <td>Monthly</td>\n",
              "      <td>116</td>\n",
              "      <td>Seattle</td>\n",
              "      <td>WA</td>\n",
              "      <td>47.6160</td>\n",
              "      <td>-122.3275</td>\n",
              "      <td>RentLingo</td>\n",
              "      <td>2019-12-18 11:15:43</td>\n",
              "      <td>Studio apartment 1717 12th AveSeattle</td>\n",
              "      <td>POINT (-122.32750 47.61600)</td>\n",
              "    </tr>\n",
              "    <tr>\n",
              "      <th>8</th>\n",
              "      <td>5668610290</td>\n",
              "      <td>1.0</td>\n",
              "      <td>0.0</td>\n",
              "      <td>USD</td>\n",
              "      <td>No</td>\n",
              "      <td>Thumbnail</td>\n",
              "      <td>None</td>\n",
              "      <td>1495</td>\n",
              "      <td>Monthly</td>\n",
              "      <td>138</td>\n",
              "      <td>San Francisco</td>\n",
              "      <td>CA</td>\n",
              "      <td>37.7599</td>\n",
              "      <td>-122.4379</td>\n",
              "      <td>RentLingo</td>\n",
              "      <td>2019-12-26 11:05:13</td>\n",
              "      <td>Studio apartment 333 Hyde StSan Francisco</td>\n",
              "      <td>POINT (-122.43790 37.75990)</td>\n",
              "    </tr>\n",
              "    <tr>\n",
              "      <th>14</th>\n",
              "      <td>5664571820</td>\n",
              "      <td>1.0</td>\n",
              "      <td>0.0</td>\n",
              "      <td>USD</td>\n",
              "      <td>No</td>\n",
              "      <td>Thumbnail</td>\n",
              "      <td>None</td>\n",
              "      <td>1695</td>\n",
              "      <td>Monthly</td>\n",
              "      <td>190</td>\n",
              "      <td>San Francisco</td>\n",
              "      <td>CA</td>\n",
              "      <td>37.7599</td>\n",
              "      <td>-122.4379</td>\n",
              "      <td>RentLingo</td>\n",
              "      <td>2019-12-22 11:45:21</td>\n",
              "      <td>Studio apartment 57 Taylor StreetSan Francisco</td>\n",
              "      <td>POINT (-122.43790 37.75990)</td>\n",
              "    </tr>\n",
              "    <tr>\n",
              "      <th>15</th>\n",
              "      <td>5659276240</td>\n",
              "      <td>1.0</td>\n",
              "      <td>1.0</td>\n",
              "      <td>USD</td>\n",
              "      <td>No</td>\n",
              "      <td>Thumbnail</td>\n",
              "      <td>Cats,Dogs</td>\n",
              "      <td>1560</td>\n",
              "      <td>Weekly</td>\n",
              "      <td>200</td>\n",
              "      <td>New Bern</td>\n",
              "      <td>NC</td>\n",
              "      <td>35.0847</td>\n",
              "      <td>-77.0609</td>\n",
              "      <td>ListedBuy</td>\n",
              "      <td>2019-12-17 21:27:56</td>\n",
              "      <td>Studio Cottage 214New Bern</td>\n",
              "      <td>POINT (-77.06090 35.08470)</td>\n",
              "    </tr>\n",
              "  </tbody>\n",
              "</table>\n",
              "</div>"
            ],
            "text/plain": [
              "            id  ...                     geometry\n",
              "2   5668626833  ...   POINT (-77.08160 38.89100)\n",
              "3   5659918074  ...  POINT (-122.32750 47.61600)\n",
              "8   5668610290  ...  POINT (-122.43790 37.75990)\n",
              "14  5664571820  ...  POINT (-122.43790 37.75990)\n",
              "15  5659276240  ...   POINT (-77.06090 35.08470)\n",
              "\n",
              "[5 rows x 18 columns]"
            ]
          },
          "metadata": {
            "tags": []
          },
          "execution_count": 139
        }
      ]
    },
    {
      "cell_type": "markdown",
      "metadata": {
        "id": "kg99IUmaXdCS"
      },
      "source": [
        "with missing values dealt with,now lets focus on other attributes like fee,id,fee and source"
      ]
    },
    {
      "cell_type": "markdown",
      "metadata": {
        "id": "TbR95V9LkGEf"
      },
      "source": [
        "lets calculate correlation and find whichcolumns are important"
      ]
    },
    {
      "cell_type": "code",
      "metadata": {
        "colab": {
          "base_uri": "https://localhost:8080/",
          "height": 254
        },
        "id": "-kTv3hrpkTDX",
        "outputId": "b24dab59-dcb8-478c-f138-ee2ad0a7a1ef"
      },
      "source": [
        "df.corr()"
      ],
      "execution_count": 140,
      "outputs": [
        {
          "output_type": "execute_result",
          "data": {
            "text/html": [
              "<div>\n",
              "<style scoped>\n",
              "    .dataframe tbody tr th:only-of-type {\n",
              "        vertical-align: middle;\n",
              "    }\n",
              "\n",
              "    .dataframe tbody tr th {\n",
              "        vertical-align: top;\n",
              "    }\n",
              "\n",
              "    .dataframe thead th {\n",
              "        text-align: right;\n",
              "    }\n",
              "</style>\n",
              "<table border=\"1\" class=\"dataframe\">\n",
              "  <thead>\n",
              "    <tr style=\"text-align: right;\">\n",
              "      <th></th>\n",
              "      <th>id</th>\n",
              "      <th>bathrooms</th>\n",
              "      <th>bedrooms</th>\n",
              "      <th>price</th>\n",
              "      <th>square_feet</th>\n",
              "      <th>latitude</th>\n",
              "      <th>longitude</th>\n",
              "    </tr>\n",
              "  </thead>\n",
              "  <tbody>\n",
              "    <tr>\n",
              "      <th>id</th>\n",
              "      <td>1.000000</td>\n",
              "      <td>-0.043596</td>\n",
              "      <td>0.021139</td>\n",
              "      <td>-0.007706</td>\n",
              "      <td>0.005031</td>\n",
              "      <td>-0.034496</td>\n",
              "      <td>-0.182787</td>\n",
              "    </tr>\n",
              "    <tr>\n",
              "      <th>bathrooms</th>\n",
              "      <td>-0.043596</td>\n",
              "      <td>1.000000</td>\n",
              "      <td>0.702624</td>\n",
              "      <td>0.493978</td>\n",
              "      <td>0.793039</td>\n",
              "      <td>-0.047703</td>\n",
              "      <td>0.003472</td>\n",
              "    </tr>\n",
              "    <tr>\n",
              "      <th>bedrooms</th>\n",
              "      <td>0.021139</td>\n",
              "      <td>0.702624</td>\n",
              "      <td>1.000000</td>\n",
              "      <td>0.378530</td>\n",
              "      <td>0.745694</td>\n",
              "      <td>0.030900</td>\n",
              "      <td>0.040831</td>\n",
              "    </tr>\n",
              "    <tr>\n",
              "      <th>price</th>\n",
              "      <td>-0.007706</td>\n",
              "      <td>0.493978</td>\n",
              "      <td>0.378530</td>\n",
              "      <td>1.000000</td>\n",
              "      <td>0.542708</td>\n",
              "      <td>0.004482</td>\n",
              "      <td>-0.222817</td>\n",
              "    </tr>\n",
              "    <tr>\n",
              "      <th>square_feet</th>\n",
              "      <td>0.005031</td>\n",
              "      <td>0.793039</td>\n",
              "      <td>0.745694</td>\n",
              "      <td>0.542708</td>\n",
              "      <td>1.000000</td>\n",
              "      <td>-0.015438</td>\n",
              "      <td>0.014884</td>\n",
              "    </tr>\n",
              "    <tr>\n",
              "      <th>latitude</th>\n",
              "      <td>-0.034496</td>\n",
              "      <td>-0.047703</td>\n",
              "      <td>0.030900</td>\n",
              "      <td>0.004482</td>\n",
              "      <td>-0.015438</td>\n",
              "      <td>1.000000</td>\n",
              "      <td>-0.118533</td>\n",
              "    </tr>\n",
              "    <tr>\n",
              "      <th>longitude</th>\n",
              "      <td>-0.182787</td>\n",
              "      <td>0.003472</td>\n",
              "      <td>0.040831</td>\n",
              "      <td>-0.222817</td>\n",
              "      <td>0.014884</td>\n",
              "      <td>-0.118533</td>\n",
              "      <td>1.000000</td>\n",
              "    </tr>\n",
              "  </tbody>\n",
              "</table>\n",
              "</div>"
            ],
            "text/plain": [
              "                   id  bathrooms  bedrooms  ...  square_feet  latitude  longitude\n",
              "id           1.000000  -0.043596  0.021139  ...     0.005031 -0.034496  -0.182787\n",
              "bathrooms   -0.043596   1.000000  0.702624  ...     0.793039 -0.047703   0.003472\n",
              "bedrooms     0.021139   0.702624  1.000000  ...     0.745694  0.030900   0.040831\n",
              "price       -0.007706   0.493978  0.378530  ...     0.542708  0.004482  -0.222817\n",
              "square_feet  0.005031   0.793039  0.745694  ...     1.000000 -0.015438   0.014884\n",
              "latitude    -0.034496  -0.047703  0.030900  ...    -0.015438  1.000000  -0.118533\n",
              "longitude   -0.182787   0.003472  0.040831  ...     0.014884 -0.118533   1.000000\n",
              "\n",
              "[7 rows x 7 columns]"
            ]
          },
          "metadata": {
            "tags": []
          },
          "execution_count": 140
        }
      ]
    },
    {
      "cell_type": "code",
      "metadata": {
        "colab": {
          "base_uri": "https://localhost:8080/"
        },
        "id": "81QHwidnlDUN",
        "outputId": "037bfb66-7295-424a-9f5e-c04e824a83ac"
      },
      "source": [
        "df.isnull().sum()"
      ],
      "execution_count": 141,
      "outputs": [
        {
          "output_type": "execute_result",
          "data": {
            "text/plain": [
              "id              0\n",
              "bathrooms       0\n",
              "bedrooms        0\n",
              "currency        0\n",
              "fee             0\n",
              "has_photo       0\n",
              "pets_allowed    0\n",
              "price           0\n",
              "price_type      0\n",
              "square_feet     0\n",
              "cityname        0\n",
              "state           0\n",
              "latitude        0\n",
              "longitude       0\n",
              "source          0\n",
              "time            0\n",
              "Full_address    0\n",
              "geometry        0\n",
              "dtype: int64"
            ]
          },
          "metadata": {
            "tags": []
          },
          "execution_count": 141
        }
      ]
    },
    {
      "cell_type": "markdown",
      "metadata": {
        "id": "vWSKhhvSnoze"
      },
      "source": [
        "# feature extraction:\n",
        "dropping price  "
      ]
    },
    {
      "cell_type": "code",
      "metadata": {
        "colab": {
          "base_uri": "https://localhost:8080/",
          "height": 774
        },
        "id": "VgGIZjRJnuaS",
        "outputId": "a1ac606f-649c-4b27-f6fb-853e7b37d06c"
      },
      "source": [
        "del df[\"price_type\"]\n",
        "\n",
        "df"
      ],
      "execution_count": 142,
      "outputs": [
        {
          "output_type": "execute_result",
          "data": {
            "text/html": [
              "<div>\n",
              "<style scoped>\n",
              "    .dataframe tbody tr th:only-of-type {\n",
              "        vertical-align: middle;\n",
              "    }\n",
              "\n",
              "    .dataframe tbody tr th {\n",
              "        vertical-align: top;\n",
              "    }\n",
              "\n",
              "    .dataframe thead th {\n",
              "        text-align: right;\n",
              "    }\n",
              "</style>\n",
              "<table border=\"1\" class=\"dataframe\">\n",
              "  <thead>\n",
              "    <tr style=\"text-align: right;\">\n",
              "      <th></th>\n",
              "      <th>id</th>\n",
              "      <th>bathrooms</th>\n",
              "      <th>bedrooms</th>\n",
              "      <th>currency</th>\n",
              "      <th>fee</th>\n",
              "      <th>has_photo</th>\n",
              "      <th>pets_allowed</th>\n",
              "      <th>price</th>\n",
              "      <th>square_feet</th>\n",
              "      <th>cityname</th>\n",
              "      <th>state</th>\n",
              "      <th>latitude</th>\n",
              "      <th>longitude</th>\n",
              "      <th>source</th>\n",
              "      <th>time</th>\n",
              "      <th>Full_address</th>\n",
              "      <th>geometry</th>\n",
              "    </tr>\n",
              "  </thead>\n",
              "  <tbody>\n",
              "    <tr>\n",
              "      <th>2</th>\n",
              "      <td>5668626833</td>\n",
              "      <td>1.0</td>\n",
              "      <td>0.0</td>\n",
              "      <td>USD</td>\n",
              "      <td>No</td>\n",
              "      <td>Thumbnail</td>\n",
              "      <td>None</td>\n",
              "      <td>1390</td>\n",
              "      <td>107</td>\n",
              "      <td>Arlington</td>\n",
              "      <td>VA</td>\n",
              "      <td>38.8910</td>\n",
              "      <td>-77.0816</td>\n",
              "      <td>RentLingo</td>\n",
              "      <td>2019-12-26 11:23:30</td>\n",
              "      <td>Studio apartment N Scott St, 14th St N, Arling...</td>\n",
              "      <td>POINT (-77.08160 38.89100)</td>\n",
              "    </tr>\n",
              "    <tr>\n",
              "      <th>3</th>\n",
              "      <td>5659918074</td>\n",
              "      <td>1.0</td>\n",
              "      <td>0.0</td>\n",
              "      <td>USD</td>\n",
              "      <td>No</td>\n",
              "      <td>Thumbnail</td>\n",
              "      <td>None</td>\n",
              "      <td>925</td>\n",
              "      <td>116</td>\n",
              "      <td>Seattle</td>\n",
              "      <td>WA</td>\n",
              "      <td>47.6160</td>\n",
              "      <td>-122.3275</td>\n",
              "      <td>RentLingo</td>\n",
              "      <td>2019-12-18 11:15:43</td>\n",
              "      <td>Studio apartment 1717 12th AveSeattle</td>\n",
              "      <td>POINT (-122.32750 47.61600)</td>\n",
              "    </tr>\n",
              "    <tr>\n",
              "      <th>8</th>\n",
              "      <td>5668610290</td>\n",
              "      <td>1.0</td>\n",
              "      <td>0.0</td>\n",
              "      <td>USD</td>\n",
              "      <td>No</td>\n",
              "      <td>Thumbnail</td>\n",
              "      <td>None</td>\n",
              "      <td>1495</td>\n",
              "      <td>138</td>\n",
              "      <td>San Francisco</td>\n",
              "      <td>CA</td>\n",
              "      <td>37.7599</td>\n",
              "      <td>-122.4379</td>\n",
              "      <td>RentLingo</td>\n",
              "      <td>2019-12-26 11:05:13</td>\n",
              "      <td>Studio apartment 333 Hyde StSan Francisco</td>\n",
              "      <td>POINT (-122.43790 37.75990)</td>\n",
              "    </tr>\n",
              "    <tr>\n",
              "      <th>14</th>\n",
              "      <td>5664571820</td>\n",
              "      <td>1.0</td>\n",
              "      <td>0.0</td>\n",
              "      <td>USD</td>\n",
              "      <td>No</td>\n",
              "      <td>Thumbnail</td>\n",
              "      <td>None</td>\n",
              "      <td>1695</td>\n",
              "      <td>190</td>\n",
              "      <td>San Francisco</td>\n",
              "      <td>CA</td>\n",
              "      <td>37.7599</td>\n",
              "      <td>-122.4379</td>\n",
              "      <td>RentLingo</td>\n",
              "      <td>2019-12-22 11:45:21</td>\n",
              "      <td>Studio apartment 57 Taylor StreetSan Francisco</td>\n",
              "      <td>POINT (-122.43790 37.75990)</td>\n",
              "    </tr>\n",
              "    <tr>\n",
              "      <th>15</th>\n",
              "      <td>5659276240</td>\n",
              "      <td>1.0</td>\n",
              "      <td>1.0</td>\n",
              "      <td>USD</td>\n",
              "      <td>No</td>\n",
              "      <td>Thumbnail</td>\n",
              "      <td>Cats,Dogs</td>\n",
              "      <td>1560</td>\n",
              "      <td>200</td>\n",
              "      <td>New Bern</td>\n",
              "      <td>NC</td>\n",
              "      <td>35.0847</td>\n",
              "      <td>-77.0609</td>\n",
              "      <td>ListedBuy</td>\n",
              "      <td>2019-12-17 21:27:56</td>\n",
              "      <td>Studio Cottage 214New Bern</td>\n",
              "      <td>POINT (-77.06090 35.08470)</td>\n",
              "    </tr>\n",
              "    <tr>\n",
              "      <th>...</th>\n",
              "      <td>...</td>\n",
              "      <td>...</td>\n",
              "      <td>...</td>\n",
              "      <td>...</td>\n",
              "      <td>...</td>\n",
              "      <td>...</td>\n",
              "      <td>...</td>\n",
              "      <td>...</td>\n",
              "      <td>...</td>\n",
              "      <td>...</td>\n",
              "      <td>...</td>\n",
              "      <td>...</td>\n",
              "      <td>...</td>\n",
              "      <td>...</td>\n",
              "      <td>...</td>\n",
              "      <td>...</td>\n",
              "      <td>...</td>\n",
              "    </tr>\n",
              "    <tr>\n",
              "      <th>9993</th>\n",
              "      <td>5668627239</td>\n",
              "      <td>5.0</td>\n",
              "      <td>5.0</td>\n",
              "      <td>USD</td>\n",
              "      <td>No</td>\n",
              "      <td>Thumbnail</td>\n",
              "      <td>Cats,Dogs</td>\n",
              "      <td>6900</td>\n",
              "      <td>5700</td>\n",
              "      <td>Lutz</td>\n",
              "      <td>FL</td>\n",
              "      <td>28.1253</td>\n",
              "      <td>-82.4468</td>\n",
              "      <td>RentLingo</td>\n",
              "      <td>2019-12-26 11:24:02</td>\n",
              "      <td>Five BR 18605 Avenue MonacoLutz</td>\n",
              "      <td>POINT (-82.44680 28.12530)</td>\n",
              "    </tr>\n",
              "    <tr>\n",
              "      <th>9994</th>\n",
              "      <td>5664597657</td>\n",
              "      <td>4.0</td>\n",
              "      <td>6.0</td>\n",
              "      <td>USD</td>\n",
              "      <td>No</td>\n",
              "      <td>Thumbnail</td>\n",
              "      <td>None</td>\n",
              "      <td>3000</td>\n",
              "      <td>5921</td>\n",
              "      <td>Saint George</td>\n",
              "      <td>UT</td>\n",
              "      <td>37.0835</td>\n",
              "      <td>-113.5823</td>\n",
              "      <td>RentLingo</td>\n",
              "      <td>2019-12-22 12:18:23</td>\n",
              "      <td>Six BR 2536 W Canyon Ridge Rd.Saint George</td>\n",
              "      <td>POINT (-113.58230 37.08350)</td>\n",
              "    </tr>\n",
              "    <tr>\n",
              "      <th>9995</th>\n",
              "      <td>5630240092</td>\n",
              "      <td>4.0</td>\n",
              "      <td>5.0</td>\n",
              "      <td>USD</td>\n",
              "      <td>No</td>\n",
              "      <td>Thumbnail</td>\n",
              "      <td>None</td>\n",
              "      <td>6000</td>\n",
              "      <td>6300</td>\n",
              "      <td>Edina</td>\n",
              "      <td>MN</td>\n",
              "      <td>44.9000</td>\n",
              "      <td>-93.3233</td>\n",
              "      <td>RentLingo</td>\n",
              "      <td>2019-11-30 11:22:55</td>\n",
              "      <td>Five BR 5407 Abbott Place - AbbottEdina</td>\n",
              "      <td>POINT (-93.32330 44.90000)</td>\n",
              "    </tr>\n",
              "    <tr>\n",
              "      <th>9996</th>\n",
              "      <td>5668640983</td>\n",
              "      <td>8.0</td>\n",
              "      <td>6.0</td>\n",
              "      <td>USD</td>\n",
              "      <td>No</td>\n",
              "      <td>Thumbnail</td>\n",
              "      <td>None</td>\n",
              "      <td>25000</td>\n",
              "      <td>8716</td>\n",
              "      <td>Montecito</td>\n",
              "      <td>CA</td>\n",
              "      <td>34.4331</td>\n",
              "      <td>-119.6331</td>\n",
              "      <td>RentLingo</td>\n",
              "      <td>2019-12-26 11:40:19</td>\n",
              "      <td>Six BR 256 Las EntradasMontecito</td>\n",
              "      <td>POINT (-119.63310 34.43310)</td>\n",
              "    </tr>\n",
              "    <tr>\n",
              "      <th>9997</th>\n",
              "      <td>5668643292</td>\n",
              "      <td>8.0</td>\n",
              "      <td>6.0</td>\n",
              "      <td>USD</td>\n",
              "      <td>No</td>\n",
              "      <td>Thumbnail</td>\n",
              "      <td>None</td>\n",
              "      <td>11000</td>\n",
              "      <td>11318</td>\n",
              "      <td>Potomac</td>\n",
              "      <td>MD</td>\n",
              "      <td>39.0287</td>\n",
              "      <td>-77.2409</td>\n",
              "      <td>RentLingo</td>\n",
              "      <td>2019-12-26 11:42:40</td>\n",
              "      <td>Six BR 9908 Bentcross DrivePotomac</td>\n",
              "      <td>POINT (-77.24090 39.02870)</td>\n",
              "    </tr>\n",
              "  </tbody>\n",
              "</table>\n",
              "<p>8139 rows × 17 columns</p>\n",
              "</div>"
            ],
            "text/plain": [
              "              id  ...                     geometry\n",
              "2     5668626833  ...   POINT (-77.08160 38.89100)\n",
              "3     5659918074  ...  POINT (-122.32750 47.61600)\n",
              "8     5668610290  ...  POINT (-122.43790 37.75990)\n",
              "14    5664571820  ...  POINT (-122.43790 37.75990)\n",
              "15    5659276240  ...   POINT (-77.06090 35.08470)\n",
              "...          ...  ...                          ...\n",
              "9993  5668627239  ...   POINT (-82.44680 28.12530)\n",
              "9994  5664597657  ...  POINT (-113.58230 37.08350)\n",
              "9995  5630240092  ...   POINT (-93.32330 44.90000)\n",
              "9996  5668640983  ...  POINT (-119.63310 34.43310)\n",
              "9997  5668643292  ...   POINT (-77.24090 39.02870)\n",
              "\n",
              "[8139 rows x 17 columns]"
            ]
          },
          "metadata": {
            "tags": []
          },
          "execution_count": 142
        }
      ]
    },
    {
      "cell_type": "markdown",
      "metadata": {
        "id": "ham3WXTGoRRK"
      },
      "source": [
        "Dropping Ids"
      ]
    },
    {
      "cell_type": "code",
      "metadata": {
        "colab": {
          "base_uri": "https://localhost:8080/",
          "height": 774
        },
        "id": "8AUcqT5KoQEQ",
        "outputId": "338332ef-0681-449d-f608-b535ed7a9767"
      },
      "source": [
        "del df[\"id\"]\n",
        "df"
      ],
      "execution_count": 143,
      "outputs": [
        {
          "output_type": "execute_result",
          "data": {
            "text/html": [
              "<div>\n",
              "<style scoped>\n",
              "    .dataframe tbody tr th:only-of-type {\n",
              "        vertical-align: middle;\n",
              "    }\n",
              "\n",
              "    .dataframe tbody tr th {\n",
              "        vertical-align: top;\n",
              "    }\n",
              "\n",
              "    .dataframe thead th {\n",
              "        text-align: right;\n",
              "    }\n",
              "</style>\n",
              "<table border=\"1\" class=\"dataframe\">\n",
              "  <thead>\n",
              "    <tr style=\"text-align: right;\">\n",
              "      <th></th>\n",
              "      <th>bathrooms</th>\n",
              "      <th>bedrooms</th>\n",
              "      <th>currency</th>\n",
              "      <th>fee</th>\n",
              "      <th>has_photo</th>\n",
              "      <th>pets_allowed</th>\n",
              "      <th>price</th>\n",
              "      <th>square_feet</th>\n",
              "      <th>cityname</th>\n",
              "      <th>state</th>\n",
              "      <th>latitude</th>\n",
              "      <th>longitude</th>\n",
              "      <th>source</th>\n",
              "      <th>time</th>\n",
              "      <th>Full_address</th>\n",
              "      <th>geometry</th>\n",
              "    </tr>\n",
              "  </thead>\n",
              "  <tbody>\n",
              "    <tr>\n",
              "      <th>2</th>\n",
              "      <td>1.0</td>\n",
              "      <td>0.0</td>\n",
              "      <td>USD</td>\n",
              "      <td>No</td>\n",
              "      <td>Thumbnail</td>\n",
              "      <td>None</td>\n",
              "      <td>1390</td>\n",
              "      <td>107</td>\n",
              "      <td>Arlington</td>\n",
              "      <td>VA</td>\n",
              "      <td>38.8910</td>\n",
              "      <td>-77.0816</td>\n",
              "      <td>RentLingo</td>\n",
              "      <td>2019-12-26 11:23:30</td>\n",
              "      <td>Studio apartment N Scott St, 14th St N, Arling...</td>\n",
              "      <td>POINT (-77.08160 38.89100)</td>\n",
              "    </tr>\n",
              "    <tr>\n",
              "      <th>3</th>\n",
              "      <td>1.0</td>\n",
              "      <td>0.0</td>\n",
              "      <td>USD</td>\n",
              "      <td>No</td>\n",
              "      <td>Thumbnail</td>\n",
              "      <td>None</td>\n",
              "      <td>925</td>\n",
              "      <td>116</td>\n",
              "      <td>Seattle</td>\n",
              "      <td>WA</td>\n",
              "      <td>47.6160</td>\n",
              "      <td>-122.3275</td>\n",
              "      <td>RentLingo</td>\n",
              "      <td>2019-12-18 11:15:43</td>\n",
              "      <td>Studio apartment 1717 12th AveSeattle</td>\n",
              "      <td>POINT (-122.32750 47.61600)</td>\n",
              "    </tr>\n",
              "    <tr>\n",
              "      <th>8</th>\n",
              "      <td>1.0</td>\n",
              "      <td>0.0</td>\n",
              "      <td>USD</td>\n",
              "      <td>No</td>\n",
              "      <td>Thumbnail</td>\n",
              "      <td>None</td>\n",
              "      <td>1495</td>\n",
              "      <td>138</td>\n",
              "      <td>San Francisco</td>\n",
              "      <td>CA</td>\n",
              "      <td>37.7599</td>\n",
              "      <td>-122.4379</td>\n",
              "      <td>RentLingo</td>\n",
              "      <td>2019-12-26 11:05:13</td>\n",
              "      <td>Studio apartment 333 Hyde StSan Francisco</td>\n",
              "      <td>POINT (-122.43790 37.75990)</td>\n",
              "    </tr>\n",
              "    <tr>\n",
              "      <th>14</th>\n",
              "      <td>1.0</td>\n",
              "      <td>0.0</td>\n",
              "      <td>USD</td>\n",
              "      <td>No</td>\n",
              "      <td>Thumbnail</td>\n",
              "      <td>None</td>\n",
              "      <td>1695</td>\n",
              "      <td>190</td>\n",
              "      <td>San Francisco</td>\n",
              "      <td>CA</td>\n",
              "      <td>37.7599</td>\n",
              "      <td>-122.4379</td>\n",
              "      <td>RentLingo</td>\n",
              "      <td>2019-12-22 11:45:21</td>\n",
              "      <td>Studio apartment 57 Taylor StreetSan Francisco</td>\n",
              "      <td>POINT (-122.43790 37.75990)</td>\n",
              "    </tr>\n",
              "    <tr>\n",
              "      <th>15</th>\n",
              "      <td>1.0</td>\n",
              "      <td>1.0</td>\n",
              "      <td>USD</td>\n",
              "      <td>No</td>\n",
              "      <td>Thumbnail</td>\n",
              "      <td>Cats,Dogs</td>\n",
              "      <td>1560</td>\n",
              "      <td>200</td>\n",
              "      <td>New Bern</td>\n",
              "      <td>NC</td>\n",
              "      <td>35.0847</td>\n",
              "      <td>-77.0609</td>\n",
              "      <td>ListedBuy</td>\n",
              "      <td>2019-12-17 21:27:56</td>\n",
              "      <td>Studio Cottage 214New Bern</td>\n",
              "      <td>POINT (-77.06090 35.08470)</td>\n",
              "    </tr>\n",
              "    <tr>\n",
              "      <th>...</th>\n",
              "      <td>...</td>\n",
              "      <td>...</td>\n",
              "      <td>...</td>\n",
              "      <td>...</td>\n",
              "      <td>...</td>\n",
              "      <td>...</td>\n",
              "      <td>...</td>\n",
              "      <td>...</td>\n",
              "      <td>...</td>\n",
              "      <td>...</td>\n",
              "      <td>...</td>\n",
              "      <td>...</td>\n",
              "      <td>...</td>\n",
              "      <td>...</td>\n",
              "      <td>...</td>\n",
              "      <td>...</td>\n",
              "    </tr>\n",
              "    <tr>\n",
              "      <th>9993</th>\n",
              "      <td>5.0</td>\n",
              "      <td>5.0</td>\n",
              "      <td>USD</td>\n",
              "      <td>No</td>\n",
              "      <td>Thumbnail</td>\n",
              "      <td>Cats,Dogs</td>\n",
              "      <td>6900</td>\n",
              "      <td>5700</td>\n",
              "      <td>Lutz</td>\n",
              "      <td>FL</td>\n",
              "      <td>28.1253</td>\n",
              "      <td>-82.4468</td>\n",
              "      <td>RentLingo</td>\n",
              "      <td>2019-12-26 11:24:02</td>\n",
              "      <td>Five BR 18605 Avenue MonacoLutz</td>\n",
              "      <td>POINT (-82.44680 28.12530)</td>\n",
              "    </tr>\n",
              "    <tr>\n",
              "      <th>9994</th>\n",
              "      <td>4.0</td>\n",
              "      <td>6.0</td>\n",
              "      <td>USD</td>\n",
              "      <td>No</td>\n",
              "      <td>Thumbnail</td>\n",
              "      <td>None</td>\n",
              "      <td>3000</td>\n",
              "      <td>5921</td>\n",
              "      <td>Saint George</td>\n",
              "      <td>UT</td>\n",
              "      <td>37.0835</td>\n",
              "      <td>-113.5823</td>\n",
              "      <td>RentLingo</td>\n",
              "      <td>2019-12-22 12:18:23</td>\n",
              "      <td>Six BR 2536 W Canyon Ridge Rd.Saint George</td>\n",
              "      <td>POINT (-113.58230 37.08350)</td>\n",
              "    </tr>\n",
              "    <tr>\n",
              "      <th>9995</th>\n",
              "      <td>4.0</td>\n",
              "      <td>5.0</td>\n",
              "      <td>USD</td>\n",
              "      <td>No</td>\n",
              "      <td>Thumbnail</td>\n",
              "      <td>None</td>\n",
              "      <td>6000</td>\n",
              "      <td>6300</td>\n",
              "      <td>Edina</td>\n",
              "      <td>MN</td>\n",
              "      <td>44.9000</td>\n",
              "      <td>-93.3233</td>\n",
              "      <td>RentLingo</td>\n",
              "      <td>2019-11-30 11:22:55</td>\n",
              "      <td>Five BR 5407 Abbott Place - AbbottEdina</td>\n",
              "      <td>POINT (-93.32330 44.90000)</td>\n",
              "    </tr>\n",
              "    <tr>\n",
              "      <th>9996</th>\n",
              "      <td>8.0</td>\n",
              "      <td>6.0</td>\n",
              "      <td>USD</td>\n",
              "      <td>No</td>\n",
              "      <td>Thumbnail</td>\n",
              "      <td>None</td>\n",
              "      <td>25000</td>\n",
              "      <td>8716</td>\n",
              "      <td>Montecito</td>\n",
              "      <td>CA</td>\n",
              "      <td>34.4331</td>\n",
              "      <td>-119.6331</td>\n",
              "      <td>RentLingo</td>\n",
              "      <td>2019-12-26 11:40:19</td>\n",
              "      <td>Six BR 256 Las EntradasMontecito</td>\n",
              "      <td>POINT (-119.63310 34.43310)</td>\n",
              "    </tr>\n",
              "    <tr>\n",
              "      <th>9997</th>\n",
              "      <td>8.0</td>\n",
              "      <td>6.0</td>\n",
              "      <td>USD</td>\n",
              "      <td>No</td>\n",
              "      <td>Thumbnail</td>\n",
              "      <td>None</td>\n",
              "      <td>11000</td>\n",
              "      <td>11318</td>\n",
              "      <td>Potomac</td>\n",
              "      <td>MD</td>\n",
              "      <td>39.0287</td>\n",
              "      <td>-77.2409</td>\n",
              "      <td>RentLingo</td>\n",
              "      <td>2019-12-26 11:42:40</td>\n",
              "      <td>Six BR 9908 Bentcross DrivePotomac</td>\n",
              "      <td>POINT (-77.24090 39.02870)</td>\n",
              "    </tr>\n",
              "  </tbody>\n",
              "</table>\n",
              "<p>8139 rows × 16 columns</p>\n",
              "</div>"
            ],
            "text/plain": [
              "      bathrooms  ...                     geometry\n",
              "2           1.0  ...   POINT (-77.08160 38.89100)\n",
              "3           1.0  ...  POINT (-122.32750 47.61600)\n",
              "8           1.0  ...  POINT (-122.43790 37.75990)\n",
              "14          1.0  ...  POINT (-122.43790 37.75990)\n",
              "15          1.0  ...   POINT (-77.06090 35.08470)\n",
              "...         ...  ...                          ...\n",
              "9993        5.0  ...   POINT (-82.44680 28.12530)\n",
              "9994        4.0  ...  POINT (-113.58230 37.08350)\n",
              "9995        4.0  ...   POINT (-93.32330 44.90000)\n",
              "9996        8.0  ...  POINT (-119.63310 34.43310)\n",
              "9997        8.0  ...   POINT (-77.24090 39.02870)\n",
              "\n",
              "[8139 rows x 16 columns]"
            ]
          },
          "metadata": {
            "tags": []
          },
          "execution_count": 143
        }
      ]
    },
    {
      "cell_type": "markdown",
      "metadata": {
        "id": "zC9_L08VolP2"
      },
      "source": [
        "checking unique values for column source"
      ]
    },
    {
      "cell_type": "code",
      "metadata": {
        "colab": {
          "base_uri": "https://localhost:8080/"
        },
        "id": "jZpFrUZYorX3",
        "outputId": "2823a231-a904-44bc-be2d-66259b7ba2c1"
      },
      "source": [
        "#14\n",
        "np.unique(df['source'])"
      ],
      "execution_count": 144,
      "outputs": [
        {
          "output_type": "execute_result",
          "data": {
            "text/plain": [
              "array(['GoSection8', 'Listanza', 'ListedBuy', 'RENTCafé', 'RENTOCULAR',\n",
              "       'RealRentals', 'RentDigs.com', 'RentLingo', 'rentbits',\n",
              "       'tenantcloud'], dtype=object)"
            ]
          },
          "metadata": {
            "tags": []
          },
          "execution_count": 144
        }
      ]
    },
    {
      "cell_type": "code",
      "metadata": {
        "colab": {
          "base_uri": "https://localhost:8080/"
        },
        "id": "-EAk-OXDvD6l",
        "outputId": "e342ae40-ad76-4bb2-afe1-f4be96afbb19"
      },
      "source": [
        "np.unique(df['cityname'])"
      ],
      "execution_count": 145,
      "outputs": [
        {
          "output_type": "execute_result",
          "data": {
            "text/plain": [
              "array(['Aberdeen', 'Abilene', 'Abington', ..., 'Ypsilanti', 'Yuba City',\n",
              "       'Yukon'], dtype=object)"
            ]
          },
          "metadata": {
            "tags": []
          },
          "execution_count": 145
        }
      ]
    },
    {
      "cell_type": "code",
      "metadata": {
        "colab": {
          "base_uri": "https://localhost:8080/"
        },
        "id": "GHoMmFUbvIN0",
        "outputId": "07affb04-1139-4bad-f6a6-4b2ab41849d4"
      },
      "source": [
        "np.unique(df['state'])"
      ],
      "execution_count": 146,
      "outputs": [
        {
          "output_type": "execute_result",
          "data": {
            "text/plain": [
              "array(['AK', 'AL', 'AR', 'AZ', 'CA', 'CO', 'CT', 'DC', 'DE', 'FL', 'GA',\n",
              "       'HI', 'IA', 'ID', 'IL', 'IN', 'KS', 'KY', 'LA', 'MA', 'MD', 'ME',\n",
              "       'MI', 'MN', 'MO', 'MS', 'MT', 'NC', 'ND', 'NE', 'NH', 'NJ', 'NM',\n",
              "       'NV', 'NY', 'OH', 'OK', 'OR', 'PA', 'RI', 'SC', 'SD', 'TN', 'TX',\n",
              "       'UT', 'VA', 'VT', 'WA', 'WI', 'WV', 'WY'], dtype=object)"
            ]
          },
          "metadata": {
            "tags": []
          },
          "execution_count": 146
        }
      ]
    },
    {
      "cell_type": "code",
      "metadata": {
        "colab": {
          "base_uri": "https://localhost:8080/"
        },
        "id": "znt2pyD23bP5",
        "outputId": "6831b28f-f07e-4781-ceeb-f59ef706e4d5"
      },
      "source": [
        "np.unique(df['fee'])\n"
      ],
      "execution_count": 147,
      "outputs": [
        {
          "output_type": "execute_result",
          "data": {
            "text/plain": [
              "array(['No'], dtype=object)"
            ]
          },
          "metadata": {
            "tags": []
          },
          "execution_count": 147
        }
      ]
    },
    {
      "cell_type": "code",
      "metadata": {
        "colab": {
          "base_uri": "https://localhost:8080/"
        },
        "id": "yeFYTVq-3gKt",
        "outputId": "dfc00603-4c72-4e41-d43d-480811d7a324"
      },
      "source": [
        "np.unique(df['currency'])"
      ],
      "execution_count": 148,
      "outputs": [
        {
          "output_type": "execute_result",
          "data": {
            "text/plain": [
              "array(['USD'], dtype=object)"
            ]
          },
          "metadata": {
            "tags": []
          },
          "execution_count": 148
        }
      ]
    },
    {
      "cell_type": "code",
      "metadata": {
        "colab": {
          "base_uri": "https://localhost:8080/"
        },
        "id": "UIPBq3fx32kX",
        "outputId": "8f2c718e-3c60-4c14-b7f1-d939c4994d41"
      },
      "source": [
        "np.unique(df['has_photo'])\n"
      ],
      "execution_count": 149,
      "outputs": [
        {
          "output_type": "execute_result",
          "data": {
            "text/plain": [
              "array(['No', 'Thumbnail', 'Yes'], dtype=object)"
            ]
          },
          "metadata": {
            "tags": []
          },
          "execution_count": 149
        }
      ]
    },
    {
      "cell_type": "markdown",
      "metadata": {
        "id": "AQHAJqat3oND"
      },
      "source": [
        "since fee is no for all columns and currency is usd for all columns we will delete it"
      ]
    },
    {
      "cell_type": "code",
      "metadata": {
        "colab": {
          "base_uri": "https://localhost:8080/",
          "height": 774
        },
        "id": "FdGelNe13toH",
        "outputId": "eb0f87b7-905e-49f8-c323-5ff9f3c1a3f7"
      },
      "source": [
        "del df[\"currency\"]\n",
        "del df[\"fee\"]\n",
        "del df[\"has_photo\"]\n",
        "df"
      ],
      "execution_count": 150,
      "outputs": [
        {
          "output_type": "execute_result",
          "data": {
            "text/html": [
              "<div>\n",
              "<style scoped>\n",
              "    .dataframe tbody tr th:only-of-type {\n",
              "        vertical-align: middle;\n",
              "    }\n",
              "\n",
              "    .dataframe tbody tr th {\n",
              "        vertical-align: top;\n",
              "    }\n",
              "\n",
              "    .dataframe thead th {\n",
              "        text-align: right;\n",
              "    }\n",
              "</style>\n",
              "<table border=\"1\" class=\"dataframe\">\n",
              "  <thead>\n",
              "    <tr style=\"text-align: right;\">\n",
              "      <th></th>\n",
              "      <th>bathrooms</th>\n",
              "      <th>bedrooms</th>\n",
              "      <th>pets_allowed</th>\n",
              "      <th>price</th>\n",
              "      <th>square_feet</th>\n",
              "      <th>cityname</th>\n",
              "      <th>state</th>\n",
              "      <th>latitude</th>\n",
              "      <th>longitude</th>\n",
              "      <th>source</th>\n",
              "      <th>time</th>\n",
              "      <th>Full_address</th>\n",
              "      <th>geometry</th>\n",
              "    </tr>\n",
              "  </thead>\n",
              "  <tbody>\n",
              "    <tr>\n",
              "      <th>2</th>\n",
              "      <td>1.0</td>\n",
              "      <td>0.0</td>\n",
              "      <td>None</td>\n",
              "      <td>1390</td>\n",
              "      <td>107</td>\n",
              "      <td>Arlington</td>\n",
              "      <td>VA</td>\n",
              "      <td>38.8910</td>\n",
              "      <td>-77.0816</td>\n",
              "      <td>RentLingo</td>\n",
              "      <td>2019-12-26 11:23:30</td>\n",
              "      <td>Studio apartment N Scott St, 14th St N, Arling...</td>\n",
              "      <td>POINT (-77.08160 38.89100)</td>\n",
              "    </tr>\n",
              "    <tr>\n",
              "      <th>3</th>\n",
              "      <td>1.0</td>\n",
              "      <td>0.0</td>\n",
              "      <td>None</td>\n",
              "      <td>925</td>\n",
              "      <td>116</td>\n",
              "      <td>Seattle</td>\n",
              "      <td>WA</td>\n",
              "      <td>47.6160</td>\n",
              "      <td>-122.3275</td>\n",
              "      <td>RentLingo</td>\n",
              "      <td>2019-12-18 11:15:43</td>\n",
              "      <td>Studio apartment 1717 12th AveSeattle</td>\n",
              "      <td>POINT (-122.32750 47.61600)</td>\n",
              "    </tr>\n",
              "    <tr>\n",
              "      <th>8</th>\n",
              "      <td>1.0</td>\n",
              "      <td>0.0</td>\n",
              "      <td>None</td>\n",
              "      <td>1495</td>\n",
              "      <td>138</td>\n",
              "      <td>San Francisco</td>\n",
              "      <td>CA</td>\n",
              "      <td>37.7599</td>\n",
              "      <td>-122.4379</td>\n",
              "      <td>RentLingo</td>\n",
              "      <td>2019-12-26 11:05:13</td>\n",
              "      <td>Studio apartment 333 Hyde StSan Francisco</td>\n",
              "      <td>POINT (-122.43790 37.75990)</td>\n",
              "    </tr>\n",
              "    <tr>\n",
              "      <th>14</th>\n",
              "      <td>1.0</td>\n",
              "      <td>0.0</td>\n",
              "      <td>None</td>\n",
              "      <td>1695</td>\n",
              "      <td>190</td>\n",
              "      <td>San Francisco</td>\n",
              "      <td>CA</td>\n",
              "      <td>37.7599</td>\n",
              "      <td>-122.4379</td>\n",
              "      <td>RentLingo</td>\n",
              "      <td>2019-12-22 11:45:21</td>\n",
              "      <td>Studio apartment 57 Taylor StreetSan Francisco</td>\n",
              "      <td>POINT (-122.43790 37.75990)</td>\n",
              "    </tr>\n",
              "    <tr>\n",
              "      <th>15</th>\n",
              "      <td>1.0</td>\n",
              "      <td>1.0</td>\n",
              "      <td>Cats,Dogs</td>\n",
              "      <td>1560</td>\n",
              "      <td>200</td>\n",
              "      <td>New Bern</td>\n",
              "      <td>NC</td>\n",
              "      <td>35.0847</td>\n",
              "      <td>-77.0609</td>\n",
              "      <td>ListedBuy</td>\n",
              "      <td>2019-12-17 21:27:56</td>\n",
              "      <td>Studio Cottage 214New Bern</td>\n",
              "      <td>POINT (-77.06090 35.08470)</td>\n",
              "    </tr>\n",
              "    <tr>\n",
              "      <th>...</th>\n",
              "      <td>...</td>\n",
              "      <td>...</td>\n",
              "      <td>...</td>\n",
              "      <td>...</td>\n",
              "      <td>...</td>\n",
              "      <td>...</td>\n",
              "      <td>...</td>\n",
              "      <td>...</td>\n",
              "      <td>...</td>\n",
              "      <td>...</td>\n",
              "      <td>...</td>\n",
              "      <td>...</td>\n",
              "      <td>...</td>\n",
              "    </tr>\n",
              "    <tr>\n",
              "      <th>9993</th>\n",
              "      <td>5.0</td>\n",
              "      <td>5.0</td>\n",
              "      <td>Cats,Dogs</td>\n",
              "      <td>6900</td>\n",
              "      <td>5700</td>\n",
              "      <td>Lutz</td>\n",
              "      <td>FL</td>\n",
              "      <td>28.1253</td>\n",
              "      <td>-82.4468</td>\n",
              "      <td>RentLingo</td>\n",
              "      <td>2019-12-26 11:24:02</td>\n",
              "      <td>Five BR 18605 Avenue MonacoLutz</td>\n",
              "      <td>POINT (-82.44680 28.12530)</td>\n",
              "    </tr>\n",
              "    <tr>\n",
              "      <th>9994</th>\n",
              "      <td>4.0</td>\n",
              "      <td>6.0</td>\n",
              "      <td>None</td>\n",
              "      <td>3000</td>\n",
              "      <td>5921</td>\n",
              "      <td>Saint George</td>\n",
              "      <td>UT</td>\n",
              "      <td>37.0835</td>\n",
              "      <td>-113.5823</td>\n",
              "      <td>RentLingo</td>\n",
              "      <td>2019-12-22 12:18:23</td>\n",
              "      <td>Six BR 2536 W Canyon Ridge Rd.Saint George</td>\n",
              "      <td>POINT (-113.58230 37.08350)</td>\n",
              "    </tr>\n",
              "    <tr>\n",
              "      <th>9995</th>\n",
              "      <td>4.0</td>\n",
              "      <td>5.0</td>\n",
              "      <td>None</td>\n",
              "      <td>6000</td>\n",
              "      <td>6300</td>\n",
              "      <td>Edina</td>\n",
              "      <td>MN</td>\n",
              "      <td>44.9000</td>\n",
              "      <td>-93.3233</td>\n",
              "      <td>RentLingo</td>\n",
              "      <td>2019-11-30 11:22:55</td>\n",
              "      <td>Five BR 5407 Abbott Place - AbbottEdina</td>\n",
              "      <td>POINT (-93.32330 44.90000)</td>\n",
              "    </tr>\n",
              "    <tr>\n",
              "      <th>9996</th>\n",
              "      <td>8.0</td>\n",
              "      <td>6.0</td>\n",
              "      <td>None</td>\n",
              "      <td>25000</td>\n",
              "      <td>8716</td>\n",
              "      <td>Montecito</td>\n",
              "      <td>CA</td>\n",
              "      <td>34.4331</td>\n",
              "      <td>-119.6331</td>\n",
              "      <td>RentLingo</td>\n",
              "      <td>2019-12-26 11:40:19</td>\n",
              "      <td>Six BR 256 Las EntradasMontecito</td>\n",
              "      <td>POINT (-119.63310 34.43310)</td>\n",
              "    </tr>\n",
              "    <tr>\n",
              "      <th>9997</th>\n",
              "      <td>8.0</td>\n",
              "      <td>6.0</td>\n",
              "      <td>None</td>\n",
              "      <td>11000</td>\n",
              "      <td>11318</td>\n",
              "      <td>Potomac</td>\n",
              "      <td>MD</td>\n",
              "      <td>39.0287</td>\n",
              "      <td>-77.2409</td>\n",
              "      <td>RentLingo</td>\n",
              "      <td>2019-12-26 11:42:40</td>\n",
              "      <td>Six BR 9908 Bentcross DrivePotomac</td>\n",
              "      <td>POINT (-77.24090 39.02870)</td>\n",
              "    </tr>\n",
              "  </tbody>\n",
              "</table>\n",
              "<p>8139 rows × 13 columns</p>\n",
              "</div>"
            ],
            "text/plain": [
              "      bathrooms  ...                     geometry\n",
              "2           1.0  ...   POINT (-77.08160 38.89100)\n",
              "3           1.0  ...  POINT (-122.32750 47.61600)\n",
              "8           1.0  ...  POINT (-122.43790 37.75990)\n",
              "14          1.0  ...  POINT (-122.43790 37.75990)\n",
              "15          1.0  ...   POINT (-77.06090 35.08470)\n",
              "...         ...  ...                          ...\n",
              "9993        5.0  ...   POINT (-82.44680 28.12530)\n",
              "9994        4.0  ...  POINT (-113.58230 37.08350)\n",
              "9995        4.0  ...   POINT (-93.32330 44.90000)\n",
              "9996        8.0  ...  POINT (-119.63310 34.43310)\n",
              "9997        8.0  ...   POINT (-77.24090 39.02870)\n",
              "\n",
              "[8139 rows x 13 columns]"
            ]
          },
          "metadata": {
            "tags": []
          },
          "execution_count": 150
        }
      ]
    },
    {
      "cell_type": "markdown",
      "metadata": {
        "id": "L8owPA1Vo7JN"
      },
      "source": [
        "dropping latitude and longitude as its merged for column called geometry"
      ]
    },
    {
      "cell_type": "code",
      "metadata": {
        "colab": {
          "base_uri": "https://localhost:8080/",
          "height": 570
        },
        "id": "WEWbhzXEpAFl",
        "outputId": "f3e98bd1-b645-4020-bd94-e9eab6d6dfd7"
      },
      "source": [
        "del df[\"latitude\"]\n",
        "del df[\"longitude\"]\n",
        "df"
      ],
      "execution_count": 151,
      "outputs": [
        {
          "output_type": "execute_result",
          "data": {
            "text/html": [
              "<div>\n",
              "<style scoped>\n",
              "    .dataframe tbody tr th:only-of-type {\n",
              "        vertical-align: middle;\n",
              "    }\n",
              "\n",
              "    .dataframe tbody tr th {\n",
              "        vertical-align: top;\n",
              "    }\n",
              "\n",
              "    .dataframe thead th {\n",
              "        text-align: right;\n",
              "    }\n",
              "</style>\n",
              "<table border=\"1\" class=\"dataframe\">\n",
              "  <thead>\n",
              "    <tr style=\"text-align: right;\">\n",
              "      <th></th>\n",
              "      <th>bathrooms</th>\n",
              "      <th>bedrooms</th>\n",
              "      <th>pets_allowed</th>\n",
              "      <th>price</th>\n",
              "      <th>square_feet</th>\n",
              "      <th>cityname</th>\n",
              "      <th>state</th>\n",
              "      <th>source</th>\n",
              "      <th>time</th>\n",
              "      <th>Full_address</th>\n",
              "      <th>geometry</th>\n",
              "    </tr>\n",
              "  </thead>\n",
              "  <tbody>\n",
              "    <tr>\n",
              "      <th>2</th>\n",
              "      <td>1.0</td>\n",
              "      <td>0.0</td>\n",
              "      <td>None</td>\n",
              "      <td>1390</td>\n",
              "      <td>107</td>\n",
              "      <td>Arlington</td>\n",
              "      <td>VA</td>\n",
              "      <td>RentLingo</td>\n",
              "      <td>2019-12-26 11:23:30</td>\n",
              "      <td>Studio apartment N Scott St, 14th St N, Arling...</td>\n",
              "      <td>POINT (-77.08160 38.89100)</td>\n",
              "    </tr>\n",
              "    <tr>\n",
              "      <th>3</th>\n",
              "      <td>1.0</td>\n",
              "      <td>0.0</td>\n",
              "      <td>None</td>\n",
              "      <td>925</td>\n",
              "      <td>116</td>\n",
              "      <td>Seattle</td>\n",
              "      <td>WA</td>\n",
              "      <td>RentLingo</td>\n",
              "      <td>2019-12-18 11:15:43</td>\n",
              "      <td>Studio apartment 1717 12th AveSeattle</td>\n",
              "      <td>POINT (-122.32750 47.61600)</td>\n",
              "    </tr>\n",
              "    <tr>\n",
              "      <th>8</th>\n",
              "      <td>1.0</td>\n",
              "      <td>0.0</td>\n",
              "      <td>None</td>\n",
              "      <td>1495</td>\n",
              "      <td>138</td>\n",
              "      <td>San Francisco</td>\n",
              "      <td>CA</td>\n",
              "      <td>RentLingo</td>\n",
              "      <td>2019-12-26 11:05:13</td>\n",
              "      <td>Studio apartment 333 Hyde StSan Francisco</td>\n",
              "      <td>POINT (-122.43790 37.75990)</td>\n",
              "    </tr>\n",
              "    <tr>\n",
              "      <th>14</th>\n",
              "      <td>1.0</td>\n",
              "      <td>0.0</td>\n",
              "      <td>None</td>\n",
              "      <td>1695</td>\n",
              "      <td>190</td>\n",
              "      <td>San Francisco</td>\n",
              "      <td>CA</td>\n",
              "      <td>RentLingo</td>\n",
              "      <td>2019-12-22 11:45:21</td>\n",
              "      <td>Studio apartment 57 Taylor StreetSan Francisco</td>\n",
              "      <td>POINT (-122.43790 37.75990)</td>\n",
              "    </tr>\n",
              "    <tr>\n",
              "      <th>15</th>\n",
              "      <td>1.0</td>\n",
              "      <td>1.0</td>\n",
              "      <td>Cats,Dogs</td>\n",
              "      <td>1560</td>\n",
              "      <td>200</td>\n",
              "      <td>New Bern</td>\n",
              "      <td>NC</td>\n",
              "      <td>ListedBuy</td>\n",
              "      <td>2019-12-17 21:27:56</td>\n",
              "      <td>Studio Cottage 214New Bern</td>\n",
              "      <td>POINT (-77.06090 35.08470)</td>\n",
              "    </tr>\n",
              "    <tr>\n",
              "      <th>...</th>\n",
              "      <td>...</td>\n",
              "      <td>...</td>\n",
              "      <td>...</td>\n",
              "      <td>...</td>\n",
              "      <td>...</td>\n",
              "      <td>...</td>\n",
              "      <td>...</td>\n",
              "      <td>...</td>\n",
              "      <td>...</td>\n",
              "      <td>...</td>\n",
              "      <td>...</td>\n",
              "    </tr>\n",
              "    <tr>\n",
              "      <th>9993</th>\n",
              "      <td>5.0</td>\n",
              "      <td>5.0</td>\n",
              "      <td>Cats,Dogs</td>\n",
              "      <td>6900</td>\n",
              "      <td>5700</td>\n",
              "      <td>Lutz</td>\n",
              "      <td>FL</td>\n",
              "      <td>RentLingo</td>\n",
              "      <td>2019-12-26 11:24:02</td>\n",
              "      <td>Five BR 18605 Avenue MonacoLutz</td>\n",
              "      <td>POINT (-82.44680 28.12530)</td>\n",
              "    </tr>\n",
              "    <tr>\n",
              "      <th>9994</th>\n",
              "      <td>4.0</td>\n",
              "      <td>6.0</td>\n",
              "      <td>None</td>\n",
              "      <td>3000</td>\n",
              "      <td>5921</td>\n",
              "      <td>Saint George</td>\n",
              "      <td>UT</td>\n",
              "      <td>RentLingo</td>\n",
              "      <td>2019-12-22 12:18:23</td>\n",
              "      <td>Six BR 2536 W Canyon Ridge Rd.Saint George</td>\n",
              "      <td>POINT (-113.58230 37.08350)</td>\n",
              "    </tr>\n",
              "    <tr>\n",
              "      <th>9995</th>\n",
              "      <td>4.0</td>\n",
              "      <td>5.0</td>\n",
              "      <td>None</td>\n",
              "      <td>6000</td>\n",
              "      <td>6300</td>\n",
              "      <td>Edina</td>\n",
              "      <td>MN</td>\n",
              "      <td>RentLingo</td>\n",
              "      <td>2019-11-30 11:22:55</td>\n",
              "      <td>Five BR 5407 Abbott Place - AbbottEdina</td>\n",
              "      <td>POINT (-93.32330 44.90000)</td>\n",
              "    </tr>\n",
              "    <tr>\n",
              "      <th>9996</th>\n",
              "      <td>8.0</td>\n",
              "      <td>6.0</td>\n",
              "      <td>None</td>\n",
              "      <td>25000</td>\n",
              "      <td>8716</td>\n",
              "      <td>Montecito</td>\n",
              "      <td>CA</td>\n",
              "      <td>RentLingo</td>\n",
              "      <td>2019-12-26 11:40:19</td>\n",
              "      <td>Six BR 256 Las EntradasMontecito</td>\n",
              "      <td>POINT (-119.63310 34.43310)</td>\n",
              "    </tr>\n",
              "    <tr>\n",
              "      <th>9997</th>\n",
              "      <td>8.0</td>\n",
              "      <td>6.0</td>\n",
              "      <td>None</td>\n",
              "      <td>11000</td>\n",
              "      <td>11318</td>\n",
              "      <td>Potomac</td>\n",
              "      <td>MD</td>\n",
              "      <td>RentLingo</td>\n",
              "      <td>2019-12-26 11:42:40</td>\n",
              "      <td>Six BR 9908 Bentcross DrivePotomac</td>\n",
              "      <td>POINT (-77.24090 39.02870)</td>\n",
              "    </tr>\n",
              "  </tbody>\n",
              "</table>\n",
              "<p>8139 rows × 11 columns</p>\n",
              "</div>"
            ],
            "text/plain": [
              "      bathrooms  ...                     geometry\n",
              "2           1.0  ...   POINT (-77.08160 38.89100)\n",
              "3           1.0  ...  POINT (-122.32750 47.61600)\n",
              "8           1.0  ...  POINT (-122.43790 37.75990)\n",
              "14          1.0  ...  POINT (-122.43790 37.75990)\n",
              "15          1.0  ...   POINT (-77.06090 35.08470)\n",
              "...         ...  ...                          ...\n",
              "9993        5.0  ...   POINT (-82.44680 28.12530)\n",
              "9994        4.0  ...  POINT (-113.58230 37.08350)\n",
              "9995        4.0  ...   POINT (-93.32330 44.90000)\n",
              "9996        8.0  ...  POINT (-119.63310 34.43310)\n",
              "9997        8.0  ...   POINT (-77.24090 39.02870)\n",
              "\n",
              "[8139 rows x 11 columns]"
            ]
          },
          "metadata": {
            "tags": []
          },
          "execution_count": 151
        }
      ]
    },
    {
      "cell_type": "code",
      "metadata": {
        "colab": {
          "base_uri": "https://localhost:8080/",
          "height": 402
        },
        "id": "nyF4HzU5Az0s",
        "outputId": "e1250a8c-9850-4ab2-8bb2-1e580c20f275"
      },
      "source": [
        "df1=df[['bathrooms','bedrooms','price','square_feet']]\n",
        "df1"
      ],
      "execution_count": 152,
      "outputs": [
        {
          "output_type": "execute_result",
          "data": {
            "text/html": [
              "<div>\n",
              "<style scoped>\n",
              "    .dataframe tbody tr th:only-of-type {\n",
              "        vertical-align: middle;\n",
              "    }\n",
              "\n",
              "    .dataframe tbody tr th {\n",
              "        vertical-align: top;\n",
              "    }\n",
              "\n",
              "    .dataframe thead th {\n",
              "        text-align: right;\n",
              "    }\n",
              "</style>\n",
              "<table border=\"1\" class=\"dataframe\">\n",
              "  <thead>\n",
              "    <tr style=\"text-align: right;\">\n",
              "      <th></th>\n",
              "      <th>bathrooms</th>\n",
              "      <th>bedrooms</th>\n",
              "      <th>price</th>\n",
              "      <th>square_feet</th>\n",
              "    </tr>\n",
              "  </thead>\n",
              "  <tbody>\n",
              "    <tr>\n",
              "      <th>2</th>\n",
              "      <td>1.0</td>\n",
              "      <td>0.0</td>\n",
              "      <td>1390</td>\n",
              "      <td>107</td>\n",
              "    </tr>\n",
              "    <tr>\n",
              "      <th>3</th>\n",
              "      <td>1.0</td>\n",
              "      <td>0.0</td>\n",
              "      <td>925</td>\n",
              "      <td>116</td>\n",
              "    </tr>\n",
              "    <tr>\n",
              "      <th>8</th>\n",
              "      <td>1.0</td>\n",
              "      <td>0.0</td>\n",
              "      <td>1495</td>\n",
              "      <td>138</td>\n",
              "    </tr>\n",
              "    <tr>\n",
              "      <th>14</th>\n",
              "      <td>1.0</td>\n",
              "      <td>0.0</td>\n",
              "      <td>1695</td>\n",
              "      <td>190</td>\n",
              "    </tr>\n",
              "    <tr>\n",
              "      <th>15</th>\n",
              "      <td>1.0</td>\n",
              "      <td>1.0</td>\n",
              "      <td>1560</td>\n",
              "      <td>200</td>\n",
              "    </tr>\n",
              "    <tr>\n",
              "      <th>...</th>\n",
              "      <td>...</td>\n",
              "      <td>...</td>\n",
              "      <td>...</td>\n",
              "      <td>...</td>\n",
              "    </tr>\n",
              "    <tr>\n",
              "      <th>9993</th>\n",
              "      <td>5.0</td>\n",
              "      <td>5.0</td>\n",
              "      <td>6900</td>\n",
              "      <td>5700</td>\n",
              "    </tr>\n",
              "    <tr>\n",
              "      <th>9994</th>\n",
              "      <td>4.0</td>\n",
              "      <td>6.0</td>\n",
              "      <td>3000</td>\n",
              "      <td>5921</td>\n",
              "    </tr>\n",
              "    <tr>\n",
              "      <th>9995</th>\n",
              "      <td>4.0</td>\n",
              "      <td>5.0</td>\n",
              "      <td>6000</td>\n",
              "      <td>6300</td>\n",
              "    </tr>\n",
              "    <tr>\n",
              "      <th>9996</th>\n",
              "      <td>8.0</td>\n",
              "      <td>6.0</td>\n",
              "      <td>25000</td>\n",
              "      <td>8716</td>\n",
              "    </tr>\n",
              "    <tr>\n",
              "      <th>9997</th>\n",
              "      <td>8.0</td>\n",
              "      <td>6.0</td>\n",
              "      <td>11000</td>\n",
              "      <td>11318</td>\n",
              "    </tr>\n",
              "  </tbody>\n",
              "</table>\n",
              "<p>8139 rows × 4 columns</p>\n",
              "</div>"
            ],
            "text/plain": [
              "      bathrooms  bedrooms  price  square_feet\n",
              "2           1.0       0.0   1390          107\n",
              "3           1.0       0.0    925          116\n",
              "8           1.0       0.0   1495          138\n",
              "14          1.0       0.0   1695          190\n",
              "15          1.0       1.0   1560          200\n",
              "...         ...       ...    ...          ...\n",
              "9993        5.0       5.0   6900         5700\n",
              "9994        4.0       6.0   3000         5921\n",
              "9995        4.0       5.0   6000         6300\n",
              "9996        8.0       6.0  25000         8716\n",
              "9997        8.0       6.0  11000        11318\n",
              "\n",
              "[8139 rows x 4 columns]"
            ]
          },
          "metadata": {
            "tags": []
          },
          "execution_count": 152
        }
      ]
    },
    {
      "cell_type": "markdown",
      "metadata": {
        "id": "8snxW5Zk-Rly"
      },
      "source": [
        "outlier detection "
      ]
    },
    {
      "cell_type": "code",
      "metadata": {
        "colab": {
          "base_uri": "https://localhost:8080/",
          "height": 296
        },
        "id": "1qmMesRi_CFr",
        "outputId": "67aa5b9f-16e8-4123-b2af-8804d96718ed"
      },
      "source": [
        "import seaborn as sns\n",
        "sns.boxplot(x=df['bathrooms'])\n"
      ],
      "execution_count": 153,
      "outputs": [
        {
          "output_type": "execute_result",
          "data": {
            "text/plain": [
              "<matplotlib.axes._subplots.AxesSubplot at 0x7fc522ebc510>"
            ]
          },
          "metadata": {
            "tags": []
          },
          "execution_count": 153
        },
        {
          "output_type": "display_data",
          "data": {
            "image/png": "[encoded data removed]",
            "text/plain": [
              "<Figure size 432x288 with 1 Axes>"
            ]
          },
          "metadata": {
            "tags": [],
            "needs_background": "light"
          }
        }
      ]
    },
    {
      "cell_type": "code",
      "metadata": {
        "colab": {
          "base_uri": "https://localhost:8080/",
          "height": 296
        },
        "id": "uaH070L7AMs-",
        "outputId": "1fb36089-5583-49b2-86c0-ab7c44702a6f"
      },
      "source": [
        "sns.boxplot(x=df['bedrooms'])\n"
      ],
      "execution_count": 154,
      "outputs": [
        {
          "output_type": "execute_result",
          "data": {
            "text/plain": [
              "<matplotlib.axes._subplots.AxesSubplot at 0x7fc5151b3790>"
            ]
          },
          "metadata": {
            "tags": []
          },
          "execution_count": 154
        },
        {
          "output_type": "display_data",
          "data": {
            "image/png": "[encoded data removed]",
            "text/plain": [
              "<Figure size 432x288 with 1 Axes>"
            ]
          },
          "metadata": {
            "tags": [],
            "needs_background": "light"
          }
        }
      ]
    },
    {
      "cell_type": "code",
      "metadata": {
        "colab": {
          "base_uri": "https://localhost:8080/",
          "height": 296
        },
        "id": "_ho_DGyyAOXP",
        "outputId": "c37066f8-058e-4cd9-cb64-224ea060e32d"
      },
      "source": [
        "sns.boxplot(x=df['price'])"
      ],
      "execution_count": 155,
      "outputs": [
        {
          "output_type": "execute_result",
          "data": {
            "text/plain": [
              "<matplotlib.axes._subplots.AxesSubplot at 0x7fc514dcd610>"
            ]
          },
          "metadata": {
            "tags": []
          },
          "execution_count": 155
        },
        {
          "output_type": "display_data",
          "data": {
            "image/png": "[encoded data removed]",
            "text/plain": [
              "<Figure size 432x288 with 1 Axes>"
            ]
          },
          "metadata": {
            "tags": [],
            "needs_background": "light"
          }
        }
      ]
    },
    {
      "cell_type": "markdown",
      "metadata": {
        "id": "29_rr-rGAcbM"
      },
      "source": [
        "Box plot use the IQR method to display data and outliers(shape of the data) but in order to be get a list of identified outlier, we will need to use the mathematical formula and retrieve the outlier data.\n",
        "\n",
        "The interquartile range (IQR), also called the midspread or middle 50%, or technically H-spread, is a measure of statistical dispersion, being equal to the difference between 75th and 25th percentiles, or between upper and lower quartiles, IQR = Q3 − Q1."
      ]
    },
    {
      "cell_type": "code",
      "metadata": {
        "colab": {
          "base_uri": "https://localhost:8080/"
        },
        "id": "9hSZpW1WAbef",
        "outputId": "f48e81ea-1aeb-42c6-9d20-4c3d14dd9492"
      },
      "source": [
        "Q1 = df1.quantile(0.25)\n",
        "Q3 = df1.quantile(0.75)\n",
        "IQR = Q3 - Q1\n",
        "print(IQR)"
      ],
      "execution_count": 156,
      "outputs": [
        {
          "output_type": "stream",
          "text": [
            "bathrooms        1.0\n",
            "bedrooms         1.0\n",
            "price          750.0\n",
            "square_feet    475.0\n",
            "dtype: float64\n"
          ],
          "name": "stdout"
        }
      ]
    },
    {
      "cell_type": "code",
      "metadata": {
        "colab": {
          "base_uri": "https://localhost:8080/",
          "height": 774
        },
        "id": "2PheOfRLArSW",
        "outputId": "2d3dfcfe-a7fa-4020-e830-8b5bcb2ddb3d"
      },
      "source": [
        "print(df1 < (Q1 - 1.5 * IQR)) |(df1 > (Q3 + 1.5 * IQR))"
      ],
      "execution_count": 157,
      "outputs": [
        {
          "output_type": "stream",
          "text": [
            "      bathrooms  bedrooms  price  square_feet\n",
            "2         False     False  False        False\n",
            "3         False     False  False        False\n",
            "8         False     False  False        False\n",
            "14        False     False  False        False\n",
            "15        False     False  False        False\n",
            "...         ...       ...    ...          ...\n",
            "9993      False     False  False        False\n",
            "9994      False     False  False        False\n",
            "9995      False     False  False        False\n",
            "9996      False     False  False        False\n",
            "9997      False     False  False        False\n",
            "\n",
            "[8139 rows x 4 columns]\n"
          ],
          "name": "stdout"
        },
        {
          "output_type": "error",
          "ename": "TypeError",
          "evalue": "ignored",
          "traceback": [
            "\u001b[0;31m---------------------------------------------------------------------------\u001b[0m",
            "\u001b[0;31mTypeError\u001b[0m                                 Traceback (most recent call last)",
            "\u001b[0;32m/usr/local/lib/python3.7/dist-packages/pandas/core/ops/array_ops.py\u001b[0m in \u001b[0;36mna_logical_op\u001b[0;34m(x, y, op)\u001b[0m\n\u001b[1;32m    265\u001b[0m         \u001b[0;31m#  (xint or xbool) and (yint or bool)\u001b[0m\u001b[0;34m\u001b[0m\u001b[0;34m\u001b[0m\u001b[0;34m\u001b[0m\u001b[0m\n\u001b[0;32m--> 266\u001b[0;31m         \u001b[0mresult\u001b[0m \u001b[0;34m=\u001b[0m \u001b[0mop\u001b[0m\u001b[0;34m(\u001b[0m\u001b[0mx\u001b[0m\u001b[0;34m,\u001b[0m \u001b[0my\u001b[0m\u001b[0;34m)\u001b[0m\u001b[0;34m\u001b[0m\u001b[0;34m\u001b[0m\u001b[0m\n\u001b[0m\u001b[1;32m    267\u001b[0m     \u001b[0;32mexcept\u001b[0m \u001b[0mTypeError\u001b[0m\u001b[0;34m:\u001b[0m\u001b[0;34m\u001b[0m\u001b[0;34m\u001b[0m\u001b[0m\n",
            "\u001b[0;32m/usr/local/lib/python3.7/dist-packages/pandas/core/ops/roperator.py\u001b[0m in \u001b[0;36mror_\u001b[0;34m(left, right)\u001b[0m\n\u001b[1;32m     55\u001b[0m \u001b[0;32mdef\u001b[0m \u001b[0mror_\u001b[0m\u001b[0;34m(\u001b[0m\u001b[0mleft\u001b[0m\u001b[0;34m,\u001b[0m \u001b[0mright\u001b[0m\u001b[0;34m)\u001b[0m\u001b[0;34m:\u001b[0m\u001b[0;34m\u001b[0m\u001b[0;34m\u001b[0m\u001b[0m\n\u001b[0;32m---> 56\u001b[0;31m     \u001b[0;32mreturn\u001b[0m \u001b[0moperator\u001b[0m\u001b[0;34m.\u001b[0m\u001b[0mor_\u001b[0m\u001b[0;34m(\u001b[0m\u001b[0mright\u001b[0m\u001b[0;34m,\u001b[0m \u001b[0mleft\u001b[0m\u001b[0;34m)\u001b[0m\u001b[0;34m\u001b[0m\u001b[0;34m\u001b[0m\u001b[0m\n\u001b[0m\u001b[1;32m     57\u001b[0m \u001b[0;34m\u001b[0m\u001b[0m\n",
            "\u001b[0;31mTypeError\u001b[0m: unsupported operand type(s) for |: 'NoneType' and 'bool'",
            "\nDuring handling of the above exception, another exception occurred:\n",
            "\u001b[0;31mValueError\u001b[0m                                Traceback (most recent call last)",
            "\u001b[0;32m/usr/local/lib/python3.7/dist-packages/pandas/core/ops/array_ops.py\u001b[0m in \u001b[0;36mna_logical_op\u001b[0;34m(x, y, op)\u001b[0m\n\u001b[1;32m    279\u001b[0m             \u001b[0;32mtry\u001b[0m\u001b[0;34m:\u001b[0m\u001b[0;34m\u001b[0m\u001b[0;34m\u001b[0m\u001b[0m\n\u001b[0;32m--> 280\u001b[0;31m                 \u001b[0mresult\u001b[0m \u001b[0;34m=\u001b[0m \u001b[0mlibops\u001b[0m\u001b[0;34m.\u001b[0m\u001b[0mscalar_binop\u001b[0m\u001b[0;34m(\u001b[0m\u001b[0mx\u001b[0m\u001b[0;34m,\u001b[0m \u001b[0my\u001b[0m\u001b[0;34m,\u001b[0m \u001b[0mop\u001b[0m\u001b[0;34m)\u001b[0m\u001b[0;34m\u001b[0m\u001b[0;34m\u001b[0m\u001b[0m\n\u001b[0m\u001b[1;32m    281\u001b[0m             except (\n",
            "\u001b[0;32mpandas/_libs/ops.pyx\u001b[0m in \u001b[0;36mpandas._libs.ops.scalar_binop\u001b[0;34m()\u001b[0m\n",
            "\u001b[0;31mValueError\u001b[0m: Buffer has wrong number of dimensions (expected 1, got 2)",
            "\nThe above exception was the direct cause of the following exception:\n",
            "\u001b[0;31mTypeError\u001b[0m                                 Traceback (most recent call last)",
            "\u001b[0;32m<ipython-input-157-a279732a0bcb>\u001b[0m in \u001b[0;36m<module>\u001b[0;34m()\u001b[0m\n\u001b[0;32m----> 1\u001b[0;31m \u001b[0mprint\u001b[0m\u001b[0;34m(\u001b[0m\u001b[0mdf1\u001b[0m \u001b[0;34m<\u001b[0m \u001b[0;34m(\u001b[0m\u001b[0mQ1\u001b[0m \u001b[0;34m-\u001b[0m \u001b[0;36m1.5\u001b[0m \u001b[0;34m*\u001b[0m \u001b[0mIQR\u001b[0m\u001b[0;34m)\u001b[0m\u001b[0;34m)\u001b[0m \u001b[0;34m|\u001b[0m\u001b[0;34m(\u001b[0m\u001b[0mdf1\u001b[0m \u001b[0;34m>\u001b[0m \u001b[0;34m(\u001b[0m\u001b[0mQ3\u001b[0m \u001b[0;34m+\u001b[0m \u001b[0;36m1.5\u001b[0m \u001b[0;34m*\u001b[0m \u001b[0mIQR\u001b[0m\u001b[0;34m)\u001b[0m\u001b[0;34m)\u001b[0m\u001b[0;34m\u001b[0m\u001b[0;34m\u001b[0m\u001b[0m\n\u001b[0m",
            "\u001b[0;32m/usr/local/lib/python3.7/dist-packages/pandas/core/ops/__init__.py\u001b[0m in \u001b[0;36mf\u001b[0;34m(self, other, axis, level, fill_value)\u001b[0m\n\u001b[1;32m    662\u001b[0m                 \u001b[0mself\u001b[0m \u001b[0;34m=\u001b[0m \u001b[0mself\u001b[0m\u001b[0;34m.\u001b[0m\u001b[0mfillna\u001b[0m\u001b[0;34m(\u001b[0m\u001b[0mfill_value\u001b[0m\u001b[0;34m)\u001b[0m\u001b[0;34m\u001b[0m\u001b[0;34m\u001b[0m\u001b[0m\n\u001b[1;32m    663\u001b[0m \u001b[0;34m\u001b[0m\u001b[0m\n\u001b[0;32m--> 664\u001b[0;31m             \u001b[0mnew_data\u001b[0m \u001b[0;34m=\u001b[0m \u001b[0mdispatch_to_series\u001b[0m\u001b[0;34m(\u001b[0m\u001b[0mself\u001b[0m\u001b[0;34m,\u001b[0m \u001b[0mother\u001b[0m\u001b[0;34m,\u001b[0m \u001b[0mop\u001b[0m\u001b[0;34m)\u001b[0m\u001b[0;34m\u001b[0m\u001b[0;34m\u001b[0m\u001b[0m\n\u001b[0m\u001b[1;32m    665\u001b[0m \u001b[0;34m\u001b[0m\u001b[0m\n\u001b[1;32m    666\u001b[0m         \u001b[0;32mreturn\u001b[0m \u001b[0mself\u001b[0m\u001b[0;34m.\u001b[0m\u001b[0m_construct_result\u001b[0m\u001b[0;34m(\u001b[0m\u001b[0mnew_data\u001b[0m\u001b[0;34m)\u001b[0m\u001b[0;34m\u001b[0m\u001b[0;34m\u001b[0m\u001b[0m\n",
            "\u001b[0;32m/usr/local/lib/python3.7/dist-packages/pandas/core/ops/__init__.py\u001b[0m in \u001b[0;36mdispatch_to_series\u001b[0;34m(left, right, func, axis)\u001b[0m\n\u001b[1;32m    263\u001b[0m     \u001b[0;32mif\u001b[0m \u001b[0;32mnot\u001b[0m \u001b[0mis_list_like\u001b[0m\u001b[0;34m(\u001b[0m\u001b[0mright\u001b[0m\u001b[0;34m)\u001b[0m\u001b[0;34m:\u001b[0m\u001b[0;34m\u001b[0m\u001b[0;34m\u001b[0m\u001b[0m\n\u001b[1;32m    264\u001b[0m         \u001b[0;31m# i.e. scalar, faster than checking np.ndim(right) == 0\u001b[0m\u001b[0;34m\u001b[0m\u001b[0;34m\u001b[0m\u001b[0;34m\u001b[0m\u001b[0m\n\u001b[0;32m--> 265\u001b[0;31m         \u001b[0mbm\u001b[0m \u001b[0;34m=\u001b[0m \u001b[0mleft\u001b[0m\u001b[0;34m.\u001b[0m\u001b[0m_mgr\u001b[0m\u001b[0;34m.\u001b[0m\u001b[0mapply\u001b[0m\u001b[0;34m(\u001b[0m\u001b[0marray_op\u001b[0m\u001b[0;34m,\u001b[0m \u001b[0mright\u001b[0m\u001b[0;34m=\u001b[0m\u001b[0mright\u001b[0m\u001b[0;34m)\u001b[0m\u001b[0;34m\u001b[0m\u001b[0;34m\u001b[0m\u001b[0m\n\u001b[0m\u001b[1;32m    266\u001b[0m         \u001b[0;32mreturn\u001b[0m \u001b[0mtype\u001b[0m\u001b[0;34m(\u001b[0m\u001b[0mleft\u001b[0m\u001b[0;34m)\u001b[0m\u001b[0;34m(\u001b[0m\u001b[0mbm\u001b[0m\u001b[0;34m)\u001b[0m\u001b[0;34m\u001b[0m\u001b[0;34m\u001b[0m\u001b[0m\n\u001b[1;32m    267\u001b[0m \u001b[0;34m\u001b[0m\u001b[0m\n",
            "\u001b[0;32m/usr/local/lib/python3.7/dist-packages/pandas/core/internals/managers.py\u001b[0m in \u001b[0;36mapply\u001b[0;34m(self, f, align_keys, **kwargs)\u001b[0m\n\u001b[1;32m    405\u001b[0m \u001b[0;34m\u001b[0m\u001b[0m\n\u001b[1;32m    406\u001b[0m             \u001b[0;32mif\u001b[0m \u001b[0mcallable\u001b[0m\u001b[0;34m(\u001b[0m\u001b[0mf\u001b[0m\u001b[0;34m)\u001b[0m\u001b[0;34m:\u001b[0m\u001b[0;34m\u001b[0m\u001b[0;34m\u001b[0m\u001b[0m\n\u001b[0;32m--> 407\u001b[0;31m                 \u001b[0mapplied\u001b[0m \u001b[0;34m=\u001b[0m \u001b[0mb\u001b[0m\u001b[0;34m.\u001b[0m\u001b[0mapply\u001b[0m\u001b[0;34m(\u001b[0m\u001b[0mf\u001b[0m\u001b[0;34m,\u001b[0m \u001b[0;34m**\u001b[0m\u001b[0mkwargs\u001b[0m\u001b[0;34m)\u001b[0m\u001b[0;34m\u001b[0m\u001b[0;34m\u001b[0m\u001b[0m\n\u001b[0m\u001b[1;32m    408\u001b[0m             \u001b[0;32melse\u001b[0m\u001b[0;34m:\u001b[0m\u001b[0;34m\u001b[0m\u001b[0;34m\u001b[0m\u001b[0m\n\u001b[1;32m    409\u001b[0m                 \u001b[0mapplied\u001b[0m \u001b[0;34m=\u001b[0m \u001b[0mgetattr\u001b[0m\u001b[0;34m(\u001b[0m\u001b[0mb\u001b[0m\u001b[0;34m,\u001b[0m \u001b[0mf\u001b[0m\u001b[0;34m)\u001b[0m\u001b[0;34m(\u001b[0m\u001b[0;34m**\u001b[0m\u001b[0mkwargs\u001b[0m\u001b[0;34m)\u001b[0m\u001b[0;34m\u001b[0m\u001b[0;34m\u001b[0m\u001b[0m\n",
            "\u001b[0;32m/usr/local/lib/python3.7/dist-packages/pandas/core/internals/blocks.py\u001b[0m in \u001b[0;36mapply\u001b[0;34m(self, func, **kwargs)\u001b[0m\n\u001b[1;32m    344\u001b[0m         \"\"\"\n\u001b[1;32m    345\u001b[0m         \u001b[0;32mwith\u001b[0m \u001b[0mnp\u001b[0m\u001b[0;34m.\u001b[0m\u001b[0merrstate\u001b[0m\u001b[0;34m(\u001b[0m\u001b[0mall\u001b[0m\u001b[0;34m=\u001b[0m\u001b[0;34m\"ignore\"\u001b[0m\u001b[0;34m)\u001b[0m\u001b[0;34m:\u001b[0m\u001b[0;34m\u001b[0m\u001b[0;34m\u001b[0m\u001b[0m\n\u001b[0;32m--> 346\u001b[0;31m             \u001b[0mresult\u001b[0m \u001b[0;34m=\u001b[0m \u001b[0mfunc\u001b[0m\u001b[0;34m(\u001b[0m\u001b[0mself\u001b[0m\u001b[0;34m.\u001b[0m\u001b[0mvalues\u001b[0m\u001b[0;34m,\u001b[0m \u001b[0;34m**\u001b[0m\u001b[0mkwargs\u001b[0m\u001b[0;34m)\u001b[0m\u001b[0;34m\u001b[0m\u001b[0;34m\u001b[0m\u001b[0m\n\u001b[0m\u001b[1;32m    347\u001b[0m \u001b[0;34m\u001b[0m\u001b[0m\n\u001b[1;32m    348\u001b[0m         \u001b[0;32mreturn\u001b[0m \u001b[0mself\u001b[0m\u001b[0;34m.\u001b[0m\u001b[0m_split_op_result\u001b[0m\u001b[0;34m(\u001b[0m\u001b[0mresult\u001b[0m\u001b[0;34m)\u001b[0m\u001b[0;34m\u001b[0m\u001b[0;34m\u001b[0m\u001b[0m\n",
            "\u001b[0;32m/usr/local/lib/python3.7/dist-packages/pandas/core/ops/array_ops.py\u001b[0m in \u001b[0;36mlogical_op\u001b[0;34m(left, right, op)\u001b[0m\n\u001b[1;32m    354\u001b[0m         \u001b[0mfiller\u001b[0m \u001b[0;34m=\u001b[0m \u001b[0mfill_int\u001b[0m \u001b[0;32mif\u001b[0m \u001b[0mis_self_int_dtype\u001b[0m \u001b[0;32mand\u001b[0m \u001b[0mis_other_int_dtype\u001b[0m \u001b[0;32melse\u001b[0m \u001b[0mfill_bool\u001b[0m\u001b[0;34m\u001b[0m\u001b[0;34m\u001b[0m\u001b[0m\n\u001b[1;32m    355\u001b[0m \u001b[0;34m\u001b[0m\u001b[0m\n\u001b[0;32m--> 356\u001b[0;31m         \u001b[0mres_values\u001b[0m \u001b[0;34m=\u001b[0m \u001b[0mna_logical_op\u001b[0m\u001b[0;34m(\u001b[0m\u001b[0mlvalues\u001b[0m\u001b[0;34m,\u001b[0m \u001b[0mrvalues\u001b[0m\u001b[0;34m,\u001b[0m \u001b[0mop\u001b[0m\u001b[0;34m)\u001b[0m\u001b[0;34m\u001b[0m\u001b[0;34m\u001b[0m\u001b[0m\n\u001b[0m\u001b[1;32m    357\u001b[0m         \u001b[0mres_values\u001b[0m \u001b[0;34m=\u001b[0m \u001b[0mfiller\u001b[0m\u001b[0;34m(\u001b[0m\u001b[0mres_values\u001b[0m\u001b[0;34m)\u001b[0m  \u001b[0;31m# type: ignore\u001b[0m\u001b[0;34m\u001b[0m\u001b[0;34m\u001b[0m\u001b[0m\n\u001b[1;32m    358\u001b[0m \u001b[0;34m\u001b[0m\u001b[0m\n",
            "\u001b[0;32m/usr/local/lib/python3.7/dist-packages/pandas/core/ops/array_ops.py\u001b[0m in \u001b[0;36mna_logical_op\u001b[0;34m(x, y, op)\u001b[0m\n\u001b[1;32m    290\u001b[0m                     \u001b[0;34mf\"Cannot perform '{op.__name__}' with a dtyped [{x.dtype}] array \"\u001b[0m\u001b[0;34m\u001b[0m\u001b[0;34m\u001b[0m\u001b[0m\n\u001b[1;32m    291\u001b[0m                     \u001b[0;34mf\"and scalar of type [{typ}]\"\u001b[0m\u001b[0;34m\u001b[0m\u001b[0;34m\u001b[0m\u001b[0m\n\u001b[0;32m--> 292\u001b[0;31m                 ) from err\n\u001b[0m\u001b[1;32m    293\u001b[0m \u001b[0;34m\u001b[0m\u001b[0m\n\u001b[1;32m    294\u001b[0m     \u001b[0;32mreturn\u001b[0m \u001b[0mresult\u001b[0m\u001b[0;34m.\u001b[0m\u001b[0mreshape\u001b[0m\u001b[0;34m(\u001b[0m\u001b[0mx\u001b[0m\u001b[0;34m.\u001b[0m\u001b[0mshape\u001b[0m\u001b[0;34m)\u001b[0m\u001b[0;34m\u001b[0m\u001b[0;34m\u001b[0m\u001b[0m\n",
            "\u001b[0;31mTypeError\u001b[0m: Cannot perform 'ror_' with a dtyped [bool] array and scalar of type [NoneType]"
          ]
        }
      ]
    },
    {
      "cell_type": "code",
      "metadata": {
        "id": "WvzdLNCbCp2O"
      },
      "source": [
        "df1.shape"
      ],
      "execution_count": null,
      "outputs": []
    },
    {
      "cell_type": "code",
      "metadata": {
        "id": "4vXwwJiICvgv"
      },
      "source": [
        "x = df1[~((df1 < (Q1 - 1.5 * IQR)) |(df1 > (Q3 + 1.5 * IQR))).any(axis=1)]\n",
        "x.shape\n",
        "x"
      ],
      "execution_count": null,
      "outputs": []
    },
    {
      "cell_type": "code",
      "metadata": {
        "id": "R-VVPZQnct25"
      },
      "source": [
        "#x['bedrooms'].max()\n",
        "df['bathrooms'].max()"
      ],
      "execution_count": null,
      "outputs": []
    },
    {
      "cell_type": "code",
      "metadata": {
        "id": "gTM_Q8LscQ3v"
      },
      "source": [
        "sns.boxplot(x=x['bedrooms'])"
      ],
      "execution_count": null,
      "outputs": []
    },
    {
      "cell_type": "markdown",
      "metadata": {
        "id": "UeZEaGG5GA7M"
      },
      "source": [
        "# since shape on df=df1\n",
        "\n",
        "# No outliers detected so we will use df dataframe \n"
      ]
    },
    {
      "cell_type": "markdown",
      "metadata": {
        "id": "LP8wtMFqpO-U"
      },
      "source": [
        "using visualization to see the relation between the variables"
      ]
    },
    {
      "cell_type": "code",
      "metadata": {
        "id": "bQ5cqIqkpSzD"
      },
      "source": [
        "\n",
        "df.columns = ['bathrooms'\t,'bedrooms',\t'pets_allowed','price','square_feet'\t,\t'cityname'\t,'state'\t,'source','time','Full_address','geometry']\n",
        "df.index = df.price\n",
        "bedrooms = df['bedrooms']\n",
        "\n",
        "\n",
        "\n"
      ],
      "execution_count": null,
      "outputs": []
    },
    {
      "cell_type": "code",
      "metadata": {
        "id": "wo6SwXCppn7B"
      },
      "source": [
        "bedrooms.plot(kind='hist')\n",
        "#17\n",
        "plt.hist(bedrooms)\n",
        "plt.plot()\n"
      ],
      "execution_count": null,
      "outputs": []
    },
    {
      "cell_type": "code",
      "metadata": {
        "id": "5UMiLTwZpoGi"
      },
      "source": [
        "#18\n",
        "sb.distplot(bedrooms)"
      ],
      "execution_count": null,
      "outputs": []
    },
    {
      "cell_type": "code",
      "metadata": {
        "id": "LfhzQ91pptDa"
      },
      "source": [
        "#19\n",
        "sb.pairplot(df)"
      ],
      "execution_count": null,
      "outputs": []
    },
    {
      "cell_type": "code",
      "metadata": {
        "id": "e6579AsmuyIo"
      },
      "source": [
        "df.corr()\n",
        "sb.heatmap(df.corr())"
      ],
      "execution_count": null,
      "outputs": []
    },
    {
      "cell_type": "code",
      "metadata": {
        "id": "DMR4r9zdjBNR"
      },
      "source": [
        "df.info()"
      ],
      "execution_count": null,
      "outputs": []
    },
    {
      "cell_type": "markdown",
      "metadata": {
        "id": "cQRGx_VcjEHC"
      },
      "source": [
        "Converting float to int type for bathrooms and bedrooms"
      ]
    },
    {
      "cell_type": "code",
      "metadata": {
        "id": "rSAVeS4yjDT6"
      },
      "source": [
        "\n",
        "df['bathrooms'] = pd.to_numeric(df['bathrooms'], errors = 'coerce')\n",
        "df['bathrooms'] = df['bathrooms'].astype('int64')\n",
        "\n",
        "df['bedrooms'] = pd.to_numeric(df['bedrooms'], errors = 'coerce')\n",
        "df['bedrooms'] = df['bedrooms'].astype('int64')\n",
        "\n",
        "df.info()"
      ],
      "execution_count": null,
      "outputs": []
    },
    {
      "cell_type": "code",
      "metadata": {
        "id": "P0D4IcY-jmNj"
      },
      "source": [
        "df.head()"
      ],
      "execution_count": null,
      "outputs": []
    },
    {
      "cell_type": "markdown",
      "metadata": {
        "id": "KDaDCQfDZop8"
      },
      "source": [
        "# (ii) Scatter plot\n",
        "Like heatmap, a scatter plot is also used to observe linear relations between two variables in a dataset. In a scatter plot, the dependent variable is marked on the x-axis and the independent variable is marked on the y-axis. In our case, the ‘SalePrice’ attribute is the dependent variable, and every other are the independent variables. It would be difficult to produce a plot for each variable, so we can define a function that takes only the dependent variable and returns a scatter plot for every independent variable present in a dataset."
      ]
    },
    {
      "cell_type": "code",
      "metadata": {
        "id": "Gr9k0lruZquT"
      },
      "source": [
        "# 2. Scatter plot\n",
        "\n",
        "def scatter_df(y_var):\n",
        "    scatter_df = df.drop(y_var, axis = 1)\n",
        "    i = df.columns\n",
        "    \n",
        "    plot1 = sb.scatterplot(i[0], y_var, data = df, color = 'orange', edgecolor = 'b', s = 150)\n",
        "    plt.title('{} /  Price'.format(i[0]), fontsize = 16)\n",
        "    plt.xlabel('{}'.format(i[0]), fontsize = 14)\n",
        "    plt.ylabel(' Price', fontsize = 14)\n",
        "    plt.xticks(fontsize = 12)\n",
        "    plt.yticks(fontsize = 12)\n",
        "    plt.savefig('scatter1.png')\n",
        "    plt.show()\n",
        "    \n",
        "    plot2 = sb.scatterplot(i[1], y_var, data = df, color = 'yellow', edgecolor = 'b', s = 150)\n",
        "    plt.title('{} /  Price'.format(i[1]), fontsize = 16)\n",
        "    plt.xlabel('{}'.format(i[1]), fontsize = 14)\n",
        "    plt.ylabel(' Price', fontsize = 14)\n",
        "    plt.xticks(fontsize = 12)\n",
        "    plt.yticks(fontsize = 12)\n",
        "    plt.savefig('scatter2.png')\n",
        "    plt.show()\n",
        "    \n",
        "   \n",
        "   \n",
        "    \n",
        "    plot5 = sb.scatterplot(i[4], y_var, data = df, color = 'crimson', edgecolor = 'white', s = 150)\n",
        "    plt.title('{} /  Price'.format(i[4]), fontsize = 16)\n",
        "    plt.xlabel('{}'.format(i[4]), fontsize = 14)\n",
        "    plt.ylabel(' Price', fontsize = 14)\n",
        "    plt.xticks(fontsize = 12)\n",
        "    plt.yticks(fontsize = 12)\n",
        "    plt.savefig('scatter5.png')\n",
        "    plt.show()\n",
        "    \n",
        "    \n",
        "    \n",
        "scatter_df('price')"
      ],
      "execution_count": null,
      "outputs": []
    },
    {
      "cell_type": "markdown",
      "metadata": {
        "id": "YFFE0Yw7lFlD"
      },
      "source": [
        "# **(iii) Distribution Plot**\n",
        "Distribution plots are very useful to check how well a variable is distributed in the dataset. Let’s now produce a distribution plot using the ‘distplot’ function to check the distribution of the ‘SalePrice’ variable in the dataset"
      ]
    },
    {
      "cell_type": "code",
      "metadata": {
        "id": "1rXKft6TlIE8"
      },
      "source": [
        "\n",
        "# 3. Distribution plot\n",
        "\n",
        "sb.distplot(df['price'], color = 'r')\n",
        "plt.title('Sale Price Distribution', fontsize = 16)\n",
        "plt.xlabel('price', fontsize = 14)\n",
        "plt.ylabel('Frequency', fontsize = 14)\n",
        "plt.xticks(fontsize = 12)\n",
        "plt.yticks(fontsize = 12)\n",
        "\n",
        "plt.savefig('distplot.png')\n",
        "plt.show()"
      ],
      "execution_count": null,
      "outputs": []
    },
    {
      "cell_type": "markdown",
      "metadata": {
        "id": "L44qqIJnGrvA"
      },
      "source": [
        "Using facebook proophet to check trend"
      ]
    },
    {
      "cell_type": "code",
      "metadata": {
        "id": "1k9OuV_xGv0o"
      },
      "source": [
        "import warnings\n",
        "warnings.filterwarnings(\"ignore\")\n",
        "import pandas as pd\n",
        "import numpy as np\n",
        "from pandas import datetime\n",
        "\n",
        "import fbprophet\n",
        "from fbprophet import Prophet\n",
        "\n",
        "from fbprophet.plot import add_changepoints_to_plot\n",
        "from pandas import read_csv\n",
        "\n",
        "# data visualization\n",
        "import matplotlib.pyplot as plt\n",
        "import seaborn as sns # advanced vizs\n",
        "%matplotlib inline"
      ],
      "execution_count": null,
      "outputs": []
    },
    {
      "cell_type": "code",
      "metadata": {
        "id": "W3dVaSyMHrUq"
      },
      "source": [
        "df_fb=df[[\"time\",\"price\"]]\n",
        "df_fb.reset_index(drop=True, inplace=True)\n",
        "df_fb"
      ],
      "execution_count": null,
      "outputs": []
    },
    {
      "cell_type": "markdown",
      "metadata": {
        "id": "ergzqoPBJWzQ"
      },
      "source": [
        "remove time from time column"
      ]
    },
    {
      "cell_type": "code",
      "metadata": {
        "id": "9KWBMRc3JbSG"
      },
      "source": [
        "df_fb['time'] = pd.to_datetime(df_fb['time']).dt.date\n",
        "df_fb"
      ],
      "execution_count": null,
      "outputs": []
    },
    {
      "cell_type": "code",
      "metadata": {
        "id": "E-4sxtVqKNgY"
      },
      "source": [
        "df_fb.rename(columns={'time': 'ds', 'price': 'y'}, inplace=True)"
      ],
      "execution_count": null,
      "outputs": []
    },
    {
      "cell_type": "code",
      "metadata": {
        "id": "6Eg3ICV5KDQt"
      },
      "source": [
        "m = Prophet()\n",
        "m.fit(df_fb)"
      ],
      "execution_count": null,
      "outputs": []
    },
    {
      "cell_type": "code",
      "metadata": {
        "id": "e27x2AS3KkCY"
      },
      "source": [
        "future = m.make_future_dataframe(periods=365)\n",
        "future.tail()"
      ],
      "execution_count": null,
      "outputs": []
    },
    {
      "cell_type": "code",
      "metadata": {
        "id": "d4J7x_YbKpz_"
      },
      "source": [
        "# Python\n",
        "forecast = m.predict(future)\n",
        "forecast[['ds', 'yhat', 'yhat_lower', 'yhat_upper']].tail()\n"
      ],
      "execution_count": null,
      "outputs": []
    },
    {
      "cell_type": "code",
      "metadata": {
        "id": "hf1NK8RqKzKt"
      },
      "source": [
        "fig2 = m.plot_components(forecast)"
      ],
      "execution_count": null,
      "outputs": []
    },
    {
      "cell_type": "markdown",
      "metadata": {
        "id": "k2aPy3RjZSbf"
      },
      "source": [
        "# ITERATION 2 OF PROHPHETPROPHET "
      ]
    },
    {
      "cell_type": "code",
      "metadata": {
        "id": "oR8TDQc0ZWiR"
      },
      "source": [
        "import numpy as np # linear algebra\n",
        "import pandas as pd # data processing, CSV file I/O (e.g. pd.read_csv)\n",
        "import matplotlib.pyplot as plt\n",
        "plt.style.use('fivethirtyeight')\n",
        "import seaborn as sns\n",
        "import math\n",
        "from matplotlib.ticker import MaxNLocator\n",
        "from fbprophet import Prophet\n",
        "import squarify"
      ],
      "execution_count": null,
      "outputs": []
    },
    {
      "cell_type": "markdown",
      "metadata": {
        "id": "5OX84HhLw-oW"
      },
      "source": [
        "**Measure of central tendency**"
      ]
    },
    {
      "cell_type": "code",
      "metadata": {
        "id": "GlES3d3fy0OR",
        "colab": {
          "base_uri": "https://localhost:8080/",
          "height": 279
        },
        "outputId": "4b53c253-c5ab-4098-a25c-1d16e395bd54"
      },
      "source": [
        "number_df = df[['bathrooms', 'bedrooms', 'price', 'square_feet']]\n",
        "string_df = df[['pets_allowed', 'cityname', 'state', 'source']]\n",
        "df.head()"
      ],
      "execution_count": 158,
      "outputs": [
        {
          "output_type": "execute_result",
          "data": {
            "text/html": [
              "<div>\n",
              "<style scoped>\n",
              "    .dataframe tbody tr th:only-of-type {\n",
              "        vertical-align: middle;\n",
              "    }\n",
              "\n",
              "    .dataframe tbody tr th {\n",
              "        vertical-align: top;\n",
              "    }\n",
              "\n",
              "    .dataframe thead th {\n",
              "        text-align: right;\n",
              "    }\n",
              "</style>\n",
              "<table border=\"1\" class=\"dataframe\">\n",
              "  <thead>\n",
              "    <tr style=\"text-align: right;\">\n",
              "      <th></th>\n",
              "      <th>bathrooms</th>\n",
              "      <th>bedrooms</th>\n",
              "      <th>pets_allowed</th>\n",
              "      <th>price</th>\n",
              "      <th>square_feet</th>\n",
              "      <th>cityname</th>\n",
              "      <th>state</th>\n",
              "      <th>source</th>\n",
              "      <th>time</th>\n",
              "      <th>Full_address</th>\n",
              "      <th>geometry</th>\n",
              "    </tr>\n",
              "  </thead>\n",
              "  <tbody>\n",
              "    <tr>\n",
              "      <th>2</th>\n",
              "      <td>1.0</td>\n",
              "      <td>0.0</td>\n",
              "      <td>None</td>\n",
              "      <td>1390</td>\n",
              "      <td>107</td>\n",
              "      <td>Arlington</td>\n",
              "      <td>VA</td>\n",
              "      <td>RentLingo</td>\n",
              "      <td>2019-12-26 11:23:30</td>\n",
              "      <td>Studio apartment N Scott St, 14th St N, Arling...</td>\n",
              "      <td>POINT (-77.08160 38.89100)</td>\n",
              "    </tr>\n",
              "    <tr>\n",
              "      <th>3</th>\n",
              "      <td>1.0</td>\n",
              "      <td>0.0</td>\n",
              "      <td>None</td>\n",
              "      <td>925</td>\n",
              "      <td>116</td>\n",
              "      <td>Seattle</td>\n",
              "      <td>WA</td>\n",
              "      <td>RentLingo</td>\n",
              "      <td>2019-12-18 11:15:43</td>\n",
              "      <td>Studio apartment 1717 12th AveSeattle</td>\n",
              "      <td>POINT (-122.32750 47.61600)</td>\n",
              "    </tr>\n",
              "    <tr>\n",
              "      <th>8</th>\n",
              "      <td>1.0</td>\n",
              "      <td>0.0</td>\n",
              "      <td>None</td>\n",
              "      <td>1495</td>\n",
              "      <td>138</td>\n",
              "      <td>San Francisco</td>\n",
              "      <td>CA</td>\n",
              "      <td>RentLingo</td>\n",
              "      <td>2019-12-26 11:05:13</td>\n",
              "      <td>Studio apartment 333 Hyde StSan Francisco</td>\n",
              "      <td>POINT (-122.43790 37.75990)</td>\n",
              "    </tr>\n",
              "    <tr>\n",
              "      <th>14</th>\n",
              "      <td>1.0</td>\n",
              "      <td>0.0</td>\n",
              "      <td>None</td>\n",
              "      <td>1695</td>\n",
              "      <td>190</td>\n",
              "      <td>San Francisco</td>\n",
              "      <td>CA</td>\n",
              "      <td>RentLingo</td>\n",
              "      <td>2019-12-22 11:45:21</td>\n",
              "      <td>Studio apartment 57 Taylor StreetSan Francisco</td>\n",
              "      <td>POINT (-122.43790 37.75990)</td>\n",
              "    </tr>\n",
              "    <tr>\n",
              "      <th>15</th>\n",
              "      <td>1.0</td>\n",
              "      <td>1.0</td>\n",
              "      <td>Cats,Dogs</td>\n",
              "      <td>1560</td>\n",
              "      <td>200</td>\n",
              "      <td>New Bern</td>\n",
              "      <td>NC</td>\n",
              "      <td>ListedBuy</td>\n",
              "      <td>2019-12-17 21:27:56</td>\n",
              "      <td>Studio Cottage 214New Bern</td>\n",
              "      <td>POINT (-77.06090 35.08470)</td>\n",
              "    </tr>\n",
              "  </tbody>\n",
              "</table>\n",
              "</div>"
            ],
            "text/plain": [
              "    bathrooms  ...                     geometry\n",
              "2         1.0  ...   POINT (-77.08160 38.89100)\n",
              "3         1.0  ...  POINT (-122.32750 47.61600)\n",
              "8         1.0  ...  POINT (-122.43790 37.75990)\n",
              "14        1.0  ...  POINT (-122.43790 37.75990)\n",
              "15        1.0  ...   POINT (-77.06090 35.08470)\n",
              "\n",
              "[5 rows x 11 columns]"
            ]
          },
          "metadata": {
            "tags": []
          },
          "execution_count": 158
        }
      ]
    },
    {
      "cell_type": "code",
      "metadata": {
        "id": "-6ikMurCy4kL",
        "colab": {
          "base_uri": "https://localhost:8080/",
          "height": 166
        },
        "outputId": "e703be0e-6683-4b54-da05-b95bd05357e6"
      },
      "source": [
        "string_df.describe()"
      ],
      "execution_count": 159,
      "outputs": [
        {
          "output_type": "execute_result",
          "data": {
            "text/html": [
              "<div>\n",
              "<style scoped>\n",
              "    .dataframe tbody tr th:only-of-type {\n",
              "        vertical-align: middle;\n",
              "    }\n",
              "\n",
              "    .dataframe tbody tr th {\n",
              "        vertical-align: top;\n",
              "    }\n",
              "\n",
              "    .dataframe thead th {\n",
              "        text-align: right;\n",
              "    }\n",
              "</style>\n",
              "<table border=\"1\" class=\"dataframe\">\n",
              "  <thead>\n",
              "    <tr style=\"text-align: right;\">\n",
              "      <th></th>\n",
              "      <th>pets_allowed</th>\n",
              "      <th>cityname</th>\n",
              "      <th>state</th>\n",
              "      <th>source</th>\n",
              "    </tr>\n",
              "  </thead>\n",
              "  <tbody>\n",
              "    <tr>\n",
              "      <th>count</th>\n",
              "      <td>8139</td>\n",
              "      <td>8139</td>\n",
              "      <td>8139</td>\n",
              "      <td>8139</td>\n",
              "    </tr>\n",
              "    <tr>\n",
              "      <th>unique</th>\n",
              "      <td>4</td>\n",
              "      <td>1436</td>\n",
              "      <td>51</td>\n",
              "      <td>10</td>\n",
              "    </tr>\n",
              "    <tr>\n",
              "      <th>top</th>\n",
              "      <td>Cats,Dogs</td>\n",
              "      <td>Austin</td>\n",
              "      <td>TX</td>\n",
              "      <td>RentLingo</td>\n",
              "    </tr>\n",
              "    <tr>\n",
              "      <th>freq</th>\n",
              "      <td>5171</td>\n",
              "      <td>522</td>\n",
              "      <td>1555</td>\n",
              "      <td>6803</td>\n",
              "    </tr>\n",
              "  </tbody>\n",
              "</table>\n",
              "</div>"
            ],
            "text/plain": [
              "       pets_allowed cityname state     source\n",
              "count          8139     8139  8139       8139\n",
              "unique            4     1436    51         10\n",
              "top       Cats,Dogs   Austin    TX  RentLingo\n",
              "freq           5171      522  1555       6803"
            ]
          },
          "metadata": {
            "tags": []
          },
          "execution_count": 159
        }
      ]
    },
    {
      "cell_type": "code",
      "metadata": {
        "id": "wl6VR4jlzx6P",
        "colab": {
          "base_uri": "https://localhost:8080/",
          "height": 77
        },
        "outputId": "15f92c7f-a7ff-4414-b501-165a5008d1ec"
      },
      "source": [
        "string_df.mode()"
      ],
      "execution_count": 160,
      "outputs": [
        {
          "output_type": "execute_result",
          "data": {
            "text/html": [
              "<div>\n",
              "<style scoped>\n",
              "    .dataframe tbody tr th:only-of-type {\n",
              "        vertical-align: middle;\n",
              "    }\n",
              "\n",
              "    .dataframe tbody tr th {\n",
              "        vertical-align: top;\n",
              "    }\n",
              "\n",
              "    .dataframe thead th {\n",
              "        text-align: right;\n",
              "    }\n",
              "</style>\n",
              "<table border=\"1\" class=\"dataframe\">\n",
              "  <thead>\n",
              "    <tr style=\"text-align: right;\">\n",
              "      <th></th>\n",
              "      <th>pets_allowed</th>\n",
              "      <th>cityname</th>\n",
              "      <th>state</th>\n",
              "      <th>source</th>\n",
              "    </tr>\n",
              "  </thead>\n",
              "  <tbody>\n",
              "    <tr>\n",
              "      <th>0</th>\n",
              "      <td>Cats,Dogs</td>\n",
              "      <td>Austin</td>\n",
              "      <td>TX</td>\n",
              "      <td>RentLingo</td>\n",
              "    </tr>\n",
              "  </tbody>\n",
              "</table>\n",
              "</div>"
            ],
            "text/plain": [
              "  pets_allowed cityname state     source\n",
              "0    Cats,Dogs   Austin    TX  RentLingo"
            ]
          },
          "metadata": {
            "tags": []
          },
          "execution_count": 160
        }
      ]
    },
    {
      "cell_type": "code",
      "metadata": {
        "id": "nkbxifAFxLJl",
        "colab": {
          "base_uri": "https://localhost:8080/"
        },
        "outputId": "578055d0-b948-4ac7-cf62-dcdee6b72f4b"
      },
      "source": [
        "# Mean: average value\n",
        "number_df.mean()\n",
        "# to_calculate.head()"
      ],
      "execution_count": 161,
      "outputs": [
        {
          "output_type": "execute_result",
          "data": {
            "text/plain": [
              "bathrooms         1.370439\n",
              "bedrooms          1.756113\n",
              "price          1469.960315\n",
              "square_feet     943.121514\n",
              "dtype: float64"
            ]
          },
          "metadata": {
            "tags": []
          },
          "execution_count": 161
        }
      ]
    },
    {
      "cell_type": "code",
      "metadata": {
        "id": "8d6hYlnTyIKe",
        "colab": {
          "base_uri": "https://localhost:8080/"
        },
        "outputId": "9bec0580-6c42-4ba4-abe9-927a5aab4fc4"
      },
      "source": [
        "# Median: value in the middle of a sorted array\n",
        "number_df.median()"
      ],
      "execution_count": 162,
      "outputs": [
        {
          "output_type": "execute_result",
          "data": {
            "text/plain": [
              "bathrooms         1.0\n",
              "bedrooms          2.0\n",
              "price          1250.0\n",
              "square_feet     789.0\n",
              "dtype: float64"
            ]
          },
          "metadata": {
            "tags": []
          },
          "execution_count": 162
        }
      ]
    },
    {
      "cell_type": "code",
      "metadata": {
        "id": "Ls1EU_tiyi1Q",
        "colab": {
          "base_uri": "https://localhost:8080/",
          "height": 77
        },
        "outputId": "e37f2879-75ab-48d0-aad4-ff13fef3fe96"
      },
      "source": [
        "# Mode: most frequent value in column\n",
        "number_df.mode()"
      ],
      "execution_count": 163,
      "outputs": [
        {
          "output_type": "execute_result",
          "data": {
            "text/html": [
              "<div>\n",
              "<style scoped>\n",
              "    .dataframe tbody tr th:only-of-type {\n",
              "        vertical-align: middle;\n",
              "    }\n",
              "\n",
              "    .dataframe tbody tr th {\n",
              "        vertical-align: top;\n",
              "    }\n",
              "\n",
              "    .dataframe thead th {\n",
              "        text-align: right;\n",
              "    }\n",
              "</style>\n",
              "<table border=\"1\" class=\"dataframe\">\n",
              "  <thead>\n",
              "    <tr style=\"text-align: right;\">\n",
              "      <th></th>\n",
              "      <th>bathrooms</th>\n",
              "      <th>bedrooms</th>\n",
              "      <th>price</th>\n",
              "      <th>square_feet</th>\n",
              "    </tr>\n",
              "  </thead>\n",
              "  <tbody>\n",
              "    <tr>\n",
              "      <th>0</th>\n",
              "      <td>1.0</td>\n",
              "      <td>1.0</td>\n",
              "      <td>1350</td>\n",
              "      <td>700</td>\n",
              "    </tr>\n",
              "  </tbody>\n",
              "</table>\n",
              "</div>"
            ],
            "text/plain": [
              "   bathrooms  bedrooms  price  square_feet\n",
              "0        1.0       1.0   1350          700"
            ]
          },
          "metadata": {
            "tags": []
          },
          "execution_count": 163
        }
      ]
    },
    {
      "cell_type": "code",
      "metadata": {
        "id": "X9SqgFej15my",
        "outputId": "67af9be2-65ce-407e-94c6-5920e5e2447b",
        "colab": {
          "base_uri": "https://localhost:8080/"
        }
      },
      "source": [
        "# Standard deviation (SD) = variance^0.5\n",
        "number_df.std()"
      ],
      "execution_count": 164,
      "outputs": [
        {
          "output_type": "execute_result",
          "data": {
            "text/plain": [
              "bathrooms        0.630210\n",
              "bedrooms         0.986072\n",
              "price          967.711055\n",
              "square_feet    563.385424\n",
              "dtype: float64"
            ]
          },
          "metadata": {
            "tags": []
          },
          "execution_count": 164
        }
      ]
    },
    {
      "cell_type": "code",
      "metadata": {
        "id": "UDrOTkME2Gr8",
        "outputId": "98b390fa-cc94-4b82-aa9a-cb67cce5bf8e",
        "colab": {
          "base_uri": "https://localhost:8080/"
        }
      },
      "source": [
        "# IQR he interquartile range (IQR), also called the midspread, \n",
        "# middle 50%, or H‑spread, is a measure of statistical dispersion, being equal to the difference between 75th and 25th percentiles\n",
        "Q1 = number_df.quantile(0.25)\n",
        "Q3 = number_df.quantile(0.75)\n",
        "IQR = Q3 - Q1\n",
        "print(IQR)"
      ],
      "execution_count": 171,
      "outputs": [
        {
          "output_type": "stream",
          "text": [
            "bathrooms        1.0\n",
            "bedrooms         1.0\n",
            "price          750.0\n",
            "square_feet    475.0\n",
            "dtype: float64\n"
          ],
          "name": "stdout"
        }
      ]
    }
  ]
}